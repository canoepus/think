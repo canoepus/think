{
 "cells": [
  {
   "cell_type": "markdown",
   "metadata": {},
   "source": [
    "### STEP 2: Introducing and Loading the Dataset -- Esther"
   ]
  },
  {
   "cell_type": "markdown",
   "metadata": {},
   "source": [
    "#### Installing and importing libraries"
   ]
  },
  {
   "cell_type": "code",
<<<<<<< HEAD
   "execution_count": 4,
=======
   "execution_count": 1,
>>>>>>> a927a5c88a4b424b1b9579f1a83d4009a89f074d
   "metadata": {},
   "outputs": [
    {
     "name": "stdout",
     "output_type": "stream",
     "text": [
<<<<<<< HEAD
      "Requirement already satisfied: scipy in /opt/homebrew/lib/python3.11/site-packages (1.13.0)\n",
      "Requirement already satisfied: numpy<2.3,>=1.22.4 in /opt/homebrew/lib/python3.11/site-packages (from scipy) (1.24.2)\n",
      "\n",
      "\u001b[1m[\u001b[0m\u001b[34;49mnotice\u001b[0m\u001b[1;39;49m]\u001b[0m\u001b[39;49m A new release of pip is available: \u001b[0m\u001b[31;49m23.2.1\u001b[0m\u001b[39;49m -> \u001b[0m\u001b[32;49m24.0\u001b[0m\n",
      "\u001b[1m[\u001b[0m\u001b[34;49mnotice\u001b[0m\u001b[1;39;49m]\u001b[0m\u001b[39;49m To update, run: \u001b[0m\u001b[32;49mpython3.11 -m pip install --upgrade pip\u001b[0m\n",
      "Note: you may need to restart the kernel to use updated packages.\n",
      "Requirement already satisfied: matplotlib in /opt/homebrew/lib/python3.11/site-packages (3.8.3)\n",
      "Requirement already satisfied: contourpy>=1.0.1 in /opt/homebrew/lib/python3.11/site-packages (from matplotlib) (1.2.0)\n",
      "Requirement already satisfied: cycler>=0.10 in /opt/homebrew/lib/python3.11/site-packages (from matplotlib) (0.12.1)\n",
      "Requirement already satisfied: fonttools>=4.22.0 in /opt/homebrew/lib/python3.11/site-packages (from matplotlib) (4.49.0)\n",
      "Requirement already satisfied: kiwisolver>=1.3.1 in /opt/homebrew/lib/python3.11/site-packages (from matplotlib) (1.4.5)\n",
      "Requirement already satisfied: numpy<2,>=1.21 in /opt/homebrew/lib/python3.11/site-packages (from matplotlib) (1.24.2)\n",
      "Requirement already satisfied: packaging>=20.0 in /opt/homebrew/lib/python3.11/site-packages (from matplotlib) (23.2)\n",
      "Requirement already satisfied: pillow>=8 in /opt/homebrew/lib/python3.11/site-packages (from matplotlib) (10.2.0)\n",
      "Requirement already satisfied: pyparsing>=2.3.1 in /opt/homebrew/lib/python3.11/site-packages (from matplotlib) (3.1.1)\n",
      "Requirement already satisfied: python-dateutil>=2.7 in /opt/homebrew/lib/python3.11/site-packages (from matplotlib) (2.8.2)\n",
      "Requirement already satisfied: six>=1.5 in /opt/homebrew/lib/python3.11/site-packages (from python-dateutil>=2.7->matplotlib) (1.16.0)\n",
      "\n",
      "\u001b[1m[\u001b[0m\u001b[34;49mnotice\u001b[0m\u001b[1;39;49m]\u001b[0m\u001b[39;49m A new release of pip is available: \u001b[0m\u001b[31;49m23.2.1\u001b[0m\u001b[39;49m -> \u001b[0m\u001b[32;49m24.0\u001b[0m\n",
      "\u001b[1m[\u001b[0m\u001b[34;49mnotice\u001b[0m\u001b[1;39;49m]\u001b[0m\u001b[39;49m To update, run: \u001b[0m\u001b[32;49mpython3.11 -m pip install --upgrade pip\u001b[0m\n",
      "Note: you may need to restart the kernel to use updated packages.\n",
      "Requirement already satisfied: numpy in /opt/homebrew/lib/python3.11/site-packages (1.24.2)\n",
      "\n",
      "\u001b[1m[\u001b[0m\u001b[34;49mnotice\u001b[0m\u001b[1;39;49m]\u001b[0m\u001b[39;49m A new release of pip is available: \u001b[0m\u001b[31;49m23.2.1\u001b[0m\u001b[39;49m -> \u001b[0m\u001b[32;49m24.0\u001b[0m\n",
      "\u001b[1m[\u001b[0m\u001b[34;49mnotice\u001b[0m\u001b[1;39;49m]\u001b[0m\u001b[39;49m To update, run: \u001b[0m\u001b[32;49mpython3.11 -m pip install --upgrade pip\u001b[0m\n",
      "Note: you may need to restart the kernel to use updated packages.\n",
      "Requirement already satisfied: pandas in /opt/homebrew/lib/python3.11/site-packages (2.2.1)\n",
      "Requirement already satisfied: numpy<2,>=1.23.2 in /opt/homebrew/lib/python3.11/site-packages (from pandas) (1.24.2)\n",
      "Requirement already satisfied: python-dateutil>=2.8.2 in /opt/homebrew/lib/python3.11/site-packages (from pandas) (2.8.2)\n",
      "Requirement already satisfied: pytz>=2020.1 in /opt/homebrew/lib/python3.11/site-packages (from pandas) (2024.1)\n",
      "Requirement already satisfied: tzdata>=2022.7 in /opt/homebrew/lib/python3.11/site-packages (from pandas) (2024.1)\n",
      "Requirement already satisfied: six>=1.5 in /opt/homebrew/lib/python3.11/site-packages (from python-dateutil>=2.8.2->pandas) (1.16.0)\n",
      "\n",
      "\u001b[1m[\u001b[0m\u001b[34;49mnotice\u001b[0m\u001b[1;39;49m]\u001b[0m\u001b[39;49m A new release of pip is available: \u001b[0m\u001b[31;49m23.2.1\u001b[0m\u001b[39;49m -> \u001b[0m\u001b[32;49m24.0\u001b[0m\n",
      "\u001b[1m[\u001b[0m\u001b[34;49mnotice\u001b[0m\u001b[1;39;49m]\u001b[0m\u001b[39;49m To update, run: \u001b[0m\u001b[32;49mpython3.11 -m pip install --upgrade pip\u001b[0m\n",
      "Note: you may need to restart the kernel to use updated packages.\n",
      "Requirement already satisfied: seaborn in /opt/homebrew/lib/python3.11/site-packages (0.13.2)\n",
      "Requirement already satisfied: numpy!=1.24.0,>=1.20 in /opt/homebrew/lib/python3.11/site-packages (from seaborn) (1.24.2)\n",
      "Requirement already satisfied: pandas>=1.2 in /opt/homebrew/lib/python3.11/site-packages (from seaborn) (2.2.1)\n",
      "Requirement already satisfied: matplotlib!=3.6.1,>=3.4 in /opt/homebrew/lib/python3.11/site-packages (from seaborn) (3.8.3)\n",
      "Requirement already satisfied: contourpy>=1.0.1 in /opt/homebrew/lib/python3.11/site-packages (from matplotlib!=3.6.1,>=3.4->seaborn) (1.2.0)\n",
      "Requirement already satisfied: cycler>=0.10 in /opt/homebrew/lib/python3.11/site-packages (from matplotlib!=3.6.1,>=3.4->seaborn) (0.12.1)\n",
      "Requirement already satisfied: fonttools>=4.22.0 in /opt/homebrew/lib/python3.11/site-packages (from matplotlib!=3.6.1,>=3.4->seaborn) (4.49.0)\n",
      "Requirement already satisfied: kiwisolver>=1.3.1 in /opt/homebrew/lib/python3.11/site-packages (from matplotlib!=3.6.1,>=3.4->seaborn) (1.4.5)\n",
      "Requirement already satisfied: packaging>=20.0 in /opt/homebrew/lib/python3.11/site-packages (from matplotlib!=3.6.1,>=3.4->seaborn) (23.2)\n",
      "Requirement already satisfied: pillow>=8 in /opt/homebrew/lib/python3.11/site-packages (from matplotlib!=3.6.1,>=3.4->seaborn) (10.2.0)\n",
      "Requirement already satisfied: pyparsing>=2.3.1 in /opt/homebrew/lib/python3.11/site-packages (from matplotlib!=3.6.1,>=3.4->seaborn) (3.1.1)\n",
      "Requirement already satisfied: python-dateutil>=2.7 in /opt/homebrew/lib/python3.11/site-packages (from matplotlib!=3.6.1,>=3.4->seaborn) (2.8.2)\n",
      "Requirement already satisfied: pytz>=2020.1 in /opt/homebrew/lib/python3.11/site-packages (from pandas>=1.2->seaborn) (2024.1)\n",
      "Requirement already satisfied: tzdata>=2022.7 in /opt/homebrew/lib/python3.11/site-packages (from pandas>=1.2->seaborn) (2024.1)\n",
      "Requirement already satisfied: six>=1.5 in /opt/homebrew/lib/python3.11/site-packages (from python-dateutil>=2.7->matplotlib!=3.6.1,>=3.4->seaborn) (1.16.0)\n",
      "\n",
      "\u001b[1m[\u001b[0m\u001b[34;49mnotice\u001b[0m\u001b[1;39;49m]\u001b[0m\u001b[39;49m A new release of pip is available: \u001b[0m\u001b[31;49m23.2.1\u001b[0m\u001b[39;49m -> \u001b[0m\u001b[32;49m24.0\u001b[0m\n",
      "\u001b[1m[\u001b[0m\u001b[34;49mnotice\u001b[0m\u001b[1;39;49m]\u001b[0m\u001b[39;49m To update, run: \u001b[0m\u001b[32;49mpython3.11 -m pip install --upgrade pip\u001b[0m\n",
      "Note: you may need to restart the kernel to use updated packages.\n",
      "Requirement already satisfied: scikit-learn in /opt/homebrew/lib/python3.11/site-packages (1.4.2)\n",
      "Requirement already satisfied: numpy>=1.19.5 in /opt/homebrew/lib/python3.11/site-packages (from scikit-learn) (1.24.2)\n",
      "Requirement already satisfied: scipy>=1.6.0 in /opt/homebrew/lib/python3.11/site-packages (from scikit-learn) (1.13.0)\n",
      "Requirement already satisfied: joblib>=1.2.0 in /opt/homebrew/lib/python3.11/site-packages (from scikit-learn) (1.3.2)\n",
      "Requirement already satisfied: threadpoolctl>=2.0.0 in /opt/homebrew/lib/python3.11/site-packages (from scikit-learn) (3.4.0)\n",
      "\n",
      "\u001b[1m[\u001b[0m\u001b[34;49mnotice\u001b[0m\u001b[1;39;49m]\u001b[0m\u001b[39;49m A new release of pip is available: \u001b[0m\u001b[31;49m23.2.1\u001b[0m\u001b[39;49m -> \u001b[0m\u001b[32;49m24.0\u001b[0m\n",
      "\u001b[1m[\u001b[0m\u001b[34;49mnotice\u001b[0m\u001b[1;39;49m]\u001b[0m\u001b[39;49m To update, run: \u001b[0m\u001b[32;49mpython3.11 -m pip install --upgrade pip\u001b[0m\n",
=======
      "Requirement already satisfied: scipy in /Users/riajain/anaconda3/lib/python3.11/site-packages (1.11.1)\n",
      "Requirement already satisfied: numpy<1.28.0,>=1.21.6 in /Users/riajain/anaconda3/lib/python3.11/site-packages (from scipy) (1.24.3)\n",
      "Note: you may need to restart the kernel to use updated packages.\n",
      "Requirement already satisfied: matplotlib in /Users/riajain/anaconda3/lib/python3.11/site-packages (3.7.2)\n",
      "Requirement already satisfied: contourpy>=1.0.1 in /Users/riajain/anaconda3/lib/python3.11/site-packages (from matplotlib) (1.0.5)\n",
      "Requirement already satisfied: cycler>=0.10 in /Users/riajain/anaconda3/lib/python3.11/site-packages (from matplotlib) (0.11.0)\n",
      "Requirement already satisfied: fonttools>=4.22.0 in /Users/riajain/anaconda3/lib/python3.11/site-packages (from matplotlib) (4.25.0)\n",
      "Requirement already satisfied: kiwisolver>=1.0.1 in /Users/riajain/anaconda3/lib/python3.11/site-packages (from matplotlib) (1.4.4)\n",
      "Requirement already satisfied: numpy>=1.20 in /Users/riajain/anaconda3/lib/python3.11/site-packages (from matplotlib) (1.24.3)\n",
      "Requirement already satisfied: packaging>=20.0 in /Users/riajain/anaconda3/lib/python3.11/site-packages (from matplotlib) (23.1)\n",
      "Requirement already satisfied: pillow>=6.2.0 in /Users/riajain/anaconda3/lib/python3.11/site-packages (from matplotlib) (9.4.0)\n",
      "Requirement already satisfied: pyparsing<3.1,>=2.3.1 in /Users/riajain/anaconda3/lib/python3.11/site-packages (from matplotlib) (3.0.9)\n",
      "Requirement already satisfied: python-dateutil>=2.7 in /Users/riajain/anaconda3/lib/python3.11/site-packages (from matplotlib) (2.8.2)\n",
      "Requirement already satisfied: six>=1.5 in /Users/riajain/anaconda3/lib/python3.11/site-packages (from python-dateutil>=2.7->matplotlib) (1.16.0)\n",
      "Note: you may need to restart the kernel to use updated packages.\n",
      "Requirement already satisfied: numpy in /Users/riajain/anaconda3/lib/python3.11/site-packages (1.24.3)\n",
      "Note: you may need to restart the kernel to use updated packages.\n",
      "Requirement already satisfied: pandas in /Users/riajain/anaconda3/lib/python3.11/site-packages (2.0.3)\n",
      "Requirement already satisfied: python-dateutil>=2.8.2 in /Users/riajain/anaconda3/lib/python3.11/site-packages (from pandas) (2.8.2)\n",
      "Requirement already satisfied: pytz>=2020.1 in /Users/riajain/anaconda3/lib/python3.11/site-packages (from pandas) (2023.3.post1)\n",
      "Requirement already satisfied: tzdata>=2022.1 in /Users/riajain/anaconda3/lib/python3.11/site-packages (from pandas) (2023.3)\n",
      "Requirement already satisfied: numpy>=1.21.0 in /Users/riajain/anaconda3/lib/python3.11/site-packages (from pandas) (1.24.3)\n",
      "Requirement already satisfied: six>=1.5 in /Users/riajain/anaconda3/lib/python3.11/site-packages (from python-dateutil>=2.8.2->pandas) (1.16.0)\n",
      "Note: you may need to restart the kernel to use updated packages.\n",
      "Requirement already satisfied: seaborn in /Users/riajain/anaconda3/lib/python3.11/site-packages (0.12.2)\n",
      "Requirement already satisfied: numpy!=1.24.0,>=1.17 in /Users/riajain/anaconda3/lib/python3.11/site-packages (from seaborn) (1.24.3)\n",
      "Requirement already satisfied: pandas>=0.25 in /Users/riajain/anaconda3/lib/python3.11/site-packages (from seaborn) (2.0.3)\n",
      "Requirement already satisfied: matplotlib!=3.6.1,>=3.1 in /Users/riajain/anaconda3/lib/python3.11/site-packages (from seaborn) (3.7.2)\n",
      "Requirement already satisfied: contourpy>=1.0.1 in /Users/riajain/anaconda3/lib/python3.11/site-packages (from matplotlib!=3.6.1,>=3.1->seaborn) (1.0.5)\n",
      "Requirement already satisfied: cycler>=0.10 in /Users/riajain/anaconda3/lib/python3.11/site-packages (from matplotlib!=3.6.1,>=3.1->seaborn) (0.11.0)\n",
      "Requirement already satisfied: fonttools>=4.22.0 in /Users/riajain/anaconda3/lib/python3.11/site-packages (from matplotlib!=3.6.1,>=3.1->seaborn) (4.25.0)\n",
      "Requirement already satisfied: kiwisolver>=1.0.1 in /Users/riajain/anaconda3/lib/python3.11/site-packages (from matplotlib!=3.6.1,>=3.1->seaborn) (1.4.4)\n",
      "Requirement already satisfied: packaging>=20.0 in /Users/riajain/anaconda3/lib/python3.11/site-packages (from matplotlib!=3.6.1,>=3.1->seaborn) (23.1)\n",
      "Requirement already satisfied: pillow>=6.2.0 in /Users/riajain/anaconda3/lib/python3.11/site-packages (from matplotlib!=3.6.1,>=3.1->seaborn) (9.4.0)\n",
      "Requirement already satisfied: pyparsing<3.1,>=2.3.1 in /Users/riajain/anaconda3/lib/python3.11/site-packages (from matplotlib!=3.6.1,>=3.1->seaborn) (3.0.9)\n",
      "Requirement already satisfied: python-dateutil>=2.7 in /Users/riajain/anaconda3/lib/python3.11/site-packages (from matplotlib!=3.6.1,>=3.1->seaborn) (2.8.2)\n",
      "Requirement already satisfied: pytz>=2020.1 in /Users/riajain/anaconda3/lib/python3.11/site-packages (from pandas>=0.25->seaborn) (2023.3.post1)\n",
      "Requirement already satisfied: tzdata>=2022.1 in /Users/riajain/anaconda3/lib/python3.11/site-packages (from pandas>=0.25->seaborn) (2023.3)\n",
      "Requirement already satisfied: six>=1.5 in /Users/riajain/anaconda3/lib/python3.11/site-packages (from python-dateutil>=2.7->matplotlib!=3.6.1,>=3.1->seaborn) (1.16.0)\n",
      "Note: you may need to restart the kernel to use updated packages.\n",
      "Requirement already satisfied: scikit-learn in /Users/riajain/anaconda3/lib/python3.11/site-packages (1.2.2)\n",
      "Requirement already satisfied: numpy>=1.17.3 in /Users/riajain/anaconda3/lib/python3.11/site-packages (from scikit-learn) (1.24.3)\n",
      "Requirement already satisfied: scipy>=1.3.2 in /Users/riajain/anaconda3/lib/python3.11/site-packages (from scikit-learn) (1.11.1)\n",
      "Requirement already satisfied: joblib>=1.1.1 in /Users/riajain/anaconda3/lib/python3.11/site-packages (from scikit-learn) (1.2.0)\n",
      "Requirement already satisfied: threadpoolctl>=2.0.0 in /Users/riajain/anaconda3/lib/python3.11/site-packages (from scikit-learn) (2.2.0)\n",
      "Note: you may need to restart the kernel to use updated packages.\n",
      "Requirement already satisfied: imbalanced-learn in /Users/riajain/anaconda3/lib/python3.11/site-packages (0.12.2)\n",
      "Requirement already satisfied: numpy>=1.17.3 in /Users/riajain/anaconda3/lib/python3.11/site-packages (from imbalanced-learn) (1.24.3)\n",
      "Requirement already satisfied: scipy>=1.5.0 in /Users/riajain/anaconda3/lib/python3.11/site-packages (from imbalanced-learn) (1.11.1)\n",
      "Requirement already satisfied: scikit-learn>=1.0.2 in /Users/riajain/anaconda3/lib/python3.11/site-packages (from imbalanced-learn) (1.2.2)\n",
      "Requirement already satisfied: joblib>=1.1.1 in /Users/riajain/anaconda3/lib/python3.11/site-packages (from imbalanced-learn) (1.2.0)\n",
      "Requirement already satisfied: threadpoolctl>=2.0.0 in /Users/riajain/anaconda3/lib/python3.11/site-packages (from imbalanced-learn) (2.2.0)\n",
>>>>>>> a927a5c88a4b424b1b9579f1a83d4009a89f074d
      "Note: you may need to restart the kernel to use updated packages.\n"
     ]
    }
   ],
   "source": [
    "%pip install scipy\n",
    "%pip install matplotlib\n",
    "%pip install numpy\n",
    "%pip install pandas\n",
    "%pip install seaborn\n",
    "%pip install scikit-learn"
   ]
  },
  {
   "cell_type": "code",
   "execution_count": 2,
   "metadata": {},
   "outputs": [],
   "source": [
    "import numpy as np \n",
    "import pandas as pd\n",
    "import matplotlib.pyplot as plt\n",
    "import seaborn as sns\n",
    "from sklearn.manifold import TSNE\n",
    "from sklearn.decomposition import PCA, TruncatedSVD\n",
    "import matplotlib.patches as mpatches\n",
    "import time"
   ]
  },
  {
   "cell_type": "code",
   "execution_count": 15,
   "metadata": {},
   "outputs": [
    {
     "data": {
      "text/plain": [
       "(284807, 31)"
      ]
     },
     "execution_count": 15,
     "metadata": {},
     "output_type": "execute_result"
    }
   ],
   "source": [
    "# Load in the dataset from a csv\n",
    "csv = pd.read_csv('data/creditcard.csv')\n",
    "\n",
    "# Convert the data to a pandas dataframe\n",
    "cc_data = pd.DataFrame(csv)\n",
    "\n",
    "# Get the shape of the dataframe: (rows, columns)\n",
    "cc_data.shape"
   ]
  },
  {
   "cell_type": "code",
   "execution_count": 16,
   "metadata": {},
   "outputs": [
    {
     "data": {
      "text/html": [
       "<div>\n",
       "<style scoped>\n",
       "    .dataframe tbody tr th:only-of-type {\n",
       "        vertical-align: middle;\n",
       "    }\n",
       "\n",
       "    .dataframe tbody tr th {\n",
       "        vertical-align: top;\n",
       "    }\n",
       "\n",
       "    .dataframe thead th {\n",
       "        text-align: right;\n",
       "    }\n",
       "</style>\n",
       "<table border=\"1\" class=\"dataframe\">\n",
       "  <thead>\n",
       "    <tr style=\"text-align: right;\">\n",
       "      <th></th>\n",
       "      <th>Time</th>\n",
       "      <th>V1</th>\n",
       "      <th>V2</th>\n",
       "      <th>V3</th>\n",
       "      <th>V4</th>\n",
       "      <th>V5</th>\n",
       "      <th>V6</th>\n",
       "      <th>V7</th>\n",
       "      <th>V8</th>\n",
       "      <th>V9</th>\n",
       "      <th>...</th>\n",
       "      <th>V21</th>\n",
       "      <th>V22</th>\n",
       "      <th>V23</th>\n",
       "      <th>V24</th>\n",
       "      <th>V25</th>\n",
       "      <th>V26</th>\n",
       "      <th>V27</th>\n",
       "      <th>V28</th>\n",
       "      <th>Amount</th>\n",
       "      <th>Class</th>\n",
       "    </tr>\n",
       "  </thead>\n",
       "  <tbody>\n",
       "    <tr>\n",
<<<<<<< HEAD
       "      <th>205910</th>\n",
       "      <td>135967.0</td>\n",
       "      <td>0.062690</td>\n",
       "      <td>0.678567</td>\n",
       "      <td>-1.468860</td>\n",
       "      <td>-1.560020</td>\n",
       "      <td>3.194188</td>\n",
       "      <td>3.264803</td>\n",
       "      <td>0.435747</td>\n",
       "      <td>0.870444</td>\n",
       "      <td>-0.368149</td>\n",
       "      <td>...</td>\n",
       "      <td>-0.272509</td>\n",
       "      <td>-0.850037</td>\n",
       "      <td>0.071537</td>\n",
       "      <td>0.599335</td>\n",
       "      <td>-0.514333</td>\n",
       "      <td>0.148846</td>\n",
       "      <td>0.049529</td>\n",
       "      <td>0.074597</td>\n",
       "      <td>4.49</td>\n",
       "      <td>0</td>\n",
       "    </tr>\n",
       "    <tr>\n",
       "      <th>201611</th>\n",
       "      <td>133964.0</td>\n",
       "      <td>0.158362</td>\n",
       "      <td>1.225332</td>\n",
       "      <td>0.869701</td>\n",
       "      <td>2.458392</td>\n",
       "      <td>1.305696</td>\n",
       "      <td>0.438074</td>\n",
       "      <td>1.042112</td>\n",
       "      <td>-0.063737</td>\n",
       "      <td>-1.280418</td>\n",
       "      <td>...</td>\n",
       "      <td>-0.497356</td>\n",
       "      <td>-1.521247</td>\n",
       "      <td>0.159402</td>\n",
       "      <td>-1.246548</td>\n",
       "      <td>-0.857361</td>\n",
       "      <td>-0.668322</td>\n",
       "      <td>-0.122106</td>\n",
       "      <td>-0.171481</td>\n",
       "      <td>7.58</td>\n",
       "      <td>0</td>\n",
       "    </tr>\n",
       "    <tr>\n",
       "      <th>118220</th>\n",
       "      <td>74998.0</td>\n",
       "      <td>0.858278</td>\n",
       "      <td>-0.432435</td>\n",
       "      <td>0.349065</td>\n",
       "      <td>0.572747</td>\n",
       "      <td>0.217796</td>\n",
       "      <td>1.664819</td>\n",
       "      <td>-0.375621</td>\n",
       "      <td>0.602209</td>\n",
       "      <td>0.211650</td>\n",
       "      <td>...</td>\n",
       "      <td>-0.018132</td>\n",
       "      <td>0.066197</td>\n",
       "      <td>0.064401</td>\n",
       "      <td>-0.988854</td>\n",
       "      <td>0.074345</td>\n",
       "      <td>0.373416</td>\n",
       "      <td>0.029815</td>\n",
       "      <td>0.000391</td>\n",
       "      <td>81.34</td>\n",
       "      <td>0</td>\n",
       "    </tr>\n",
       "    <tr>\n",
       "      <th>199181</th>\n",
       "      <td>132844.0</td>\n",
       "      <td>0.037726</td>\n",
       "      <td>0.885038</td>\n",
       "      <td>0.297772</td>\n",
       "      <td>-0.596567</td>\n",
       "      <td>0.461205</td>\n",
       "      <td>-1.028412</td>\n",
       "      <td>1.026881</td>\n",
       "      <td>-0.201617</td>\n",
       "      <td>-0.097803</td>\n",
       "      <td>...</td>\n",
       "      <td>-0.250702</td>\n",
       "      <td>-0.519799</td>\n",
       "      <td>0.073256</td>\n",
       "      <td>-0.010947</td>\n",
       "      <td>-0.492770</td>\n",
       "      <td>0.142256</td>\n",
       "      <td>0.252461</td>\n",
       "      <td>0.097542</td>\n",
       "      <td>3.96</td>\n",
       "      <td>0</td>\n",
       "    </tr>\n",
       "    <tr>\n",
       "      <th>238158</th>\n",
       "      <td>149554.0</td>\n",
       "      <td>-4.982520</td>\n",
       "      <td>-7.003254</td>\n",
       "      <td>-0.933225</td>\n",
       "      <td>2.629323</td>\n",
       "      <td>4.375531</td>\n",
       "      <td>-2.457873</td>\n",
       "      <td>-3.098914</td>\n",
       "      <td>1.042842</td>\n",
       "      <td>0.276444</td>\n",
       "      <td>...</td>\n",
       "      <td>0.994589</td>\n",
       "      <td>0.061863</td>\n",
       "      <td>0.742641</td>\n",
       "      <td>-1.470329</td>\n",
       "      <td>-2.294274</td>\n",
       "      <td>-1.038241</td>\n",
       "      <td>0.404635</td>\n",
       "      <td>-0.741786</td>\n",
       "      <td>205.39</td>\n",
=======
       "      <th>263549</th>\n",
       "      <td>161006.0</td>\n",
       "      <td>-0.456299</td>\n",
       "      <td>1.332190</td>\n",
       "      <td>-1.376493</td>\n",
       "      <td>0.101720</td>\n",
       "      <td>1.348823</td>\n",
       "      <td>-0.956081</td>\n",
       "      <td>1.733222</td>\n",
       "      <td>0.016475</td>\n",
       "      <td>-1.435189</td>\n",
       "      <td>...</td>\n",
       "      <td>0.532147</td>\n",
       "      <td>1.397654</td>\n",
       "      <td>-0.368185</td>\n",
       "      <td>-0.455333</td>\n",
       "      <td>0.282187</td>\n",
       "      <td>-0.327520</td>\n",
       "      <td>0.016915</td>\n",
       "      <td>0.110704</td>\n",
       "      <td>56.92</td>\n",
       "      <td>0</td>\n",
       "    </tr>\n",
       "    <tr>\n",
       "      <th>14445</th>\n",
       "      <td>25593.0</td>\n",
       "      <td>0.975757</td>\n",
       "      <td>-0.265645</td>\n",
       "      <td>0.860942</td>\n",
       "      <td>1.442592</td>\n",
       "      <td>-0.626228</td>\n",
       "      <td>0.252270</td>\n",
       "      <td>-0.285323</td>\n",
       "      <td>0.119049</td>\n",
       "      <td>0.800923</td>\n",
       "      <td>...</td>\n",
       "      <td>0.035563</td>\n",
       "      <td>0.286516</td>\n",
       "      <td>-0.157020</td>\n",
       "      <td>0.127775</td>\n",
       "      <td>0.588375</td>\n",
       "      <td>-0.256890</td>\n",
       "      <td>0.063002</td>\n",
       "      <td>0.038403</td>\n",
       "      <td>85.99</td>\n",
       "      <td>0</td>\n",
       "    </tr>\n",
       "    <tr>\n",
       "      <th>167423</th>\n",
       "      <td>118674.0</td>\n",
       "      <td>0.422409</td>\n",
       "      <td>-0.077915</td>\n",
       "      <td>-0.627102</td>\n",
       "      <td>-2.159616</td>\n",
       "      <td>1.033620</td>\n",
       "      <td>-0.239596</td>\n",
       "      <td>0.925931</td>\n",
       "      <td>-0.391017</td>\n",
       "      <td>-1.238618</td>\n",
       "      <td>...</td>\n",
       "      <td>0.179324</td>\n",
       "      <td>0.659045</td>\n",
       "      <td>-0.391845</td>\n",
       "      <td>-1.347791</td>\n",
       "      <td>0.180197</td>\n",
       "      <td>-0.080456</td>\n",
       "      <td>-0.159393</td>\n",
       "      <td>-0.225118</td>\n",
       "      <td>29.90</td>\n",
       "      <td>0</td>\n",
       "    </tr>\n",
       "    <tr>\n",
       "      <th>238150</th>\n",
       "      <td>149551.0</td>\n",
       "      <td>-0.485880</td>\n",
       "      <td>0.878485</td>\n",
       "      <td>1.331879</td>\n",
       "      <td>-0.450445</td>\n",
       "      <td>0.193235</td>\n",
       "      <td>0.427032</td>\n",
       "      <td>0.053576</td>\n",
       "      <td>-0.713464</td>\n",
       "      <td>0.337485</td>\n",
       "      <td>...</td>\n",
       "      <td>1.046911</td>\n",
       "      <td>0.810503</td>\n",
       "      <td>-0.175579</td>\n",
       "      <td>0.662681</td>\n",
       "      <td>-0.190893</td>\n",
       "      <td>-0.193480</td>\n",
       "      <td>0.252587</td>\n",
       "      <td>0.187841</td>\n",
       "      <td>9.99</td>\n",
       "      <td>0</td>\n",
       "    </tr>\n",
       "    <tr>\n",
       "      <th>268717</th>\n",
       "      <td>163350.0</td>\n",
       "      <td>-3.019645</td>\n",
       "      <td>3.423214</td>\n",
       "      <td>-2.776172</td>\n",
       "      <td>-0.424464</td>\n",
       "      <td>-1.521604</td>\n",
       "      <td>-1.648566</td>\n",
       "      <td>-1.076216</td>\n",
       "      <td>2.268367</td>\n",
       "      <td>-0.189655</td>\n",
       "      <td>...</td>\n",
       "      <td>0.482439</td>\n",
       "      <td>1.231178</td>\n",
       "      <td>0.238404</td>\n",
       "      <td>0.082241</td>\n",
       "      <td>-0.365457</td>\n",
       "      <td>-0.187635</td>\n",
       "      <td>0.293957</td>\n",
       "      <td>0.246778</td>\n",
       "      <td>5.99</td>\n",
>>>>>>> a927a5c88a4b424b1b9579f1a83d4009a89f074d
       "      <td>0</td>\n",
       "    </tr>\n",
       "  </tbody>\n",
       "</table>\n",
       "<p>5 rows × 31 columns</p>\n",
       "</div>"
      ],
      "text/plain": [
       "            Time        V1        V2        V3        V4        V5        V6  \\\n",
<<<<<<< HEAD
       "205910  135967.0  0.062690  0.678567 -1.468860 -1.560020  3.194188  3.264803   \n",
       "201611  133964.0  0.158362  1.225332  0.869701  2.458392  1.305696  0.438074   \n",
       "118220   74998.0  0.858278 -0.432435  0.349065  0.572747  0.217796  1.664819   \n",
       "199181  132844.0  0.037726  0.885038  0.297772 -0.596567  0.461205 -1.028412   \n",
       "238158  149554.0 -4.982520 -7.003254 -0.933225  2.629323  4.375531 -2.457873   \n",
       "\n",
       "              V7        V8        V9  ...       V21       V22       V23  \\\n",
       "205910  0.435747  0.870444 -0.368149  ... -0.272509 -0.850037  0.071537   \n",
       "201611  1.042112 -0.063737 -1.280418  ... -0.497356 -1.521247  0.159402   \n",
       "118220 -0.375621  0.602209  0.211650  ... -0.018132  0.066197  0.064401   \n",
       "199181  1.026881 -0.201617 -0.097803  ... -0.250702 -0.519799  0.073256   \n",
       "238158 -3.098914  1.042842  0.276444  ...  0.994589  0.061863  0.742641   \n",
       "\n",
       "             V24       V25       V26       V27       V28  Amount  Class  \n",
       "205910  0.599335 -0.514333  0.148846  0.049529  0.074597    4.49      0  \n",
       "201611 -1.246548 -0.857361 -0.668322 -0.122106 -0.171481    7.58      0  \n",
       "118220 -0.988854  0.074345  0.373416  0.029815  0.000391   81.34      0  \n",
       "199181 -0.010947 -0.492770  0.142256  0.252461  0.097542    3.96      0  \n",
       "238158 -1.470329 -2.294274 -1.038241  0.404635 -0.741786  205.39      0  \n",
=======
       "263549  161006.0 -0.456299  1.332190 -1.376493  0.101720  1.348823 -0.956081   \n",
       "14445    25593.0  0.975757 -0.265645  0.860942  1.442592 -0.626228  0.252270   \n",
       "167423  118674.0  0.422409 -0.077915 -0.627102 -2.159616  1.033620 -0.239596   \n",
       "238150  149551.0 -0.485880  0.878485  1.331879 -0.450445  0.193235  0.427032   \n",
       "268717  163350.0 -3.019645  3.423214 -2.776172 -0.424464 -1.521604 -1.648566   \n",
       "\n",
       "              V7        V8        V9  ...       V21       V22       V23  \\\n",
       "263549  1.733222  0.016475 -1.435189  ...  0.532147  1.397654 -0.368185   \n",
       "14445  -0.285323  0.119049  0.800923  ...  0.035563  0.286516 -0.157020   \n",
       "167423  0.925931 -0.391017 -1.238618  ...  0.179324  0.659045 -0.391845   \n",
       "238150  0.053576 -0.713464  0.337485  ...  1.046911  0.810503 -0.175579   \n",
       "268717 -1.076216  2.268367 -0.189655  ...  0.482439  1.231178  0.238404   \n",
       "\n",
       "             V24       V25       V26       V27       V28  Amount  Class  \n",
       "263549 -0.455333  0.282187 -0.327520  0.016915  0.110704   56.92      0  \n",
       "14445   0.127775  0.588375 -0.256890  0.063002  0.038403   85.99      0  \n",
       "167423 -1.347791  0.180197 -0.080456 -0.159393 -0.225118   29.90      0  \n",
       "238150  0.662681 -0.190893 -0.193480  0.252587  0.187841    9.99      0  \n",
       "268717  0.082241 -0.365457 -0.187635  0.293957  0.246778    5.99      0  \n",
>>>>>>> a927a5c88a4b424b1b9579f1a83d4009a89f074d
       "\n",
       "[5 rows x 31 columns]"
      ]
     },
     "execution_count": 16,
     "metadata": {},
     "output_type": "execute_result"
    }
   ],
   "source": [
    "# See the first five rows of the dataframe:\n",
    "cc_data.sample(5)"
   ]
  },
  {
   "cell_type": "markdown",
   "metadata": {},
   "source": [
    "### STEP 3: Exploratory data analysis -- Ria"
   ]
  },
  {
   "cell_type": "code",
   "execution_count": 7,
   "metadata": {},
   "outputs": [
    {
     "name": "stdout",
     "output_type": "stream",
     "text": [
      "No Fraud: 99.83 % of the dataset\n",
      "Frauds: 0.17 % of the dataset\n"
     ]
    }
   ],
   "source": [
    "#recoding dataset \n",
    "print('No Frauds', round(df['Class'].value_counts()[0]/len(df) * 100,2), '% of the dataset')\n",
    "print('Frauds', round(df['Class'].value_counts()[1]/len(df) * 100,2), '% of the dataset')"
   ]
  },
  {
   "cell_type": "code",
   "execution_count": null,
   "metadata": {},
   "outputs": [],
   "source": [
    "colors = [\"#0101DF\", \"#DF0101\"]\n",
    "\n",
    "sns.countplot(data=df, x='Class', palette=colors)\n",
    "plt.title('Class Distributions \\n (0: No Fraud || 1: Fraud)', fontsize=14)"
   ]
  },
  {
   "cell_type": "markdown",
   "metadata": {},
   "source": []
  },
  {
   "cell_type": "markdown",
   "metadata": {},
   "source": [
    "## STEP 4: Data Cleaning and Initializing The Model with sklearn (no undersampling) -- MILLER"
   ]
  },
  {
   "cell_type": "markdown",
   "metadata": {},
   "source": [
    "### Data splitting"
   ]
  },
  {
   "cell_type": "code",
   "execution_count": 16,
   "metadata": {},
   "outputs": [],
   "source": [
    "#https://scikit-learn.org/stable/modules/generated/sklearn.model_selection.train_test_split.html\n",
    "\n",
    "X_train, X_test, Y_train, Y_test = train_test_split(df_no_dup['text'], \n",
    "                                                    df_no_dup['target'],\n",
    "                                                    test_size=0.3,\n",
    "                                                    random_state=0)"
   ]
  },
  {
   "cell_type": "markdown",
   "metadata": {},
   "source": [
    "### Data preparation and data cleaning"
   ]
  },
  {
   "cell_type": "code",
   "execution_count": 18,
   "metadata": {},
   "outputs": [],
   "source": [
    "def text_clean(text, method, rm_stop):\n",
    "    text = re.sub(r\"\\n\",\"\",text)   #remove line breaks\n",
    "    text = text.lower() #convert to lowercase \n",
    "    text = re.sub(r\"\\d+\",\"\",text)   #remove digits and currencies \n",
    "    text = re.sub(r'[\\$\\d+\\d+\\$]', \"\", text)      \n",
    "    text = re.sub(r'\\d+[\\.\\/-]\\d+[\\.\\/-]\\d+', '', text)   #remove dates \n",
    "    text = re.sub(r'\\d+[\\.\\/-]\\d+[\\.\\/-]\\d+', '', text)\n",
    "    text = re.sub(r'\\d+[\\.\\/-]\\d+[\\.\\/-]\\d+', '', text)\n",
    "    text = re.sub(r'[^\\x00-\\x7f]',r' ',text)   #remove non-ascii\n",
    "    text = re.sub(r'[^\\w\\s]','',text)   #remove punctuation\n",
    "    text = re.sub(r'https?:\\/\\/.*[\\r\\n]*', '', text)   #remove hyperlinks\n",
    "    \n",
    "    #remove stop words \n",
    "    if rm_stop == True:\n",
    "        filtered_tokens = [word for word in word_tokenize(text) if not word in set(stopwords.words('english'))]\n",
    "        text = \" \".join(filtered_tokens)\n",
    "        \n",
    "    #lemmatization: typically preferred over stemming\n",
    "    if method == 'L':\n",
    "        lemmer = WordNetLemmatizer()\n",
    "        lemm_tokens = [lemmer.lemmatize(word) for word in word_tokenize(text)]\n",
    "        return \" \".join(lemm_tokens)\n",
    "    \n",
    "    #stemming \n",
    "    if method == 'S':\n",
    "        porter = PorterStemmer()\n",
    "        stem_tokens = [porter.stem(word) for word in word_tokenize(text)]\n",
    "        return \" \".join(stem_tokens)\n",
    "    \n",
    "    return text"
   ]
  },
  {
   "cell_type": "code",
   "execution_count": 81,
   "metadata": {},
   "outputs": [],
   "source": [
    "#preprocessed data: Lemm + stopword removal \n",
    "preprocessed_text_1 = [text_clean(text, 'L', True) for text in X_train]\n",
    "#preprocessed_text_1[0:10]\n",
    "\n",
    "#preprocessed data: Lemm + no stopword removal \n",
    "preprocessed_text_2 = [text_clean(text, 'L', False) for text in X_train]\n",
    "#preprocessed_text_2[0:10]\n",
    "\n",
    "#preprocessed data: Stem + stopword removal \n",
    "preprocessed_text_3 = [text_clean(text, 'S', True) for text in X_train]\n",
    "#preprocessed_text_3[0:10]\n",
    "\n",
    "#preprocessed data: Stem + no stopword removal \n",
    "preprocessed_text_4 = [text_clean(text, 'S', False) for text in X_train]\n",
    "#preprocessed_text_4[0:10]"
   ]
  },
  {
   "cell_type": "markdown",
   "metadata": {},
   "source": [
    "### WE'RE USING RANDOM FORESTS AS OUR CLASSIFIER"
   ]
  },
  {
   "cell_type": "code",
   "execution_count": 125,
   "metadata": {},
   "outputs": [],
   "source": [
    "def transform_model_data_w_count_vectorizer(preprocessed_text, Y_train,  X_test, Y_test):\n",
    "    #vectorize dataset \n",
    "    vectorizer = CountVectorizer()\n",
    "    vectorized_data = vectorizer.fit_transform(preprocessed_text)\n",
    "\n",
    "    #define model\n",
    "    model = MultinomialNB(alpha=0.1)\n",
    "    model.fit(vectorized_data, Y_train)\n",
    "\n",
    "    #evaluate model\n",
    "    predictions = model.predict(vectorizer.transform(X_test))\n",
    "    accuracy = accuracy_score( Y_test, predictions)\n",
    "    balanced_accuracy = balanced_accuracy_score(Y_test, predictions)\n",
    "    precision = precision_score(Y_test, predictions)\n",
    "\n",
    "    print(\"Accuracy:\",round(100*accuracy,2),'%')\n",
    "    print(\"Balanced accuracy:\",round(100*balanced_accuracy,2),'%')\n",
    "    print(\"Precision:\", round(100*precision,2),'%')\n",
    "    return predictions"
   ]
  },
  {
   "cell_type": "code",
   "execution_count": 129,
   "metadata": {},
   "outputs": [],
   "source": [
    "def transform_model_data_w_tfidf_vectorizer(preprocessed_text, Y_train,  X_test, Y_test):\n",
    "    #vectorize dataset \n",
    "    tfidf = TfidfVectorizer() \n",
    "    vectorized_data = tfidf.fit_transform(preprocessed_text)\n",
    "\n",
    "    #define model\n",
    "    model = MultinomialNB(alpha=0.1)\n",
    "    model.fit(vectorized_data, Y_train)\n",
    " \n",
    "    #evaluate model\n",
    "    predictions = model.predict(tfidf.transform(X_test))\n",
    "\n",
    "    accuracy = accuracy_score( Y_test, predictions)\n",
    "    balanced_accuracy = balanced_accuracy_score(Y_test, predictions)\n",
    "    precision = precision_score(Y_test, predictions)\n",
    "\n",
    "    print(\"Accuracy:\",round(100*accuracy,2),'%')\n",
    "    print(\"Balanced accuracy:\",round(100*balanced_accuracy,2),'%')\n",
    "    print(\"Precision:\", round(100*precision,2),'%')\n",
    "    return predictions"
   ]
  },
  {
   "cell_type": "code",
<<<<<<< HEAD
   "execution_count": 124,
   "metadata": {},
   "outputs": [
    {
     "name": "stdout",
     "output_type": "stream",
     "text": [
      "Lemm + stopword removal + CountVectorizer\n",
      "Accuracy: 97.55 %\n",
      "Balanced accuracy: 94.57 %\n",
      "Precision: 90.55 %\n",
      "\n",
      "Lemm + no stopword removal + CountVectorizer\n",
      "Accuracy: 97.42 %\n",
      "Balanced accuracy: 93.86 %\n",
      "Precision: 90.86 %\n",
      "\n",
      "Stem + stopword removal + CountVectorizer\n",
      "Accuracy: 96.91 %\n",
      "Balanced accuracy: 90.6 %\n",
      "Precision: 93.22 %\n",
      "\n",
      "Stem + no stopword removal + CountVectorizer\n",
      "Accuracy: 97.29 %\n",
      "Balanced accuracy: 91.88 %\n",
      "Precision: 93.92 %\n"
     ]
=======
   "execution_count": 6,
   "metadata": {},
   "outputs": [
    {
     "data": {
      "text/plain": [
       "Text(0.5, 1.0, 'Class Distributions \\n (0: No Fraud || 1: Fraud)')"
      ]
     },
     "execution_count": 6,
     "metadata": {},
     "output_type": "execute_result"
    },
    {
     "data": {
      "image/png": "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",
      "text/plain": [
       "<Figure size 400x700 with 1 Axes>"
      ]
     },
     "metadata": {},
     "output_type": "display_data"
>>>>>>> a927a5c88a4b424b1b9579f1a83d4009a89f074d
    }
   ],
   "source": [
    "#vectorize, model, and evaluate model using CountVectorizer\n",
    "\n",
    "#Lemm + stopword removal \n",
    "print(\"Lemm + stopword removal + CountVectorizer\") \n",
    "transform_model_data_w_count_vectorizer(preprocessed_text_1, Y_train,  X_test, Y_test)\n",
    "\n",
    "#Lemm + no stopword removal \n",
    "print(\"\\nLemm + no stopword removal + CountVectorizer\") \n",
    "transform_model_data_w_count_vectorizer(preprocessed_text_2, Y_train,  X_test, Y_test)\n",
    "\n",
    "#Stem + stopword removal \n",
    "print(\"\\nStem + stopword removal + CountVectorizer\") \n",
    "transform_model_data_w_count_vectorizer(preprocessed_text_3, Y_train,  X_test, Y_test)\n",
    "\n",
    "#Stem + no stopword removal \n",
    "print(\"\\nStem + no stopword removal + CountVectorizer\") \n",
    "transform_model_data_w_count_vectorizer(preprocessed_text_4, Y_train,  X_test, Y_test)"
   ]
  },
  {
   "cell_type": "code",
<<<<<<< HEAD
   "execution_count": 120,
=======
   "execution_count": 7,
>>>>>>> a927a5c88a4b424b1b9579f1a83d4009a89f074d
   "metadata": {},
   "outputs": [
    {
     "name": "stdout",
     "output_type": "stream",
     "text": [
      "Lemm + stopword removal + TfidfVectorizer\n",
      "Accuracy: 97.36 %\n",
      "Balanced accuracy: 91.92 %\n",
      "Precision: 94.44 %\n",
      "\n",
      "Lemm + no stopword removal + TfidfVectorizer\n",
      "Accuracy: 97.61 %\n",
      "Balanced accuracy: 92.07 %\n",
      "Precision: 96.59 %\n",
      "\n",
      "Stem + stopword removal + TfidfVectorizer\n",
      "Accuracy: 96.07 %\n",
      "Balanced accuracy: 85.46 %\n",
      "Precision: 97.95 %\n",
      "\n",
      "Stem + no stopword removal + TfidfVectorizer\n",
      "Accuracy: 96.45 %\n",
      "Balanced accuracy: 86.53 %\n",
      "Precision: 99.32 %\n"
     ]
    }
   ],
   "source": [
    "#vectorize, model, and evaluate model using TfidfVectorizer\n",
    "\n",
    "#Lemm + stopword removal \n",
    "print(\"Lemm + stopword removal + TfidfVectorizer\") \n",
    "transform_model_data_w_tfidf_vectorizer(preprocessed_text_1, Y_train,  X_test, Y_test)\n",
    "\n",
    "#Lemm + no stopword removal \n",
    "print(\"\\nLemm + no stopword removal + TfidfVectorizer\") \n",
    "transform_model_data_w_tfidf_vectorizer(preprocessed_text_2, Y_train,  X_test, Y_test)\n",
    "\n",
    "#Stem + stopword removal \n",
    "print(\"\\nStem + stopword removal + TfidfVectorizer\") \n",
    "transform_model_data_w_tfidf_vectorizer(preprocessed_text_3, Y_train,  X_test, Y_test)\n",
    "\n",
    "#Stem + no stopword removal \n",
    "print(\"\\nStem + no stopword removal + TfidfVectorizer\") \n",
    "transform_model_data_w_tfidf_vectorizer(preprocessed_text_4, Y_train,  X_test, Y_test)"
   ]
  },
  {
   "cell_type": "code",
   "execution_count": 130,
   "metadata": {},
   "outputs": [
    {
     "name": "stdout",
     "output_type": "stream",
     "text": [
      "Accuracy: 96.45 %\n",
      "Balanced accuracy: 86.53 %\n",
      "Precision: 99.32 %\n"
     ]
    }
   ],
   "source": [
    "predictions = transform_model_data_w_tfidf_vectorizer(preprocessed_text_4, Y_train,  X_test, Y_test)"
   ]
  },
  {
   "cell_type": "code",
   "execution_count": 132,
   "metadata": {},
   "outputs": [
    {
     "data": {
      "image/png": "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",
      "text/plain": [
       "<Figure size 640x480 with 2 Axes>"
      ]
     },
     "metadata": {},
     "output_type": "display_data"
    }
   ],
   "source": [
    "#compute the confusion matrix.\n",
    "cm = confusion_matrix(Y_test, predictions)\n",
    "\n",
    " #Plot the confusion matrix.\n",
    "disp = ConfusionMatrixDisplay(confusion_matrix=cm, display_labels=model.classes_)\n",
    "disp.plot()\n",
    "plt.show()"
   ]
  },
  {
   "cell_type": "markdown",
   "metadata": {},
   "source": [
    "## STEP 4b: Evaluation with Performance Metrics -- Alyssa"
   ]
  },
  {
   "cell_type": "markdown",
   "metadata": {},
   "source": [
    "## STEP 5: Undersampling Techniques -- Esther (just write the general blurb for this)"
   ]
  },
  {
   "cell_type": "markdown",
   "metadata": {},
   "source": [
    "### Random Downsampling -- Esther"
   ]
  },
  {
   "cell_type": "code",
   "execution_count": null,
   "metadata": {},
   "outputs": [
    {
     "data": {
      "text/html": [
       "<div>\n",
       "<style scoped>\n",
       "    .dataframe tbody tr th:only-of-type {\n",
       "        vertical-align: middle;\n",
       "    }\n",
       "\n",
       "    .dataframe tbody tr th {\n",
       "        vertical-align: top;\n",
       "    }\n",
       "\n",
       "    .dataframe thead th {\n",
       "        text-align: right;\n",
       "    }\n",
       "</style>\n",
       "<table border=\"1\" class=\"dataframe\">\n",
       "  <thead>\n",
       "    <tr style=\"text-align: right;\">\n",
       "      <th></th>\n",
       "      <th>Time</th>\n",
       "      <th>V1</th>\n",
       "      <th>V2</th>\n",
       "      <th>V3</th>\n",
       "      <th>V4</th>\n",
       "      <th>V5</th>\n",
       "      <th>V6</th>\n",
       "      <th>V7</th>\n",
       "      <th>V8</th>\n",
       "      <th>V9</th>\n",
       "      <th>...</th>\n",
       "      <th>V21</th>\n",
       "      <th>V22</th>\n",
       "      <th>V23</th>\n",
       "      <th>V24</th>\n",
       "      <th>V25</th>\n",
       "      <th>V26</th>\n",
       "      <th>V27</th>\n",
       "      <th>V28</th>\n",
       "      <th>Amount</th>\n",
       "      <th>Class</th>\n",
       "    </tr>\n",
       "  </thead>\n",
       "  <tbody>\n",
       "    <tr>\n",
       "      <th>541</th>\n",
       "      <td>406.0</td>\n",
       "      <td>-2.312227</td>\n",
       "      <td>1.951992</td>\n",
       "      <td>-1.609851</td>\n",
       "      <td>3.997906</td>\n",
       "      <td>-0.522188</td>\n",
       "      <td>-1.426545</td>\n",
       "      <td>-2.537387</td>\n",
       "      <td>1.391657</td>\n",
       "      <td>-2.770089</td>\n",
       "      <td>...</td>\n",
       "      <td>0.517232</td>\n",
       "      <td>-0.035049</td>\n",
       "      <td>-0.465211</td>\n",
       "      <td>0.320198</td>\n",
       "      <td>0.044519</td>\n",
       "      <td>0.177840</td>\n",
       "      <td>0.261145</td>\n",
       "      <td>-0.143276</td>\n",
       "      <td>0.00</td>\n",
       "      <td>1</td>\n",
       "    </tr>\n",
       "    <tr>\n",
       "      <th>623</th>\n",
       "      <td>472.0</td>\n",
       "      <td>-3.043541</td>\n",
       "      <td>-3.157307</td>\n",
       "      <td>1.088463</td>\n",
       "      <td>2.288644</td>\n",
       "      <td>1.359805</td>\n",
       "      <td>-1.064823</td>\n",
       "      <td>0.325574</td>\n",
       "      <td>-0.067794</td>\n",
       "      <td>-0.270953</td>\n",
       "      <td>...</td>\n",
       "      <td>0.661696</td>\n",
       "      <td>0.435477</td>\n",
       "      <td>1.375966</td>\n",
       "      <td>-0.293803</td>\n",
       "      <td>0.279798</td>\n",
       "      <td>-0.145362</td>\n",
       "      <td>-0.252773</td>\n",
       "      <td>0.035764</td>\n",
       "      <td>529.00</td>\n",
       "      <td>1</td>\n",
       "    </tr>\n",
       "    <tr>\n",
       "      <th>4920</th>\n",
       "      <td>4462.0</td>\n",
       "      <td>-2.303350</td>\n",
       "      <td>1.759247</td>\n",
       "      <td>-0.359745</td>\n",
       "      <td>2.330243</td>\n",
       "      <td>-0.821628</td>\n",
       "      <td>-0.075788</td>\n",
       "      <td>0.562320</td>\n",
       "      <td>-0.399147</td>\n",
       "      <td>-0.238253</td>\n",
       "      <td>...</td>\n",
       "      <td>-0.294166</td>\n",
       "      <td>-0.932391</td>\n",
       "      <td>0.172726</td>\n",
       "      <td>-0.087330</td>\n",
       "      <td>-0.156114</td>\n",
       "      <td>-0.542628</td>\n",
       "      <td>0.039566</td>\n",
       "      <td>-0.153029</td>\n",
       "      <td>239.93</td>\n",
       "      <td>1</td>\n",
       "    </tr>\n",
       "    <tr>\n",
       "      <th>6108</th>\n",
       "      <td>6986.0</td>\n",
       "      <td>-4.397974</td>\n",
       "      <td>1.358367</td>\n",
       "      <td>-2.592844</td>\n",
       "      <td>2.679787</td>\n",
       "      <td>-1.128131</td>\n",
       "      <td>-1.706536</td>\n",
       "      <td>-3.496197</td>\n",
       "      <td>-0.248778</td>\n",
       "      <td>-0.247768</td>\n",
       "      <td>...</td>\n",
       "      <td>0.573574</td>\n",
       "      <td>0.176968</td>\n",
       "      <td>-0.436207</td>\n",
       "      <td>-0.053502</td>\n",
       "      <td>0.252405</td>\n",
       "      <td>-0.657488</td>\n",
       "      <td>-0.827136</td>\n",
       "      <td>0.849573</td>\n",
       "      <td>59.00</td>\n",
       "      <td>1</td>\n",
       "    </tr>\n",
       "    <tr>\n",
       "      <th>6329</th>\n",
       "      <td>7519.0</td>\n",
       "      <td>1.234235</td>\n",
       "      <td>3.019740</td>\n",
       "      <td>-4.304597</td>\n",
       "      <td>4.732795</td>\n",
       "      <td>3.624201</td>\n",
       "      <td>-1.357746</td>\n",
       "      <td>1.713445</td>\n",
       "      <td>-0.496358</td>\n",
       "      <td>-1.282858</td>\n",
       "      <td>...</td>\n",
       "      <td>-0.379068</td>\n",
       "      <td>-0.704181</td>\n",
       "      <td>-0.656805</td>\n",
       "      <td>-1.632653</td>\n",
       "      <td>1.488901</td>\n",
       "      <td>0.566797</td>\n",
       "      <td>-0.010016</td>\n",
       "      <td>0.146793</td>\n",
       "      <td>1.00</td>\n",
       "      <td>1</td>\n",
       "    </tr>\n",
       "  </tbody>\n",
       "</table>\n",
       "<p>5 rows × 31 columns</p>\n",
       "</div>"
      ],
      "text/plain": [
       "        Time        V1        V2        V3        V4        V5        V6  \\\n",
       "541    406.0 -2.312227  1.951992 -1.609851  3.997906 -0.522188 -1.426545   \n",
       "623    472.0 -3.043541 -3.157307  1.088463  2.288644  1.359805 -1.064823   \n",
       "4920  4462.0 -2.303350  1.759247 -0.359745  2.330243 -0.821628 -0.075788   \n",
       "6108  6986.0 -4.397974  1.358367 -2.592844  2.679787 -1.128131 -1.706536   \n",
       "6329  7519.0  1.234235  3.019740 -4.304597  4.732795  3.624201 -1.357746   \n",
       "\n",
       "            V7        V8        V9  ...       V21       V22       V23  \\\n",
       "541  -2.537387  1.391657 -2.770089  ...  0.517232 -0.035049 -0.465211   \n",
       "623   0.325574 -0.067794 -0.270953  ...  0.661696  0.435477  1.375966   \n",
       "4920  0.562320 -0.399147 -0.238253  ... -0.294166 -0.932391  0.172726   \n",
       "6108 -3.496197 -0.248778 -0.247768  ...  0.573574  0.176968 -0.436207   \n",
       "6329  1.713445 -0.496358 -1.282858  ... -0.379068 -0.704181 -0.656805   \n",
       "\n",
       "           V24       V25       V26       V27       V28  Amount  Class  \n",
       "541   0.320198  0.044519  0.177840  0.261145 -0.143276    0.00      1  \n",
       "623  -0.293803  0.279798 -0.145362 -0.252773  0.035764  529.00      1  \n",
       "4920 -0.087330 -0.156114 -0.542628  0.039566 -0.153029  239.93      1  \n",
       "6108 -0.053502  0.252405 -0.657488 -0.827136  0.849573   59.00      1  \n",
       "6329 -1.632653  1.488901  0.566797 -0.010016  0.146793    1.00      1  \n",
       "\n",
       "[5 rows x 31 columns]"
      ]
     },
     "metadata": {},
     "output_type": "display_data"
    },
    {
     "data": {
      "text/html": [
       "<div>\n",
       "<style scoped>\n",
       "    .dataframe tbody tr th:only-of-type {\n",
       "        vertical-align: middle;\n",
       "    }\n",
       "\n",
       "    .dataframe tbody tr th {\n",
       "        vertical-align: top;\n",
       "    }\n",
       "\n",
       "    .dataframe thead th {\n",
       "        text-align: right;\n",
       "    }\n",
       "</style>\n",
       "<table border=\"1\" class=\"dataframe\">\n",
       "  <thead>\n",
       "    <tr style=\"text-align: right;\">\n",
       "      <th></th>\n",
       "      <th>Time</th>\n",
       "      <th>V1</th>\n",
       "      <th>V2</th>\n",
       "      <th>V3</th>\n",
       "      <th>V4</th>\n",
       "      <th>V5</th>\n",
       "      <th>V6</th>\n",
       "      <th>V7</th>\n",
       "      <th>V8</th>\n",
       "      <th>V9</th>\n",
       "      <th>...</th>\n",
       "      <th>V21</th>\n",
       "      <th>V22</th>\n",
       "      <th>V23</th>\n",
       "      <th>V24</th>\n",
       "      <th>V25</th>\n",
       "      <th>V26</th>\n",
       "      <th>V27</th>\n",
       "      <th>V28</th>\n",
       "      <th>Amount</th>\n",
       "      <th>Class</th>\n",
       "    </tr>\n",
       "  </thead>\n",
       "  <tbody>\n",
       "    <tr>\n",
       "      <th>0</th>\n",
       "      <td>0.0</td>\n",
       "      <td>-1.359807</td>\n",
       "      <td>-0.072781</td>\n",
       "      <td>2.536347</td>\n",
       "      <td>1.378155</td>\n",
       "      <td>-0.338321</td>\n",
       "      <td>0.462388</td>\n",
       "      <td>0.239599</td>\n",
       "      <td>0.098698</td>\n",
       "      <td>0.363787</td>\n",
       "      <td>...</td>\n",
       "      <td>-0.018307</td>\n",
       "      <td>0.277838</td>\n",
       "      <td>-0.110474</td>\n",
       "      <td>0.066928</td>\n",
       "      <td>0.128539</td>\n",
       "      <td>-0.189115</td>\n",
       "      <td>0.133558</td>\n",
       "      <td>-0.021053</td>\n",
       "      <td>149.62</td>\n",
       "      <td>0</td>\n",
       "    </tr>\n",
       "    <tr>\n",
       "      <th>1</th>\n",
       "      <td>0.0</td>\n",
       "      <td>1.191857</td>\n",
       "      <td>0.266151</td>\n",
       "      <td>0.166480</td>\n",
       "      <td>0.448154</td>\n",
       "      <td>0.060018</td>\n",
       "      <td>-0.082361</td>\n",
       "      <td>-0.078803</td>\n",
       "      <td>0.085102</td>\n",
       "      <td>-0.255425</td>\n",
       "      <td>...</td>\n",
       "      <td>-0.225775</td>\n",
       "      <td>-0.638672</td>\n",
       "      <td>0.101288</td>\n",
       "      <td>-0.339846</td>\n",
       "      <td>0.167170</td>\n",
       "      <td>0.125895</td>\n",
       "      <td>-0.008983</td>\n",
       "      <td>0.014724</td>\n",
       "      <td>2.69</td>\n",
       "      <td>0</td>\n",
       "    </tr>\n",
       "    <tr>\n",
       "      <th>2</th>\n",
       "      <td>1.0</td>\n",
       "      <td>-1.358354</td>\n",
       "      <td>-1.340163</td>\n",
       "      <td>1.773209</td>\n",
       "      <td>0.379780</td>\n",
       "      <td>-0.503198</td>\n",
       "      <td>1.800499</td>\n",
       "      <td>0.791461</td>\n",
       "      <td>0.247676</td>\n",
       "      <td>-1.514654</td>\n",
       "      <td>...</td>\n",
       "      <td>0.247998</td>\n",
       "      <td>0.771679</td>\n",
       "      <td>0.909412</td>\n",
       "      <td>-0.689281</td>\n",
       "      <td>-0.327642</td>\n",
       "      <td>-0.139097</td>\n",
       "      <td>-0.055353</td>\n",
       "      <td>-0.059752</td>\n",
       "      <td>378.66</td>\n",
       "      <td>0</td>\n",
       "    </tr>\n",
       "    <tr>\n",
       "      <th>3</th>\n",
       "      <td>1.0</td>\n",
       "      <td>-0.966272</td>\n",
       "      <td>-0.185226</td>\n",
       "      <td>1.792993</td>\n",
       "      <td>-0.863291</td>\n",
       "      <td>-0.010309</td>\n",
       "      <td>1.247203</td>\n",
       "      <td>0.237609</td>\n",
       "      <td>0.377436</td>\n",
       "      <td>-1.387024</td>\n",
       "      <td>...</td>\n",
       "      <td>-0.108300</td>\n",
       "      <td>0.005274</td>\n",
       "      <td>-0.190321</td>\n",
       "      <td>-1.175575</td>\n",
       "      <td>0.647376</td>\n",
       "      <td>-0.221929</td>\n",
       "      <td>0.062723</td>\n",
       "      <td>0.061458</td>\n",
       "      <td>123.50</td>\n",
       "      <td>0</td>\n",
       "    </tr>\n",
       "    <tr>\n",
       "      <th>4</th>\n",
       "      <td>2.0</td>\n",
       "      <td>-1.158233</td>\n",
       "      <td>0.877737</td>\n",
       "      <td>1.548718</td>\n",
       "      <td>0.403034</td>\n",
       "      <td>-0.407193</td>\n",
       "      <td>0.095921</td>\n",
       "      <td>0.592941</td>\n",
       "      <td>-0.270533</td>\n",
       "      <td>0.817739</td>\n",
       "      <td>...</td>\n",
       "      <td>-0.009431</td>\n",
       "      <td>0.798278</td>\n",
       "      <td>-0.137458</td>\n",
       "      <td>0.141267</td>\n",
       "      <td>-0.206010</td>\n",
       "      <td>0.502292</td>\n",
       "      <td>0.219422</td>\n",
       "      <td>0.215153</td>\n",
       "      <td>69.99</td>\n",
       "      <td>0</td>\n",
       "    </tr>\n",
       "  </tbody>\n",
       "</table>\n",
       "<p>5 rows × 31 columns</p>\n",
       "</div>"
      ],
      "text/plain": [
       "   Time        V1        V2        V3        V4        V5        V6        V7  \\\n",
       "0   0.0 -1.359807 -0.072781  2.536347  1.378155 -0.338321  0.462388  0.239599   \n",
       "1   0.0  1.191857  0.266151  0.166480  0.448154  0.060018 -0.082361 -0.078803   \n",
       "2   1.0 -1.358354 -1.340163  1.773209  0.379780 -0.503198  1.800499  0.791461   \n",
       "3   1.0 -0.966272 -0.185226  1.792993 -0.863291 -0.010309  1.247203  0.237609   \n",
       "4   2.0 -1.158233  0.877737  1.548718  0.403034 -0.407193  0.095921  0.592941   \n",
       "\n",
       "         V8        V9  ...       V21       V22       V23       V24       V25  \\\n",
       "0  0.098698  0.363787  ... -0.018307  0.277838 -0.110474  0.066928  0.128539   \n",
       "1  0.085102 -0.255425  ... -0.225775 -0.638672  0.101288 -0.339846  0.167170   \n",
       "2  0.247676 -1.514654  ...  0.247998  0.771679  0.909412 -0.689281 -0.327642   \n",
       "3  0.377436 -1.387024  ... -0.108300  0.005274 -0.190321 -1.175575  0.647376   \n",
       "4 -0.270533  0.817739  ... -0.009431  0.798278 -0.137458  0.141267 -0.206010   \n",
       "\n",
       "        V26       V27       V28  Amount  Class  \n",
       "0 -0.189115  0.133558 -0.021053  149.62      0  \n",
       "1  0.125895 -0.008983  0.014724    2.69      0  \n",
       "2 -0.139097 -0.055353 -0.059752  378.66      0  \n",
       "3 -0.221929  0.062723  0.061458  123.50      0  \n",
       "4  0.502292  0.219422  0.215153   69.99      0  \n",
       "\n",
       "[5 rows x 31 columns]"
      ]
     },
     "metadata": {},
     "output_type": "display_data"
    }
   ],
   "source": [
    "fraud_df = cc_data.loc[cc_data['Class'] == 1]\n",
    "non_fraud_df = cc_data.loc[cc_data['Class'] == 0][:492]\n",
    "display(fraud_df.head())\n",
    "display(non_fraud_df.head())"
   ]
  },
  {
   "cell_type": "markdown",
   "metadata": {},
   "source": [
    "### Spam and Ham Stuff\n"
   ]
  },
  {
   "cell_type": "code",
   "execution_count": null,
   "metadata": {},
   "outputs": [],
   "source": [
    "colors = [\"#0101DF\", \"#DF0101\"]\n",
    "\n",
    "sns.countplot(data=df, x='Class', palette=colors)\n",
    "plt.title('Class Distributions \\n (0: No Fraud || 1: Fraud)', fontsize=14)"
   ]
  },
  {
   "cell_type": "code",
   "execution_count": null,
   "metadata": {},
   "outputs": [
    {
     "name": "stdout",
     "output_type": "stream",
     "text": [
      "Top 5 common duplicate texts are:\n"
     ]
    },
    {
     "data": {
      "text/html": [
       "<div>\n",
       "<style scoped>\n",
       "    .dataframe tbody tr th:only-of-type {\n",
       "        vertical-align: middle;\n",
       "    }\n",
       "\n",
       "    .dataframe tbody tr th {\n",
       "        vertical-align: top;\n",
       "    }\n",
       "\n",
       "    .dataframe thead th {\n",
       "        text-align: right;\n",
       "    }\n",
       "</style>\n",
       "<table border=\"1\" class=\"dataframe\">\n",
       "  <thead>\n",
       "    <tr style=\"text-align: right;\">\n",
       "      <th></th>\n",
       "      <th>target</th>\n",
       "    </tr>\n",
       "    <tr>\n",
       "      <th>text</th>\n",
       "      <th></th>\n",
       "    </tr>\n",
       "  </thead>\n",
       "  <tbody>\n",
       "    <tr>\n",
       "      <th>Sorry, I'll call later</th>\n",
       "      <td>30</td>\n",
       "    </tr>\n",
       "    <tr>\n",
       "      <th>I cant pick the phone right now. Pls send a message</th>\n",
       "      <td>12</td>\n",
       "    </tr>\n",
       "    <tr>\n",
       "      <th>Ok...</th>\n",
       "      <td>10</td>\n",
       "    </tr>\n",
       "    <tr>\n",
       "      <th>Say this slowly.? GOD,I LOVE YOU &amp;amp; I NEED YOU,CLEAN MY HEART WITH YOUR BLOOD.Send this to Ten special people &amp;amp; u c miracle tomorrow, do it,pls,pls do it...</th>\n",
       "      <td>4</td>\n",
       "    </tr>\n",
       "    <tr>\n",
       "      <th>Wen ur lovable bcums angry wid u, dnt take it seriously.. Coz being angry is d most childish n true way of showing deep affection, care n luv!.. kettoda manda... Have nice day da.</th>\n",
       "      <td>4</td>\n",
       "    </tr>\n",
       "  </tbody>\n",
       "</table>\n",
       "</div>"
      ],
      "text/plain": [
       "                                                    target\n",
       "text                                                      \n",
       "Sorry, I'll call later                                  30\n",
       "I cant pick the phone right now. Pls send a mes...      12\n",
       "Ok...                                                   10\n",
       "Say this slowly.? GOD,I LOVE YOU &amp; I NEED Y...       4\n",
       "Wen ur lovable bcums angry wid u, dnt take it s...       4"
      ]
     },
     "metadata": {},
     "output_type": "display_data"
    }
   ],
   "source": [
    "print('Top 5 common duplicate texts are:')\n",
    "data[data.duplicates == 1].pivot_table(index='text', values='target', aggfunc='count').sort_values(by='target', ascending=False).head(5)"
   ]
  },
  {
   "cell_type": "code",
<<<<<<< HEAD
   "execution_count": null,
   "metadata": {},
   "outputs": [
    {
     "name": "stdout",
     "output_type": "stream",
     "text": [
      "Missing data in each column:\n",
      "classification    0\n",
      "text              0\n",
      "target            0\n",
      "duplicates        0\n",
      "dtype: int64\n"
     ]
    }
   ],
=======
   "execution_count": 9,
   "metadata": {},
   "outputs": [],
>>>>>>> a927a5c88a4b424b1b9579f1a83d4009a89f074d
   "source": [
    "#check for missing data\n",
    "print(\"Missing data in each column:\\n\" + str(data.isnull().sum()))"
   ]
  },
  {
   "cell_type": "code",
<<<<<<< HEAD
   "execution_count": null,
=======
   "execution_count": 10,
>>>>>>> a927a5c88a4b424b1b9579f1a83d4009a89f074d
   "metadata": {},
   "outputs": [
    {
     "data": {
<<<<<<< HEAD
=======
      "image/png": "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",
>>>>>>> a927a5c88a4b424b1b9579f1a83d4009a89f074d
      "text/plain": [
       "target\n",
       "0    4825\n",
       "1     747\n",
       "Name: count, dtype: int64"
      ]
     },
     "metadata": {},
     "output_type": "display_data"
    }
   ],
   "source": [
<<<<<<< HEAD
=======
    "# plot these on a scatter plot to see how they differ between the two classes\n",
    "ax = sns.scatterplot(data=cc_data, x='V1', y='V4', hue='Class')\n",
    "plt.show()"
   ]
  },
  {
   "cell_type": "code",
   "execution_count": 11,
   "metadata": {},
   "outputs": [
    {
     "ename": "NameError",
     "evalue": "name 'confusion_matrix' is not defined",
     "output_type": "error",
     "traceback": [
      "\u001b[0;31m---------------------------------------------------------------------------\u001b[0m",
      "\u001b[0;31mNameError\u001b[0m                                 Traceback (most recent call last)",
      "Cell \u001b[0;32mIn[11], line 2\u001b[0m\n\u001b[1;32m      1\u001b[0m \u001b[38;5;66;03m#compute the confusion matrix.\u001b[39;00m\n\u001b[0;32m----> 2\u001b[0m cm \u001b[38;5;241m=\u001b[39m confusion_matrix(Y_test, predictions)\n\u001b[1;32m      4\u001b[0m  \u001b[38;5;66;03m#Plot the confusion matrix.\u001b[39;00m\n\u001b[1;32m      5\u001b[0m disp \u001b[38;5;241m=\u001b[39m ConfusionMatrixDisplay(confusion_matrix\u001b[38;5;241m=\u001b[39mcm, display_labels\u001b[38;5;241m=\u001b[39mmodel\u001b[38;5;241m.\u001b[39mclasses_)\n",
      "\u001b[0;31mNameError\u001b[0m: name 'confusion_matrix' is not defined"
     ]
    }
   ],
   "source": [
    "#compute the confusion matrix.\n",
    "cm = confusion_matrix(Y_test, predictions)\n",
    "\n",
    " #Plot the confusion matrix.\n",
    "disp = ConfusionMatrixDisplay(confusion_matrix=cm, display_labels=model.classes_)\n",
    "disp.plot()\n",
    "plt.show()"
   ]
  },
  {
   "cell_type": "markdown",
   "metadata": {},
   "source": [
    "## STEP 4b: Evaluation with Performance Metrics -- Alyssa"
   ]
  },
  {
   "cell_type": "markdown",
   "metadata": {},
   "source": [
    "In this naive implementation of our model, using no aspect of downsampling to modify and clean our data, we get this for our accuracy:"
   ]
  },
  {
   "cell_type": "markdown",
   "metadata": {},
   "source": [
    "## STEP 5: Undersampling Techniques -- Esther (just write the general blurb for this)"
   ]
  },
  {
   "cell_type": "markdown",
   "metadata": {},
   "source": [
    "### Random Undersampling -- Esther"
   ]
  },
  {
   "cell_type": "markdown",
   "metadata": {},
   "source": [
    "### Random Under-Sampling"
   ]
  },
  {
   "cell_type": "code",
   "execution_count": null,
   "metadata": {},
   "outputs": [],
   "source": [
    "colors = [\"#0101DF\", \"#DF0101\"]\n",
    "\n",
    "sns.countplot(data=df, x='Class', palette=colors)\n",
    "plt.title('Class Distributions \\n (0: No Fraud || 1: Fraud)', fontsize=14)"
   ]
  },
  {
   "cell_type": "code",
   "execution_count": null,
   "metadata": {},
   "outputs": [],
   "source": [
    "print('Top 5 common duplicate texts are:')\n",
    "data[data.duplicates == 1].pivot_table(index='text', values='target', aggfunc='count').sort_values(by='target', ascending=False).head(5)"
   ]
  },
  {
   "cell_type": "code",
   "execution_count": null,
   "metadata": {},
   "outputs": [],
   "source": [
    "#check for missing data\n",
    "print(\"Missing data in each column:\\n\" + str(data.isnull().sum()))"
   ]
  },
  {
   "cell_type": "code",
   "execution_count": null,
   "metadata": {},
   "outputs": [],
   "source": [
>>>>>>> a927a5c88a4b424b1b9579f1a83d4009a89f074d
    "data['target'].value_counts()"
   ]
  },
  {
   "cell_type": "code",
   "execution_count": null,
   "metadata": {},
   "outputs": [],
   "source": [
    "# Explore distribution of dataset \n",
    "\n",
    "# count plot on single categorical variable\n",
    "ax = sns.countplot(x = data['classification'], palette = 'rocket')\n",
    "\n",
    "#add data labels\n",
    "ax.bar_label(ax.containers[0])\n",
    "\n",
    "# add plot title\n",
    "plt.title(\"Observations by Classification Type\")\n",
    "\n",
    "# show plot\n",
    "plt.show()"
   ]
  },
  {
   "cell_type": "markdown",
   "metadata": {},
   "source": [
    "Note: Distribution of dataset indicates imbalanced data."
   ]
  },
  {
   "cell_type": "code",
   "execution_count": null,
   "metadata": {},
   "outputs": [],
   "source": [
    "# Dropping all duplicate texts based off of results of EDA\n",
    "df_no_dup = data.drop_duplicates(subset=['text'], keep='first')"
   ]
  },
  {
   "cell_type": "code",
   "execution_count": null,
   "metadata": {},
   "outputs": [],
   "source": [
    "# Explore distribution of dataset \n",
    "\n",
    "# count plot on single categorical variable\n",
    "ax = sns.countplot(x = df_no_dup['classification'], palette = 'rocket')\n",
    "\n",
    "#add data labels\n",
    "ax.bar_label(ax.containers[0])\n",
    "\n",
    "# add plot title\n",
    "plt.title(\"Observations by Classification Type\")\n",
    "\n",
    "# show plot\n",
    "plt.show()"
   ]
  },
  {
   "cell_type": "markdown",
   "metadata": {},
   "source": [
    "###  Near Miss Undersampling -- Ria"
   ]
  },
  {
   "cell_type": "markdown",
   "metadata": {},
   "source": [
<<<<<<< HEAD
    "### Tomek Link Undersampling -- Miller"
=======
    "### Data splitting"
   ]
  },
  {
   "cell_type": "code",
   "execution_count": null,
   "metadata": {},
   "outputs": [],
   "source": [
    "#https://scikit-learn.org/stable/modules/generated/sklearn.model_selection.train_test_split.html\n",
    "\n",
    "X_train, X_test, Y_train, Y_test = train_test_split(df_no_dup['text'], \n",
    "                                                    df_no_dup['target'],\n",
    "                                                    test_size=0.3,\n",
    "                                                    random_state=0)"
>>>>>>> a927a5c88a4b424b1b9579f1a83d4009a89f074d
   ]
  },
  {
   "cell_type": "markdown",
   "metadata": {},
<<<<<<< HEAD
=======
   "source": [
    "### Data preparation and data cleaning"
   ]
  },
  {
   "cell_type": "code",
   "execution_count": null,
   "metadata": {},
   "outputs": [],
   "source": [
    "def text_clean(text, method, rm_stop):\n",
    "    text = re.sub(r\"\\n\",\"\",text)   #remove line breaks\n",
    "    text = text.lower() #convert to lowercase \n",
    "    text = re.sub(r\"\\d+\",\"\",text)   #remove digits and currencies \n",
    "    text = re.sub(r'[\\$\\d+\\d+\\$]', \"\", text)      \n",
    "    text = re.sub(r'\\d+[\\.\\/-]\\d+[\\.\\/-]\\d+', '', text)   #remove dates \n",
    "    text = re.sub(r'\\d+[\\.\\/-]\\d+[\\.\\/-]\\d+', '', text)\n",
    "    text = re.sub(r'\\d+[\\.\\/-]\\d+[\\.\\/-]\\d+', '', text)\n",
    "    text = re.sub(r'[^\\x00-\\x7f]',r' ',text)   #remove non-ascii\n",
    "    text = re.sub(r'[^\\w\\s]','',text)   #remove punctuation\n",
    "    text = re.sub(r'https?:\\/\\/.*[\\r\\n]*', '', text)   #remove hyperlinks\n",
    "    \n",
    "    #remove stop words \n",
    "    if rm_stop == True:\n",
    "        filtered_tokens = [word for word in word_tokenize(text) if not word in set(stopwords.words('english'))]\n",
    "        text = \" \".join(filtered_tokens)\n",
    "        \n",
    "    #lemmatization: typically preferred over stemming\n",
    "    if method == 'L':\n",
    "        lemmer = WordNetLemmatizer()\n",
    "        lemm_tokens = [lemmer.lemmatize(word) for word in word_tokenize(text)]\n",
    "        return \" \".join(lemm_tokens)\n",
    "    \n",
    "    #stemming \n",
    "    if method == 'S':\n",
    "        porter = PorterStemmer()\n",
    "        stem_tokens = [porter.stem(word) for word in word_tokenize(text)]\n",
    "        return \" \".join(stem_tokens)\n",
    "    \n",
    "    return text"
   ]
  },
  {
   "cell_type": "code",
   "execution_count": null,
   "metadata": {},
   "outputs": [],
   "source": [
    "#preprocessed data: Lemm + stopword removal \n",
    "preprocessed_text_1 = [text_clean(text, 'L', True) for text in X_train]\n",
    "#preprocessed_text_1[0:10]\n",
    "\n",
    "#preprocessed data: Lemm + no stopword removal \n",
    "preprocessed_text_2 = [text_clean(text, 'L', False) for text in X_train]\n",
    "#preprocessed_text_2[0:10]\n",
    "\n",
    "#preprocessed data: Stem + stopword removal \n",
    "preprocessed_text_3 = [text_clean(text, 'S', True) for text in X_train]\n",
    "#preprocessed_text_3[0:10]\n",
    "\n",
    "#preprocessed data: Stem + no stopword removal \n",
    "preprocessed_text_4 = [text_clean(text, 'S', False) for text in X_train]\n",
    "#preprocessed_text_4[0:10]"
   ]
  },
  {
   "cell_type": "markdown",
   "metadata": {},
   "source": [
    "### WE'RE USING RANDOM FORESTS AS OUR CLASSIFIER"
   ]
  },
  {
   "cell_type": "code",
   "execution_count": null,
   "metadata": {},
   "outputs": [],
   "source": [
    "def transform_model_data_w_count_vectorizer(preprocessed_text, Y_train,  X_test, Y_test):\n",
    "    #vectorize dataset \n",
    "    vectorizer = CountVectorizer()\n",
    "    vectorized_data = vectorizer.fit_transform(preprocessed_text)\n",
    "\n",
    "    #define model\n",
    "    model = MultinomialNB(alpha=0.1)\n",
    "    model.fit(vectorized_data, Y_train)\n",
    "\n",
    "    #evaluate model\n",
    "    predictions = model.predict(vectorizer.transform(X_test))\n",
    "    accuracy = accuracy_score( Y_test, predictions)\n",
    "    balanced_accuracy = balanced_accuracy_score(Y_test, predictions)\n",
    "    precision = precision_score(Y_test, predictions)\n",
    "\n",
    "    print(\"Accuracy:\",round(100*accuracy,2),'%')\n",
    "    print(\"Balanced accuracy:\",round(100*balanced_accuracy,2),'%')\n",
    "    print(\"Precision:\", round(100*precision,2),'%')\n",
    "    return predictions"
   ]
  },
  {
   "cell_type": "code",
   "execution_count": null,
   "metadata": {},
   "outputs": [],
   "source": [
    "def transform_model_data_w_tfidf_vectorizer(preprocessed_text, Y_train,  X_test, Y_test):\n",
    "    #vectorize dataset \n",
    "    tfidf = TfidfVectorizer() \n",
    "    vectorized_data = tfidf.fit_transform(preprocessed_text)\n",
    "\n",
    "    #define model\n",
    "    model = MultinomialNB(alpha=0.1)\n",
    "    model.fit(vectorized_data, Y_train)\n",
    " \n",
    "    #evaluate model\n",
    "    predictions = model.predict(tfidf.transform(X_test))\n",
    "\n",
    "    accuracy = accuracy_score( Y_test, predictions)\n",
    "    balanced_accuracy = balanced_accuracy_score(Y_test, predictions)\n",
    "    precision = precision_score(Y_test, predictions)\n",
    "\n",
    "    print(\"Accuracy:\",round(100*accuracy,2),'%')\n",
    "    print(\"Balanced accuracy:\",round(100*balanced_accuracy,2),'%')\n",
    "    print(\"Precision:\", round(100*precision,2),'%')\n",
    "    return predictions"
   ]
  },
  {
   "cell_type": "code",
   "execution_count": null,
   "metadata": {},
   "outputs": [],
   "source": [
    "#vectorize, model, and evaluate model using CountVectorizer\n",
    "\n",
    "#Lemm + stopword removal \n",
    "print(\"Lemm + stopword removal + CountVectorizer\") \n",
    "transform_model_data_w_count_vectorizer(preprocessed_text_1, Y_train,  X_test, Y_test)\n",
    "\n",
    "#Lemm + no stopword removal \n",
    "print(\"\\nLemm + no stopword removal + CountVectorizer\") \n",
    "transform_model_data_w_count_vectorizer(preprocessed_text_2, Y_train,  X_test, Y_test)\n",
    "\n",
    "#Stem + stopword removal \n",
    "print(\"\\nStem + stopword removal + CountVectorizer\") \n",
    "transform_model_data_w_count_vectorizer(preprocessed_text_3, Y_train,  X_test, Y_test)\n",
    "\n",
    "#Stem + no stopword removal \n",
    "print(\"\\nStem + no stopword removal + CountVectorizer\") \n",
    "transform_model_data_w_count_vectorizer(preprocessed_text_4, Y_train,  X_test, Y_test)"
   ]
  },
  {
   "cell_type": "code",
   "execution_count": null,
   "metadata": {},
   "outputs": [],
   "source": [
    "#vectorize, model, and evaluate model using TfidfVectorizer\n",
    "\n",
    "#Lemm + stopword removal \n",
    "print(\"Lemm + stopword removal + TfidfVectorizer\") \n",
    "transform_model_data_w_tfidf_vectorizer(preprocessed_text_1, Y_train,  X_test, Y_test)\n",
    "\n",
    "#Lemm + no stopword removal \n",
    "print(\"\\nLemm + no stopword removal + TfidfVectorizer\") \n",
    "transform_model_data_w_tfidf_vectorizer(preprocessed_text_2, Y_train,  X_test, Y_test)\n",
    "\n",
    "#Stem + stopword removal \n",
    "print(\"\\nStem + stopword removal + TfidfVectorizer\") \n",
    "transform_model_data_w_tfidf_vectorizer(preprocessed_text_3, Y_train,  X_test, Y_test)\n",
    "\n",
    "#Stem + no stopword removal \n",
    "print(\"\\nStem + no stopword removal + TfidfVectorizer\") \n",
    "transform_model_data_w_tfidf_vectorizer(preprocessed_text_4, Y_train,  X_test, Y_test)"
   ]
  },
  {
   "cell_type": "code",
   "execution_count": null,
   "metadata": {},
   "outputs": [],
   "source": [
    "predictions = transform_model_data_w_tfidf_vectorizer(preprocessed_text_4, Y_train,  X_test, Y_test)"
   ]
  },
  {
   "cell_type": "code",
   "execution_count": null,
   "metadata": {},
   "outputs": [],
   "source": [
    "#compute the confusion matrix.\n",
    "cm = confusion_matrix(Y_test, predictions)\n",
    "\n",
    " #Plot the confusion matrix.\n",
    "disp = ConfusionMatrixDisplay(confusion_matrix=cm, display_labels=model.classes_)\n",
    "disp.plot()\n",
    "plt.show()"
   ]
  },
  {
   "cell_type": "markdown",
   "metadata": {},
   "source": [
    "## STEP 4b: Evaluation with Performance Metrics -- Alyssa"
   ]
  },
  {
   "cell_type": "markdown",
   "metadata": {},
   "source": [
    "## STEP 5: Undersampling Techniques -- Esther (just write the general blurb for this)"
   ]
  },
  {
   "cell_type": "markdown",
   "metadata": {},
   "source": [
    "### Random Undersampling -- Esther"
   ]
  },
  {
   "cell_type": "markdown",
   "metadata": {},
   "source": [
    "###  Near Miss Undersampling -- Ria"
   ]
  },
  {
   "cell_type": "code",
   "execution_count": 12,
   "metadata": {},
   "outputs": [
    {
     "name": "stdout",
     "output_type": "stream",
     "text": [
      "Before Undersampling, counts of label '1': 492\n",
      "Before Undersampling, counts of label '0': 284315 \n",
      "\n",
      "After Undersampling, counts of label '1': 492\n",
      "After Undersampling, counts of label '0': 492\n"
     ]
    }
   ],
   "source": [
    "from imblearn.under_sampling import NearMiss\n",
    "\n",
    "#Splitting the data into features and labels \n",
    "X = cc_data.iloc[:,:30]\n",
    "y = cc_data.iloc[:, 30]\n",
    "\n",
    "near_miss = NearMiss()\n",
    "X_resample, y_resample = near_miss.fit_resample(X,y)\n",
    "\n",
    "print(\"Before Undersampling, counts of label '1': {}\".format(sum(y == 1)))\n",
    "print(\"Before Undersampling, counts of label '0': {} \\n\".format(sum(y == 0))) \n",
    "  \n",
    "print(\"After Undersampling, counts of label '1': {}\".format(sum(y_resample == 1))) \n",
    "print(\"After Undersampling, counts of label '0': {}\".format(sum(y_resample == 0))) "
   ]
  },
  {
   "cell_type": "code",
   "execution_count": 15,
   "metadata": {},
   "outputs": [
    {
     "name": "stderr",
     "output_type": "stream",
     "text": [
      "/Users/riajain/anaconda3/lib/python3.11/site-packages/sklearn/linear_model/_logistic.py:458: ConvergenceWarning: lbfgs failed to converge (status=1):\n",
      "STOP: TOTAL NO. of ITERATIONS REACHED LIMIT.\n",
      "\n",
      "Increase the number of iterations (max_iter) or scale the data as shown in:\n",
      "    https://scikit-learn.org/stable/modules/preprocessing.html\n",
      "Please also refer to the documentation for alternative solver options:\n",
      "    https://scikit-learn.org/stable/modules/linear_model.html#logistic-regression\n",
      "  n_iter_i = _check_optimize_result(\n"
     ]
    },
    {
     "data": {
      "text/plain": [
       "array([0, 0, 0, 0, 1, 0, 0, 0, 0, 1, 0, 0, 1, 0, 0, 0, 0, 0, 0, 0, 1, 1,\n",
       "       1, 1, 1, 1, 0, 1, 0, 1, 1, 1, 1, 0, 0, 1, 1, 0, 0, 0, 0, 1, 1, 1,\n",
       "       1, 1, 0, 0, 1, 1, 1, 0, 0, 1, 0, 0, 1, 0, 1, 1, 0, 1, 1, 0, 1, 1,\n",
       "       1, 1, 1, 0, 1, 1, 1, 1, 1, 1, 0, 0, 0, 0, 0, 0, 0, 0, 0, 1, 0, 0,\n",
       "       1, 1, 1, 0, 1, 1, 0, 0, 1, 1, 0, 0, 0, 0, 0, 0, 0, 1, 1, 1, 0, 0,\n",
       "       1, 1, 0, 1, 1, 0, 1, 1, 1, 0, 1, 0, 1, 0, 0, 1, 0, 0, 0, 0, 1, 1,\n",
       "       0, 0, 0, 0, 0, 1, 1, 0, 1, 0, 0, 1, 1, 0, 1, 0, 1, 1, 1, 1, 1, 1,\n",
       "       1, 1, 1, 1, 1, 0, 1, 1, 0, 0, 0, 1, 0, 1, 0, 0, 0, 0, 1, 0, 0, 1,\n",
       "       1, 1, 0, 0, 0, 1, 1, 0, 1, 1, 0, 0, 1, 0, 1, 0, 1, 0, 0, 1, 1])"
      ]
     },
     "execution_count": 15,
     "metadata": {},
     "output_type": "execute_result"
    }
   ],
   "source": [
    "from sklearn.linear_model import LogisticRegression\n",
    "from sklearn.model_selection import train_test_split\n",
    "\n",
    "X_train, X_test, y_train, y_test = train_test_split(X_resample, y_resample, test_size=0.2, random_state=42874824)\n",
    "\n",
    "model = LogisticRegression()\n",
    "\n",
    "model.fit(X_train, y_train)\n",
    "model.predict(X_test)"
   ]
  },
  {
   "cell_type": "markdown",
   "metadata": {},
   "source": [
    "### Tomek Link Undersampling -- Miller"
   ]
  },
  {
   "cell_type": "markdown",
   "metadata": {},
>>>>>>> a927a5c88a4b424b1b9579f1a83d4009a89f074d
   "source": []
  }
 ],
 "metadata": {
  "kernelspec": {
<<<<<<< HEAD
   "display_name": "Python 3",
=======
   "display_name": "Python 3 (ipykernel)",
>>>>>>> a927a5c88a4b424b1b9579f1a83d4009a89f074d
   "language": "python",
   "name": "python3"
  },
  "language_info": {
   "codemirror_mode": {
    "name": "ipython",
    "version": 3
   },
   "file_extension": ".py",
   "mimetype": "text/x-python",
   "name": "python",
   "nbconvert_exporter": "python",
   "pygments_lexer": "ipython3",
<<<<<<< HEAD
   "version": "3.11.4"
  },
  "orig_nbformat": 4
=======
   "version": "3.11.5"
  }
>>>>>>> a927a5c88a4b424b1b9579f1a83d4009a89f074d
 },
 "nbformat": 4,
 "nbformat_minor": 2
}
