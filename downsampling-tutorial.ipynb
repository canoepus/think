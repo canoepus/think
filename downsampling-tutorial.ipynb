{
 "cells": [
  {
   "cell_type": "markdown",
   "metadata": {},
   "source": [
    "### STEP 2: Introducing and Loading the Dataset -- Esther"
   ]
  },
  {
   "cell_type": "markdown",
   "metadata": {},
   "source": [
    "#### Installing and importing libraries"
   ]
  },
  {
   "cell_type": "code",
   "execution_count": 1,
   "metadata": {},
   "outputs": [
    {
     "name": "stdout",
     "output_type": "stream",
     "text": [
      "Requirement already satisfied: scipy in /Users/riajain/anaconda3/lib/python3.11/site-packages (1.11.1)\n",
      "Requirement already satisfied: numpy<1.28.0,>=1.21.6 in /Users/riajain/anaconda3/lib/python3.11/site-packages (from scipy) (1.24.3)\n",
      "Note: you may need to restart the kernel to use updated packages.\n",
      "Requirement already satisfied: matplotlib in /Users/riajain/anaconda3/lib/python3.11/site-packages (3.7.2)\n",
      "Requirement already satisfied: contourpy>=1.0.1 in /Users/riajain/anaconda3/lib/python3.11/site-packages (from matplotlib) (1.0.5)\n",
      "Requirement already satisfied: cycler>=0.10 in /Users/riajain/anaconda3/lib/python3.11/site-packages (from matplotlib) (0.11.0)\n",
      "Requirement already satisfied: fonttools>=4.22.0 in /Users/riajain/anaconda3/lib/python3.11/site-packages (from matplotlib) (4.25.0)\n",
      "Requirement already satisfied: kiwisolver>=1.0.1 in /Users/riajain/anaconda3/lib/python3.11/site-packages (from matplotlib) (1.4.4)\n",
      "Requirement already satisfied: numpy>=1.20 in /Users/riajain/anaconda3/lib/python3.11/site-packages (from matplotlib) (1.24.3)\n",
      "Requirement already satisfied: packaging>=20.0 in /Users/riajain/anaconda3/lib/python3.11/site-packages (from matplotlib) (23.1)\n",
      "Requirement already satisfied: pillow>=6.2.0 in /Users/riajain/anaconda3/lib/python3.11/site-packages (from matplotlib) (9.4.0)\n",
      "Requirement already satisfied: pyparsing<3.1,>=2.3.1 in /Users/riajain/anaconda3/lib/python3.11/site-packages (from matplotlib) (3.0.9)\n",
      "Requirement already satisfied: python-dateutil>=2.7 in /Users/riajain/anaconda3/lib/python3.11/site-packages (from matplotlib) (2.8.2)\n",
      "Requirement already satisfied: six>=1.5 in /Users/riajain/anaconda3/lib/python3.11/site-packages (from python-dateutil>=2.7->matplotlib) (1.16.0)\n",
      "Note: you may need to restart the kernel to use updated packages.\n",
      "Requirement already satisfied: numpy in /Users/riajain/anaconda3/lib/python3.11/site-packages (1.24.3)\n",
      "Note: you may need to restart the kernel to use updated packages.\n",
      "Requirement already satisfied: pandas in /Users/riajain/anaconda3/lib/python3.11/site-packages (2.0.3)\n",
      "Requirement already satisfied: python-dateutil>=2.8.2 in /Users/riajain/anaconda3/lib/python3.11/site-packages (from pandas) (2.8.2)\n",
      "Requirement already satisfied: pytz>=2020.1 in /Users/riajain/anaconda3/lib/python3.11/site-packages (from pandas) (2023.3.post1)\n",
      "Requirement already satisfied: tzdata>=2022.1 in /Users/riajain/anaconda3/lib/python3.11/site-packages (from pandas) (2023.3)\n",
      "Requirement already satisfied: numpy>=1.21.0 in /Users/riajain/anaconda3/lib/python3.11/site-packages (from pandas) (1.24.3)\n",
      "Requirement already satisfied: six>=1.5 in /Users/riajain/anaconda3/lib/python3.11/site-packages (from python-dateutil>=2.8.2->pandas) (1.16.0)\n",
      "Note: you may need to restart the kernel to use updated packages.\n",
      "Requirement already satisfied: seaborn in /Users/riajain/anaconda3/lib/python3.11/site-packages (0.12.2)\n",
      "Requirement already satisfied: numpy!=1.24.0,>=1.17 in /Users/riajain/anaconda3/lib/python3.11/site-packages (from seaborn) (1.24.3)\n",
      "Requirement already satisfied: pandas>=0.25 in /Users/riajain/anaconda3/lib/python3.11/site-packages (from seaborn) (2.0.3)\n",
      "Requirement already satisfied: matplotlib!=3.6.1,>=3.1 in /Users/riajain/anaconda3/lib/python3.11/site-packages (from seaborn) (3.7.2)\n",
      "Requirement already satisfied: contourpy>=1.0.1 in /Users/riajain/anaconda3/lib/python3.11/site-packages (from matplotlib!=3.6.1,>=3.1->seaborn) (1.0.5)\n",
      "Requirement already satisfied: cycler>=0.10 in /Users/riajain/anaconda3/lib/python3.11/site-packages (from matplotlib!=3.6.1,>=3.1->seaborn) (0.11.0)\n",
      "Requirement already satisfied: fonttools>=4.22.0 in /Users/riajain/anaconda3/lib/python3.11/site-packages (from matplotlib!=3.6.1,>=3.1->seaborn) (4.25.0)\n",
      "Requirement already satisfied: kiwisolver>=1.0.1 in /Users/riajain/anaconda3/lib/python3.11/site-packages (from matplotlib!=3.6.1,>=3.1->seaborn) (1.4.4)\n",
      "Requirement already satisfied: packaging>=20.0 in /Users/riajain/anaconda3/lib/python3.11/site-packages (from matplotlib!=3.6.1,>=3.1->seaborn) (23.1)\n",
      "Requirement already satisfied: pillow>=6.2.0 in /Users/riajain/anaconda3/lib/python3.11/site-packages (from matplotlib!=3.6.1,>=3.1->seaborn) (9.4.0)\n",
      "Requirement already satisfied: pyparsing<3.1,>=2.3.1 in /Users/riajain/anaconda3/lib/python3.11/site-packages (from matplotlib!=3.6.1,>=3.1->seaborn) (3.0.9)\n",
      "Requirement already satisfied: python-dateutil>=2.7 in /Users/riajain/anaconda3/lib/python3.11/site-packages (from matplotlib!=3.6.1,>=3.1->seaborn) (2.8.2)\n",
      "Requirement already satisfied: pytz>=2020.1 in /Users/riajain/anaconda3/lib/python3.11/site-packages (from pandas>=0.25->seaborn) (2023.3.post1)\n",
      "Requirement already satisfied: tzdata>=2022.1 in /Users/riajain/anaconda3/lib/python3.11/site-packages (from pandas>=0.25->seaborn) (2023.3)\n",
      "Requirement already satisfied: six>=1.5 in /Users/riajain/anaconda3/lib/python3.11/site-packages (from python-dateutil>=2.7->matplotlib!=3.6.1,>=3.1->seaborn) (1.16.0)\n",
      "Note: you may need to restart the kernel to use updated packages.\n",
      "Requirement already satisfied: scikit-learn in /Users/riajain/anaconda3/lib/python3.11/site-packages (1.2.2)\n",
      "Requirement already satisfied: numpy>=1.17.3 in /Users/riajain/anaconda3/lib/python3.11/site-packages (from scikit-learn) (1.24.3)\n",
      "Requirement already satisfied: scipy>=1.3.2 in /Users/riajain/anaconda3/lib/python3.11/site-packages (from scikit-learn) (1.11.1)\n",
      "Requirement already satisfied: joblib>=1.1.1 in /Users/riajain/anaconda3/lib/python3.11/site-packages (from scikit-learn) (1.2.0)\n",
      "Requirement already satisfied: threadpoolctl>=2.0.0 in /Users/riajain/anaconda3/lib/python3.11/site-packages (from scikit-learn) (2.2.0)\n",
      "Note: you may need to restart the kernel to use updated packages.\n"
     ]
    }
   ],
   "source": [
    "%pip install scipy\n",
    "%pip install matplotlib\n",
    "%pip install numpy\n",
    "%pip install pandas\n",
    "%pip install seaborn\n",
    "%pip install scikit-learn"
   ]
  },
  {
   "cell_type": "code",
   "execution_count": 2,
   "metadata": {},
   "outputs": [],
   "source": [
    "import numpy as np \n",
    "import pandas as pd\n",
    "import matplotlib.pyplot as plt\n",
    "import seaborn as sns\n",
    "from sklearn.manifold import TSNE\n",
    "from sklearn.decomposition import PCA, TruncatedSVD\n",
    "from sklearn.model_selection import train_test_split\n",
    "from sklearn.linear_model import LogisticRegression\n",
    "from imblearn.under_sampling import NearMiss\n",
    "import matplotlib.patches as mpatches\n",
    "import time"
   ]
  },
  {
   "cell_type": "code",
   "execution_count": 3,
   "metadata": {},
   "outputs": [
    {
     "data": {
      "text/plain": [
       "(284807, 31)"
      ]
     },
     "execution_count": 3,
     "metadata": {},
     "output_type": "execute_result"
    }
   ],
   "source": [
    "# Load in the dataset from a csv\n",
    "#csv = pd.read_csv('data/creditcard.csv')\n",
    "csv = pd.read_csv(\"/Users/riajain/Downloads/creditcard.csv\")\n",
    "\n",
    "# Convert the data to a pandas dataframe\n",
    "cc_data = pd.DataFrame(csv)\n",
    "\n",
    "# Get the shape of the dataframe: (rows, columns)\n",
    "cc_data.shape"
   ]
  },
  {
   "cell_type": "code",
   "execution_count": 4,
   "metadata": {},
   "outputs": [
    {
     "data": {
      "text/html": [
       "<div>\n",
       "<style scoped>\n",
       "    .dataframe tbody tr th:only-of-type {\n",
       "        vertical-align: middle;\n",
       "    }\n",
       "\n",
       "    .dataframe tbody tr th {\n",
       "        vertical-align: top;\n",
       "    }\n",
       "\n",
       "    .dataframe thead th {\n",
       "        text-align: right;\n",
       "    }\n",
       "</style>\n",
       "<table border=\"1\" class=\"dataframe\">\n",
       "  <thead>\n",
       "    <tr style=\"text-align: right;\">\n",
       "      <th></th>\n",
       "      <th>Time</th>\n",
       "      <th>V1</th>\n",
       "      <th>V2</th>\n",
       "      <th>V3</th>\n",
       "      <th>V4</th>\n",
       "      <th>V5</th>\n",
       "      <th>V6</th>\n",
       "      <th>V7</th>\n",
       "      <th>V8</th>\n",
       "      <th>V9</th>\n",
       "      <th>...</th>\n",
       "      <th>V21</th>\n",
       "      <th>V22</th>\n",
       "      <th>V23</th>\n",
       "      <th>V24</th>\n",
       "      <th>V25</th>\n",
       "      <th>V26</th>\n",
       "      <th>V27</th>\n",
       "      <th>V28</th>\n",
       "      <th>Amount</th>\n",
       "      <th>Class</th>\n",
       "    </tr>\n",
       "  </thead>\n",
       "  <tbody>\n",
       "    <tr>\n",
       "      <th>40826</th>\n",
       "      <td>40418.0</td>\n",
       "      <td>-1.035609</td>\n",
       "      <td>1.542912</td>\n",
       "      <td>0.637134</td>\n",
       "      <td>0.547050</td>\n",
       "      <td>0.511495</td>\n",
       "      <td>-0.319912</td>\n",
       "      <td>0.808113</td>\n",
       "      <td>-0.263696</td>\n",
       "      <td>-0.127401</td>\n",
       "      <td>...</td>\n",
       "      <td>0.076678</td>\n",
       "      <td>0.387602</td>\n",
       "      <td>-0.181921</td>\n",
       "      <td>-0.437136</td>\n",
       "      <td>-0.030114</td>\n",
       "      <td>-0.309839</td>\n",
       "      <td>-0.006461</td>\n",
       "      <td>0.301789</td>\n",
       "      <td>7.81</td>\n",
       "      <td>0</td>\n",
       "    </tr>\n",
       "    <tr>\n",
       "      <th>101894</th>\n",
       "      <td>67973.0</td>\n",
       "      <td>-1.089276</td>\n",
       "      <td>-0.001547</td>\n",
       "      <td>0.781297</td>\n",
       "      <td>-0.962553</td>\n",
       "      <td>0.035118</td>\n",
       "      <td>0.291487</td>\n",
       "      <td>-0.455825</td>\n",
       "      <td>0.563647</td>\n",
       "      <td>0.785614</td>\n",
       "      <td>...</td>\n",
       "      <td>0.248367</td>\n",
       "      <td>0.938419</td>\n",
       "      <td>-0.149674</td>\n",
       "      <td>-0.946807</td>\n",
       "      <td>0.167827</td>\n",
       "      <td>-0.388029</td>\n",
       "      <td>0.020399</td>\n",
       "      <td>0.039401</td>\n",
       "      <td>23.95</td>\n",
       "      <td>0</td>\n",
       "    </tr>\n",
       "    <tr>\n",
       "      <th>25615</th>\n",
       "      <td>33688.0</td>\n",
       "      <td>1.449760</td>\n",
       "      <td>-1.086815</td>\n",
       "      <td>0.939533</td>\n",
       "      <td>-1.387636</td>\n",
       "      <td>-1.860805</td>\n",
       "      <td>-0.599611</td>\n",
       "      <td>-1.338965</td>\n",
       "      <td>-0.022024</td>\n",
       "      <td>-1.908196</td>\n",
       "      <td>...</td>\n",
       "      <td>0.005017</td>\n",
       "      <td>0.415406</td>\n",
       "      <td>0.012767</td>\n",
       "      <td>0.534471</td>\n",
       "      <td>0.293291</td>\n",
       "      <td>-0.133644</td>\n",
       "      <td>0.050938</td>\n",
       "      <td>0.018934</td>\n",
       "      <td>7.90</td>\n",
       "      <td>0</td>\n",
       "    </tr>\n",
       "    <tr>\n",
       "      <th>230014</th>\n",
       "      <td>146148.0</td>\n",
       "      <td>-0.824533</td>\n",
       "      <td>0.498094</td>\n",
       "      <td>1.553030</td>\n",
       "      <td>2.514590</td>\n",
       "      <td>-0.215905</td>\n",
       "      <td>0.942234</td>\n",
       "      <td>-0.572247</td>\n",
       "      <td>0.047823</td>\n",
       "      <td>-0.599037</td>\n",
       "      <td>...</td>\n",
       "      <td>0.011410</td>\n",
       "      <td>0.151330</td>\n",
       "      <td>0.010503</td>\n",
       "      <td>0.702266</td>\n",
       "      <td>-1.767731</td>\n",
       "      <td>2.340788</td>\n",
       "      <td>-0.452543</td>\n",
       "      <td>0.285267</td>\n",
       "      <td>63.25</td>\n",
       "      <td>0</td>\n",
       "    </tr>\n",
       "    <tr>\n",
       "      <th>30054</th>\n",
       "      <td>35754.0</td>\n",
       "      <td>1.251524</td>\n",
       "      <td>-0.568358</td>\n",
       "      <td>0.021687</td>\n",
       "      <td>-0.704008</td>\n",
       "      <td>-0.690924</td>\n",
       "      <td>-0.167623</td>\n",
       "      <td>-0.792751</td>\n",
       "      <td>0.165397</td>\n",
       "      <td>-0.843836</td>\n",
       "      <td>...</td>\n",
       "      <td>0.118773</td>\n",
       "      <td>0.136699</td>\n",
       "      <td>-0.048256</td>\n",
       "      <td>-0.403626</td>\n",
       "      <td>0.261961</td>\n",
       "      <td>-0.251540</td>\n",
       "      <td>0.028354</td>\n",
       "      <td>0.033856</td>\n",
       "      <td>49.90</td>\n",
       "      <td>0</td>\n",
       "    </tr>\n",
       "  </tbody>\n",
       "</table>\n",
       "<p>5 rows × 31 columns</p>\n",
       "</div>"
      ],
      "text/plain": [
       "            Time        V1        V2        V3        V4        V5        V6  \\\n",
       "40826    40418.0 -1.035609  1.542912  0.637134  0.547050  0.511495 -0.319912   \n",
       "101894   67973.0 -1.089276 -0.001547  0.781297 -0.962553  0.035118  0.291487   \n",
       "25615    33688.0  1.449760 -1.086815  0.939533 -1.387636 -1.860805 -0.599611   \n",
       "230014  146148.0 -0.824533  0.498094  1.553030  2.514590 -0.215905  0.942234   \n",
       "30054    35754.0  1.251524 -0.568358  0.021687 -0.704008 -0.690924 -0.167623   \n",
       "\n",
       "              V7        V8        V9  ...       V21       V22       V23  \\\n",
       "40826   0.808113 -0.263696 -0.127401  ...  0.076678  0.387602 -0.181921   \n",
       "101894 -0.455825  0.563647  0.785614  ...  0.248367  0.938419 -0.149674   \n",
       "25615  -1.338965 -0.022024 -1.908196  ...  0.005017  0.415406  0.012767   \n",
       "230014 -0.572247  0.047823 -0.599037  ...  0.011410  0.151330  0.010503   \n",
       "30054  -0.792751  0.165397 -0.843836  ...  0.118773  0.136699 -0.048256   \n",
       "\n",
       "             V24       V25       V26       V27       V28  Amount  Class  \n",
       "40826  -0.437136 -0.030114 -0.309839 -0.006461  0.301789    7.81      0  \n",
       "101894 -0.946807  0.167827 -0.388029  0.020399  0.039401   23.95      0  \n",
       "25615   0.534471  0.293291 -0.133644  0.050938  0.018934    7.90      0  \n",
       "230014  0.702266 -1.767731  2.340788 -0.452543  0.285267   63.25      0  \n",
       "30054  -0.403626  0.261961 -0.251540  0.028354  0.033856   49.90      0  \n",
       "\n",
       "[5 rows x 31 columns]"
      ]
     },
     "execution_count": 4,
     "metadata": {},
     "output_type": "execute_result"
    }
   ],
   "source": [
    "# See the first five rows of the dataframe:\n",
    "cc_data.sample(5)"
   ]
  },
  {
   "cell_type": "markdown",
   "metadata": {},
   "source": [
    "### STEP 3: Exploratory data analysis -- Ria"
   ]
  },
  {
   "cell_type": "code",
   "execution_count": 6,
   "metadata": {},
   "outputs": [
    {
     "name": "stdout",
     "output_type": "stream",
     "text": [
      "No Fraud 99.83 % of the dataset\n",
      "Frauds 0.17 % of the dataset\n"
     ]
    }
   ],
   "source": [
    "print('No Fraud', round(cc_data['Class'].value_counts()[0]/len(cc_data) * 100,2), '% of the dataset')\n",
    "print('Frauds', round(cc_data['Class'].value_counts()[1]/len(cc_data) * 100,2), '% of the dataset')"
   ]
  },
  {
   "cell_type": "code",
   "execution_count": 10,
   "metadata": {},
   "outputs": [
    {
     "data": {
      "text/plain": [
       "Text(0.5, 1.0, 'Class Distributions \\n (0: No Fraud || 1: Fraud)')"
      ]
     },
     "execution_count": 10,
     "metadata": {},
     "output_type": "execute_result"
    },
    {
     "data": {
      "image/png": "[encoded data removed]",
      "text/plain": [
       "<Figure size 400x700 with 1 Axes>"
      ]
     },
     "metadata": {},
     "output_type": "display_data"
    }
   ],
   "source": [
    "# Create a bar chart that visualizes the imbalance between fraudulent and non-fraudulent data\n",
    "\n",
    "plt.figure(figsize = (4, 7))\n",
    "sns.countplot(data=cc_data, x='Class')\n",
    "plt.title('Class Distributions \\n (0: No Fraud || 1: Fraud)', fontsize=14)"
   ]
  },
  {
   "cell_type": "markdown",
   "metadata": {},
   "source": []
  },
  {
   "cell_type": "markdown",
   "metadata": {},
   "source": [
    "## STEP 4: Data Cleaning and Initializing The Model with sklearn (no undersampling) -- MILLER"
   ]
  },
  {
   "cell_type": "markdown",
   "metadata": {},
   "source": [
    "### Data splitting"
   ]
  },
  {
   "cell_type": "code",
   "execution_count": null,
   "metadata": {},
   "outputs": [],
   "source": [
    "#https://scikit-learn.org/stable/modules/generated/sklearn.model_selection.train_test_split.html\n",
    "\n",
    "X_train, X_test, Y_train, Y_test = train_test_split(df_no_dup['text'], \n",
    "                                                    df_no_dup['target'],\n",
    "                                                    test_size=0.3,\n",
    "                                                    random_state=0)"
   ]
  },
  {
   "cell_type": "markdown",
   "metadata": {},
   "source": [
    "### Data preparation and data cleaning"
   ]
  },
  {
   "cell_type": "code",
   "execution_count": null,
   "metadata": {},
   "outputs": [],
   "source": [
    "def text_clean(text, method, rm_stop):\n",
    "    text = re.sub(r\"\\n\",\"\",text)   #remove line breaks\n",
    "    text = text.lower() #convert to lowercase \n",
    "    text = re.sub(r\"\\d+\",\"\",text)   #remove digits and currencies \n",
    "    text = re.sub(r'[\\$\\d+\\d+\\$]', \"\", text)      \n",
    "    text = re.sub(r'\\d+[\\.\\/-]\\d+[\\.\\/-]\\d+', '', text)   #remove dates \n",
    "    text = re.sub(r'\\d+[\\.\\/-]\\d+[\\.\\/-]\\d+', '', text)\n",
    "    text = re.sub(r'\\d+[\\.\\/-]\\d+[\\.\\/-]\\d+', '', text)\n",
    "    text = re.sub(r'[^\\x00-\\x7f]',r' ',text)   #remove non-ascii\n",
    "    text = re.sub(r'[^\\w\\s]','',text)   #remove punctuation\n",
    "    text = re.sub(r'https?:\\/\\/.*[\\r\\n]*', '', text)   #remove hyperlinks\n",
    "    \n",
    "    #remove stop words \n",
    "    if rm_stop == True:\n",
    "        filtered_tokens = [word for word in word_tokenize(text) if not word in set(stopwords.words('english'))]\n",
    "        text = \" \".join(filtered_tokens)\n",
    "        \n",
    "    #lemmatization: typically preferred over stemming\n",
    "    if method == 'L':\n",
    "        lemmer = WordNetLemmatizer()\n",
    "        lemm_tokens = [lemmer.lemmatize(word) for word in word_tokenize(text)]\n",
    "        return \" \".join(lemm_tokens)\n",
    "    \n",
    "    #stemming \n",
    "    if method == 'S':\n",
    "        porter = PorterStemmer()\n",
    "        stem_tokens = [porter.stem(word) for word in word_tokenize(text)]\n",
    "        return \" \".join(stem_tokens)\n",
    "    \n",
    "    return text"
   ]
  },
  {
   "cell_type": "code",
   "execution_count": null,
   "metadata": {},
   "outputs": [],
   "source": [
    "#preprocessed data: Lemm + stopword removal \n",
    "preprocessed_text_1 = [text_clean(text, 'L', True) for text in X_train]\n",
    "#preprocessed_text_1[0:10]\n",
    "\n",
    "#preprocessed data: Lemm + no stopword removal \n",
    "preprocessed_text_2 = [text_clean(text, 'L', False) for text in X_train]\n",
    "#preprocessed_text_2[0:10]\n",
    "\n",
    "#preprocessed data: Stem + stopword removal \n",
    "preprocessed_text_3 = [text_clean(text, 'S', True) for text in X_train]\n",
    "#preprocessed_text_3[0:10]\n",
    "\n",
    "#preprocessed data: Stem + no stopword removal \n",
    "preprocessed_text_4 = [text_clean(text, 'S', False) for text in X_train]\n",
    "#preprocessed_text_4[0:10]"
   ]
  },
  {
   "cell_type": "markdown",
   "metadata": {},
   "source": [
    "### WE'RE USING RANDOM FORESTS AS OUR CLASSIFIER"
   ]
  },
  {
   "cell_type": "code",
   "execution_count": null,
   "metadata": {},
   "outputs": [],
   "source": [
    "def transform_model_data_w_count_vectorizer(preprocessed_text, Y_train,  X_test, Y_test):\n",
    "    #vectorize dataset \n",
    "    vectorizer = CountVectorizer()\n",
    "    vectorized_data = vectorizer.fit_transform(preprocessed_text)\n",
    "\n",
    "    #define model\n",
    "    model = MultinomialNB(alpha=0.1)\n",
    "    model.fit(vectorized_data, Y_train)\n",
    "\n",
    "    #evaluate model\n",
    "    predictions = model.predict(vectorizer.transform(X_test))\n",
    "    accuracy = accuracy_score( Y_test, predictions)\n",
    "    balanced_accuracy = balanced_accuracy_score(Y_test, predictions)\n",
    "    precision = precision_score(Y_test, predictions)\n",
    "\n",
    "    print(\"Accuracy:\",round(100*accuracy,2),'%')\n",
    "    print(\"Balanced accuracy:\",round(100*balanced_accuracy,2),'%')\n",
    "    print(\"Precision:\", round(100*precision,2),'%')\n",
    "    return predictions"
   ]
  },
  {
   "cell_type": "code",
   "execution_count": null,
   "metadata": {},
   "outputs": [],
   "source": [
    "def transform_model_data_w_tfidf_vectorizer(preprocessed_text, Y_train,  X_test, Y_test):\n",
    "    #vectorize dataset \n",
    "    tfidf = TfidfVectorizer() \n",
    "    vectorized_data = tfidf.fit_transform(preprocessed_text)\n",
    "\n",
    "    #define model\n",
    "    model = MultinomialNB(alpha=0.1)\n",
    "    model.fit(vectorized_data, Y_train)\n",
    " \n",
    "    #evaluate model\n",
    "    predictions = model.predict(tfidf.transform(X_test))\n",
    "\n",
    "    accuracy = accuracy_score( Y_test, predictions)\n",
    "    balanced_accuracy = balanced_accuracy_score(Y_test, predictions)\n",
    "    precision = precision_score(Y_test, predictions)\n",
    "\n",
    "    print(\"Accuracy:\",round(100*accuracy,2),'%')\n",
    "    print(\"Balanced accuracy:\",round(100*balanced_accuracy,2),'%')\n",
    "    print(\"Precision:\", round(100*precision,2),'%')\n",
    "    return predictions"
   ]
  },
  {
   "cell_type": "code",
   "execution_count": null,
   "metadata": {},
   "outputs": [],
   "source": [
    "#vectorize, model, and evaluate model using CountVectorizer\n",
    "\n",
    "#Lemm + stopword removal \n",
    "print(\"Lemm + stopword removal + CountVectorizer\") \n",
    "transform_model_data_w_count_vectorizer(preprocessed_text_1, Y_train,  X_test, Y_test)\n",
    "\n",
    "#Lemm + no stopword removal \n",
    "print(\"\\nLemm + no stopword removal + CountVectorizer\") \n",
    "transform_model_data_w_count_vectorizer(preprocessed_text_2, Y_train,  X_test, Y_test)\n",
    "\n",
    "#Stem + stopword removal \n",
    "print(\"\\nStem + stopword removal + CountVectorizer\") \n",
    "transform_model_data_w_count_vectorizer(preprocessed_text_3, Y_train,  X_test, Y_test)\n",
    "\n",
    "#Stem + no stopword removal \n",
    "print(\"\\nStem + no stopword removal + CountVectorizer\") \n",
    "transform_model_data_w_count_vectorizer(preprocessed_text_4, Y_train,  X_test, Y_test)"
   ]
  },
  {
   "cell_type": "code",
   "execution_count": null,
   "metadata": {},
   "outputs": [],
   "source": [
    "#vectorize, model, and evaluate model using TfidfVectorizer\n",
    "\n",
    "#Lemm + stopword removal \n",
    "print(\"Lemm + stopword removal + TfidfVectorizer\") \n",
    "transform_model_data_w_tfidf_vectorizer(preprocessed_text_1, Y_train,  X_test, Y_test)\n",
    "\n",
    "#Lemm + no stopword removal \n",
    "print(\"\\nLemm + no stopword removal + TfidfVectorizer\") \n",
    "transform_model_data_w_tfidf_vectorizer(preprocessed_text_2, Y_train,  X_test, Y_test)\n",
    "\n",
    "#Stem + stopword removal \n",
    "print(\"\\nStem + stopword removal + TfidfVectorizer\") \n",
    "transform_model_data_w_tfidf_vectorizer(preprocessed_text_3, Y_train,  X_test, Y_test)\n",
    "\n",
    "#Stem + no stopword removal \n",
    "print(\"\\nStem + no stopword removal + TfidfVectorizer\") \n",
    "transform_model_data_w_tfidf_vectorizer(preprocessed_text_4, Y_train,  X_test, Y_test)"
   ]
  },
  {
   "cell_type": "code",
   "execution_count": null,
   "metadata": {},
   "outputs": [],
   "source": [
    "predictions = transform_model_data_w_tfidf_vectorizer(preprocessed_text_4, Y_train,  X_test, Y_test)"
   ]
  },
  {
   "cell_type": "code",
   "execution_count": null,
   "metadata": {},
   "outputs": [],
   "source": [
    "#compute the confusion matrix.\n",
    "cm = confusion_matrix(Y_test, predictions)\n",
    "\n",
    " #Plot the confusion matrix.\n",
    "disp = ConfusionMatrixDisplay(confusion_matrix=cm, display_labels=model.classes_)\n",
    "disp.plot()\n",
    "plt.show()"
   ]
  },
  {
   "cell_type": "markdown",
   "metadata": {},
   "source": [
    "## STEP 4b: Evaluation with Performance Metrics -- Alyssa"
   ]
  },
  {
   "cell_type": "markdown",
   "metadata": {},
   "source": [
    "## STEP 5: Undersampling Techniques -- Esther (just write the general blurb for this)"
   ]
  },
  {
   "cell_type": "markdown",
   "metadata": {},
   "source": [
    "### Random Downsampling -- Esther"
   ]
  },
  {
   "cell_type": "code",
   "execution_count": null,
   "metadata": {},
   "outputs": [],
   "source": [
    "fraud_df = cc_data.loc[cc_data['Class'] == 1]\n",
    "non_fraud_df = cc_data.loc[cc_data['Class'] == 0][:492]\n",
    "display(fraud_df.head())\n",
    "display(non_fraud_df.head())"
   ]
  },
  {
   "cell_type": "markdown",
   "metadata": {},
   "source": [
    "### Spam and Ham Stuff\n"
   ]
  },
  {
   "cell_type": "code",
   "execution_count": null,
   "metadata": {},
   "outputs": [],
   "source": [
    "colors = [\"#0101DF\", \"#DF0101\"]\n",
    "\n",
    "sns.countplot(data=df, x='Class', palette=colors)\n",
    "plt.title('Class Distributions \\n (0: No Fraud || 1: Fraud)', fontsize=14)"
   ]
  },
  {
   "cell_type": "code",
   "execution_count": null,
   "metadata": {},
   "outputs": [],
   "source": [
    "print('Top 5 common duplicate texts are:')\n",
    "data[data.duplicates == 1].pivot_table(index='text', values='target', aggfunc='count').sort_values(by='target', ascending=False).head(5)"
   ]
  },
  {
   "cell_type": "code",
   "execution_count": null,
   "metadata": {},
   "outputs": [],
   "source": [
    "#check for missing data\n",
    "print(\"Missing data in each column:\\n\" + str(data.isnull().sum()))"
   ]
  },
  {
   "cell_type": "code",
   "execution_count": null,
   "metadata": {},
   "outputs": [],
   "source": [
    "data['target'].value_counts()"
   ]
  },
  {
   "cell_type": "code",
   "execution_count": null,
   "metadata": {},
   "outputs": [],
   "source": [
    "# Explore distribution of dataset \n",
    "\n",
    "# count plot on single categorical variable\n",
    "ax = sns.countplot(x = data['classification'], palette = 'rocket')\n",
    "\n",
    "#add data labels\n",
    "ax.bar_label(ax.containers[0])\n",
    "\n",
    "# add plot title\n",
    "plt.title(\"Observations by Classification Type\")\n",
    "\n",
    "# show plot\n",
    "plt.show()"
   ]
  },
  {
   "cell_type": "markdown",
   "metadata": {},
   "source": [
    "Note: Distribution of dataset indicates imbalanced data."
   ]
  },
  {
   "cell_type": "code",
   "execution_count": null,
   "metadata": {},
   "outputs": [],
   "source": [
    "# Dropping all duplicate texts based off of results of EDA\n",
    "df_no_dup = data.drop_duplicates(subset=['text'], keep='first')"
   ]
  },
  {
   "cell_type": "code",
   "execution_count": null,
   "metadata": {},
   "outputs": [],
   "source": [
    "# Explore distribution of dataset \n",
    "\n",
    "# count plot on single categorical variable\n",
    "ax = sns.countplot(x = df_no_dup['classification'], palette = 'rocket')\n",
    "\n",
    "#add data labels\n",
    "ax.bar_label(ax.containers[0])\n",
    "\n",
    "# add plot title\n",
    "plt.title(\"Observations by Classification Type\")\n",
    "\n",
    "# show plot\n",
    "plt.show()"
   ]
  },
  {
   "cell_type": "markdown",
   "metadata": {},
   "source": [
    "###  Near Miss Undersampling -- Ria"
   ]
  },
  {
   "cell_type": "code",
   "execution_count": 16,
   "metadata": {},
   "outputs": [],
   "source": [
    "#Splitting the data into features and labels \n",
    "X = cc_data.iloc[:,:30]\n",
    "y = cc_data.iloc[:, 30]\n",
    "\n",
    "X_train, X_val, y_train, y_val = train_test_split(X, y, test_size=0.2, random_state=45)\n",
    "\n",
    "near_miss = NearMiss()\n",
    "X_resample, y_resample = near_miss.fit_resample(X_train,y_train)"
   ]
  },
  {
   "cell_type": "code",
   "execution_count": 17,
   "metadata": {},
   "outputs": [
    {
     "name": "stdout",
     "output_type": "stream",
     "text": [
      "Before Undersampling, counts of label '1': 377\n",
      "Before Undersampling, counts of label '0': 227468 \n",
      "\n",
      "After Undersampling, counts of label '1': 377\n",
      "After Undersampling, counts of label '0': 377\n"
     ]
    }
   ],
   "source": [
    "print(\"Before Undersampling, counts of label '1': {}\".format(sum(y_train == 1)))\n",
    "print(\"Before Undersampling, counts of label '0': {} \\n\".format(sum(y_train == 0))) \n",
    "  \n",
    "print(\"After Undersampling, counts of label '1': {}\".format(sum(y_resample == 1))) \n",
    "print(\"After Undersampling, counts of label '0': {}\".format(sum(y_resample == 0))) "
   ]
  },
  {
   "cell_type": "code",
   "execution_count": 18,
   "metadata": {},
   "outputs": [
    {
     "name": "stdout",
     "output_type": "stream",
     "text": [
      "0.9991397773954567\n"
     ]
    }
   ],
   "source": [
    "# Using sklearn's Logistic Regression model class -> most useful for binary classification \n",
    "model = LogisticRegression(max_iter = 1000)\n",
    "\n",
    "# Fitting the training data\n",
    "model.fit(X_train, y_train)\n",
    "\n",
    "score = model.score(X_val, y_val)\n",
    "print(score)"
   ]
  },
  {
   "cell_type": "markdown",
   "metadata": {},
   "source": [
    "### Tomek Link Undersampling -- Miller"
   ]
  },
  {
   "cell_type": "markdown",
   "metadata": {},
   "source": []
  }
 ],
 "metadata": {
  "kernelspec": {
   "display_name": "Python 3 (ipykernel)",
   "language": "python",
   "name": "python3"
  },
  "language_info": {
   "codemirror_mode": {
    "name": "ipython",
    "version": 3
   },
   "file_extension": ".py",
   "mimetype": "text/x-python",
   "name": "python",
   "nbconvert_exporter": "python",
   "pygments_lexer": "ipython3",
   "version": "3.11.5"
  }
 },
 "nbformat": 4,
 "nbformat_minor": 2
}
