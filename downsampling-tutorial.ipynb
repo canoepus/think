{
 "cells": [
  {
   "cell_type": "markdown",
   "metadata": {},
   "source": [
    "### STEP 2: Introducing and Loading the Dataset -- Esther"
   ]
  },
  {
<<<<<<< HEAD
   "cell_type": "markdown",
=======
   "cell_type": "code",
   "execution_count": 1,
>>>>>>> 3ab5eefa9ad2b3220c35060d08ecc87c07b07adf
   "metadata": {},
   "source": [
<<<<<<< HEAD
    "#### Installing and importing libraries"
=======
    "import numpy as np \n",
    "import pandas as pd\n",
    "import matplotlib.pyplot as plt\n",
    "import seaborn as sns\n",
    "from sklearn.manifold import TSNE\n",
    "from sklearn.decomposition import PCA, TruncatedSVD\n",
    "from sklearn.ensemble import RandomForestClassifier\n",
    "from imblearn.under_sampling import RandomUnderSampler\n",
    "from imblearn.under_sampling import NearMiss\n",
    "from imblearn.under_sampling import TomekLinks\n",
    "\n",
    "import matplotlib.patches as mpatches\n",
    "import time"
>>>>>>> 3ab5eefa9ad2b3220c35060d08ecc87c07b07adf
   ]
  },
  {
   "cell_type": "code",
<<<<<<< HEAD
   "execution_count": 4,
=======
   "execution_count": 2,
>>>>>>> 3ab5eefa9ad2b3220c35060d08ecc87c07b07adf
   "metadata": {},
   "outputs": [
    {
     "name": "stdout",
     "output_type": "stream",
     "text": [
<<<<<<< HEAD
      "Requirement already satisfied: scipy in /opt/homebrew/lib/python3.11/site-packages (1.13.0)\n",
      "Requirement already satisfied: numpy<2.3,>=1.22.4 in /opt/homebrew/lib/python3.11/site-packages (from scipy) (1.24.2)\n",
      "\n",
      "\u001b[1m[\u001b[0m\u001b[34;49mnotice\u001b[0m\u001b[1;39;49m]\u001b[0m\u001b[39;49m A new release of pip is available: \u001b[0m\u001b[31;49m23.2.1\u001b[0m\u001b[39;49m -> \u001b[0m\u001b[32;49m24.0\u001b[0m\n",
      "\u001b[1m[\u001b[0m\u001b[34;49mnotice\u001b[0m\u001b[1;39;49m]\u001b[0m\u001b[39;49m To update, run: \u001b[0m\u001b[32;49mpython3.11 -m pip install --upgrade pip\u001b[0m\n",
      "Note: you may need to restart the kernel to use updated packages.\n",
      "Requirement already satisfied: matplotlib in /opt/homebrew/lib/python3.11/site-packages (3.8.3)\n",
      "Requirement already satisfied: contourpy>=1.0.1 in /opt/homebrew/lib/python3.11/site-packages (from matplotlib) (1.2.0)\n",
      "Requirement already satisfied: cycler>=0.10 in /opt/homebrew/lib/python3.11/site-packages (from matplotlib) (0.12.1)\n",
      "Requirement already satisfied: fonttools>=4.22.0 in /opt/homebrew/lib/python3.11/site-packages (from matplotlib) (4.49.0)\n",
      "Requirement already satisfied: kiwisolver>=1.3.1 in /opt/homebrew/lib/python3.11/site-packages (from matplotlib) (1.4.5)\n",
      "Requirement already satisfied: numpy<2,>=1.21 in /opt/homebrew/lib/python3.11/site-packages (from matplotlib) (1.24.2)\n",
      "Requirement already satisfied: packaging>=20.0 in /opt/homebrew/lib/python3.11/site-packages (from matplotlib) (23.2)\n",
      "Requirement already satisfied: pillow>=8 in /opt/homebrew/lib/python3.11/site-packages (from matplotlib) (10.2.0)\n",
      "Requirement already satisfied: pyparsing>=2.3.1 in /opt/homebrew/lib/python3.11/site-packages (from matplotlib) (3.1.1)\n",
      "Requirement already satisfied: python-dateutil>=2.7 in /opt/homebrew/lib/python3.11/site-packages (from matplotlib) (2.8.2)\n",
      "Requirement already satisfied: six>=1.5 in /opt/homebrew/lib/python3.11/site-packages (from python-dateutil>=2.7->matplotlib) (1.16.0)\n",
      "\n",
      "\u001b[1m[\u001b[0m\u001b[34;49mnotice\u001b[0m\u001b[1;39;49m]\u001b[0m\u001b[39;49m A new release of pip is available: \u001b[0m\u001b[31;49m23.2.1\u001b[0m\u001b[39;49m -> \u001b[0m\u001b[32;49m24.0\u001b[0m\n",
      "\u001b[1m[\u001b[0m\u001b[34;49mnotice\u001b[0m\u001b[1;39;49m]\u001b[0m\u001b[39;49m To update, run: \u001b[0m\u001b[32;49mpython3.11 -m pip install --upgrade pip\u001b[0m\n",
      "Note: you may need to restart the kernel to use updated packages.\n",
      "Requirement already satisfied: numpy in /opt/homebrew/lib/python3.11/site-packages (1.24.2)\n",
      "\n",
      "\u001b[1m[\u001b[0m\u001b[34;49mnotice\u001b[0m\u001b[1;39;49m]\u001b[0m\u001b[39;49m A new release of pip is available: \u001b[0m\u001b[31;49m23.2.1\u001b[0m\u001b[39;49m -> \u001b[0m\u001b[32;49m24.0\u001b[0m\n",
      "\u001b[1m[\u001b[0m\u001b[34;49mnotice\u001b[0m\u001b[1;39;49m]\u001b[0m\u001b[39;49m To update, run: \u001b[0m\u001b[32;49mpython3.11 -m pip install --upgrade pip\u001b[0m\n",
      "Note: you may need to restart the kernel to use updated packages.\n",
      "Requirement already satisfied: pandas in /opt/homebrew/lib/python3.11/site-packages (2.2.1)\n",
      "Requirement already satisfied: numpy<2,>=1.23.2 in /opt/homebrew/lib/python3.11/site-packages (from pandas) (1.24.2)\n",
      "Requirement already satisfied: python-dateutil>=2.8.2 in /opt/homebrew/lib/python3.11/site-packages (from pandas) (2.8.2)\n",
      "Requirement already satisfied: pytz>=2020.1 in /opt/homebrew/lib/python3.11/site-packages (from pandas) (2024.1)\n",
      "Requirement already satisfied: tzdata>=2022.7 in /opt/homebrew/lib/python3.11/site-packages (from pandas) (2024.1)\n",
      "Requirement already satisfied: six>=1.5 in /opt/homebrew/lib/python3.11/site-packages (from python-dateutil>=2.8.2->pandas) (1.16.0)\n",
      "\n",
      "\u001b[1m[\u001b[0m\u001b[34;49mnotice\u001b[0m\u001b[1;39;49m]\u001b[0m\u001b[39;49m A new release of pip is available: \u001b[0m\u001b[31;49m23.2.1\u001b[0m\u001b[39;49m -> \u001b[0m\u001b[32;49m24.0\u001b[0m\n",
      "\u001b[1m[\u001b[0m\u001b[34;49mnotice\u001b[0m\u001b[1;39;49m]\u001b[0m\u001b[39;49m To update, run: \u001b[0m\u001b[32;49mpython3.11 -m pip install --upgrade pip\u001b[0m\n",
      "Note: you may need to restart the kernel to use updated packages.\n",
      "Requirement already satisfied: seaborn in /opt/homebrew/lib/python3.11/site-packages (0.13.2)\n",
      "Requirement already satisfied: numpy!=1.24.0,>=1.20 in /opt/homebrew/lib/python3.11/site-packages (from seaborn) (1.24.2)\n",
      "Requirement already satisfied: pandas>=1.2 in /opt/homebrew/lib/python3.11/site-packages (from seaborn) (2.2.1)\n",
      "Requirement already satisfied: matplotlib!=3.6.1,>=3.4 in /opt/homebrew/lib/python3.11/site-packages (from seaborn) (3.8.3)\n",
      "Requirement already satisfied: contourpy>=1.0.1 in /opt/homebrew/lib/python3.11/site-packages (from matplotlib!=3.6.1,>=3.4->seaborn) (1.2.0)\n",
      "Requirement already satisfied: cycler>=0.10 in /opt/homebrew/lib/python3.11/site-packages (from matplotlib!=3.6.1,>=3.4->seaborn) (0.12.1)\n",
      "Requirement already satisfied: fonttools>=4.22.0 in /opt/homebrew/lib/python3.11/site-packages (from matplotlib!=3.6.1,>=3.4->seaborn) (4.49.0)\n",
      "Requirement already satisfied: kiwisolver>=1.3.1 in /opt/homebrew/lib/python3.11/site-packages (from matplotlib!=3.6.1,>=3.4->seaborn) (1.4.5)\n",
      "Requirement already satisfied: packaging>=20.0 in /opt/homebrew/lib/python3.11/site-packages (from matplotlib!=3.6.1,>=3.4->seaborn) (23.2)\n",
      "Requirement already satisfied: pillow>=8 in /opt/homebrew/lib/python3.11/site-packages (from matplotlib!=3.6.1,>=3.4->seaborn) (10.2.0)\n",
      "Requirement already satisfied: pyparsing>=2.3.1 in /opt/homebrew/lib/python3.11/site-packages (from matplotlib!=3.6.1,>=3.4->seaborn) (3.1.1)\n",
      "Requirement already satisfied: python-dateutil>=2.7 in /opt/homebrew/lib/python3.11/site-packages (from matplotlib!=3.6.1,>=3.4->seaborn) (2.8.2)\n",
      "Requirement already satisfied: pytz>=2020.1 in /opt/homebrew/lib/python3.11/site-packages (from pandas>=1.2->seaborn) (2024.1)\n",
      "Requirement already satisfied: tzdata>=2022.7 in /opt/homebrew/lib/python3.11/site-packages (from pandas>=1.2->seaborn) (2024.1)\n",
      "Requirement already satisfied: six>=1.5 in /opt/homebrew/lib/python3.11/site-packages (from python-dateutil>=2.7->matplotlib!=3.6.1,>=3.4->seaborn) (1.16.0)\n",
      "\n",
      "\u001b[1m[\u001b[0m\u001b[34;49mnotice\u001b[0m\u001b[1;39;49m]\u001b[0m\u001b[39;49m A new release of pip is available: \u001b[0m\u001b[31;49m23.2.1\u001b[0m\u001b[39;49m -> \u001b[0m\u001b[32;49m24.0\u001b[0m\n",
      "\u001b[1m[\u001b[0m\u001b[34;49mnotice\u001b[0m\u001b[1;39;49m]\u001b[0m\u001b[39;49m To update, run: \u001b[0m\u001b[32;49mpython3.11 -m pip install --upgrade pip\u001b[0m\n",
      "Note: you may need to restart the kernel to use updated packages.\n",
      "Requirement already satisfied: scikit-learn in /opt/homebrew/lib/python3.11/site-packages (1.4.2)\n",
      "Requirement already satisfied: numpy>=1.19.5 in /opt/homebrew/lib/python3.11/site-packages (from scikit-learn) (1.24.2)\n",
      "Requirement already satisfied: scipy>=1.6.0 in /opt/homebrew/lib/python3.11/site-packages (from scikit-learn) (1.13.0)\n",
      "Requirement already satisfied: joblib>=1.2.0 in /opt/homebrew/lib/python3.11/site-packages (from scikit-learn) (1.3.2)\n",
      "Requirement already satisfied: threadpoolctl>=2.0.0 in /opt/homebrew/lib/python3.11/site-packages (from scikit-learn) (3.4.0)\n",
      "\n",
      "\u001b[1m[\u001b[0m\u001b[34;49mnotice\u001b[0m\u001b[1;39;49m]\u001b[0m\u001b[39;49m A new release of pip is available: \u001b[0m\u001b[31;49m23.2.1\u001b[0m\u001b[39;49m -> \u001b[0m\u001b[32;49m24.0\u001b[0m\n",
      "\u001b[1m[\u001b[0m\u001b[34;49mnotice\u001b[0m\u001b[1;39;49m]\u001b[0m\u001b[39;49m To update, run: \u001b[0m\u001b[32;49mpython3.11 -m pip install --upgrade pip\u001b[0m\n",
=======
      "Requirement already satisfied: scipy in /Users/riajain/anaconda3/lib/python3.11/site-packages (1.11.1)\n",
      "Requirement already satisfied: numpy<1.28.0,>=1.21.6 in /Users/riajain/anaconda3/lib/python3.11/site-packages (from scipy) (1.24.3)\n",
      "Note: you may need to restart the kernel to use updated packages.\n",
      "Requirement already satisfied: matplotlib in /Users/riajain/anaconda3/lib/python3.11/site-packages (3.7.2)\n",
      "Requirement already satisfied: contourpy>=1.0.1 in /Users/riajain/anaconda3/lib/python3.11/site-packages (from matplotlib) (1.0.5)\n",
      "Requirement already satisfied: cycler>=0.10 in /Users/riajain/anaconda3/lib/python3.11/site-packages (from matplotlib) (0.11.0)\n",
      "Requirement already satisfied: fonttools>=4.22.0 in /Users/riajain/anaconda3/lib/python3.11/site-packages (from matplotlib) (4.25.0)\n",
      "Requirement already satisfied: kiwisolver>=1.0.1 in /Users/riajain/anaconda3/lib/python3.11/site-packages (from matplotlib) (1.4.4)\n",
      "Requirement already satisfied: numpy>=1.20 in /Users/riajain/anaconda3/lib/python3.11/site-packages (from matplotlib) (1.24.3)\n",
      "Requirement already satisfied: packaging>=20.0 in /Users/riajain/anaconda3/lib/python3.11/site-packages (from matplotlib) (23.1)\n",
      "Requirement already satisfied: pillow>=6.2.0 in /Users/riajain/anaconda3/lib/python3.11/site-packages (from matplotlib) (9.4.0)\n",
      "Requirement already satisfied: pyparsing<3.1,>=2.3.1 in /Users/riajain/anaconda3/lib/python3.11/site-packages (from matplotlib) (3.0.9)\n",
      "Requirement already satisfied: python-dateutil>=2.7 in /Users/riajain/anaconda3/lib/python3.11/site-packages (from matplotlib) (2.8.2)\n",
      "Requirement already satisfied: six>=1.5 in /Users/riajain/anaconda3/lib/python3.11/site-packages (from python-dateutil>=2.7->matplotlib) (1.16.0)\n",
      "Note: you may need to restart the kernel to use updated packages.\n",
      "Requirement already satisfied: numpy in /Users/riajain/anaconda3/lib/python3.11/site-packages (1.24.3)\n",
      "Note: you may need to restart the kernel to use updated packages.\n",
      "Requirement already satisfied: pandas in /Users/riajain/anaconda3/lib/python3.11/site-packages (2.0.3)\n",
      "Requirement already satisfied: python-dateutil>=2.8.2 in /Users/riajain/anaconda3/lib/python3.11/site-packages (from pandas) (2.8.2)\n",
      "Requirement already satisfied: pytz>=2020.1 in /Users/riajain/anaconda3/lib/python3.11/site-packages (from pandas) (2023.3.post1)\n",
      "Requirement already satisfied: tzdata>=2022.1 in /Users/riajain/anaconda3/lib/python3.11/site-packages (from pandas) (2023.3)\n",
      "Requirement already satisfied: numpy>=1.21.0 in /Users/riajain/anaconda3/lib/python3.11/site-packages (from pandas) (1.24.3)\n",
      "Requirement already satisfied: six>=1.5 in /Users/riajain/anaconda3/lib/python3.11/site-packages (from python-dateutil>=2.8.2->pandas) (1.16.0)\n",
      "Note: you may need to restart the kernel to use updated packages.\n",
      "Requirement already satisfied: seaborn in /Users/riajain/anaconda3/lib/python3.11/site-packages (0.12.2)\n",
      "Requirement already satisfied: numpy!=1.24.0,>=1.17 in /Users/riajain/anaconda3/lib/python3.11/site-packages (from seaborn) (1.24.3)\n",
      "Requirement already satisfied: pandas>=0.25 in /Users/riajain/anaconda3/lib/python3.11/site-packages (from seaborn) (2.0.3)\n",
      "Requirement already satisfied: matplotlib!=3.6.1,>=3.1 in /Users/riajain/anaconda3/lib/python3.11/site-packages (from seaborn) (3.7.2)\n",
      "Requirement already satisfied: contourpy>=1.0.1 in /Users/riajain/anaconda3/lib/python3.11/site-packages (from matplotlib!=3.6.1,>=3.1->seaborn) (1.0.5)\n",
      "Requirement already satisfied: cycler>=0.10 in /Users/riajain/anaconda3/lib/python3.11/site-packages (from matplotlib!=3.6.1,>=3.1->seaborn) (0.11.0)\n",
      "Requirement already satisfied: fonttools>=4.22.0 in /Users/riajain/anaconda3/lib/python3.11/site-packages (from matplotlib!=3.6.1,>=3.1->seaborn) (4.25.0)\n",
      "Requirement already satisfied: kiwisolver>=1.0.1 in /Users/riajain/anaconda3/lib/python3.11/site-packages (from matplotlib!=3.6.1,>=3.1->seaborn) (1.4.4)\n",
      "Requirement already satisfied: packaging>=20.0 in /Users/riajain/anaconda3/lib/python3.11/site-packages (from matplotlib!=3.6.1,>=3.1->seaborn) (23.1)\n",
      "Requirement already satisfied: pillow>=6.2.0 in /Users/riajain/anaconda3/lib/python3.11/site-packages (from matplotlib!=3.6.1,>=3.1->seaborn) (9.4.0)\n",
      "Requirement already satisfied: pyparsing<3.1,>=2.3.1 in /Users/riajain/anaconda3/lib/python3.11/site-packages (from matplotlib!=3.6.1,>=3.1->seaborn) (3.0.9)\n",
      "Requirement already satisfied: python-dateutil>=2.7 in /Users/riajain/anaconda3/lib/python3.11/site-packages (from matplotlib!=3.6.1,>=3.1->seaborn) (2.8.2)\n",
      "Requirement already satisfied: pytz>=2020.1 in /Users/riajain/anaconda3/lib/python3.11/site-packages (from pandas>=0.25->seaborn) (2023.3.post1)\n",
      "Requirement already satisfied: tzdata>=2022.1 in /Users/riajain/anaconda3/lib/python3.11/site-packages (from pandas>=0.25->seaborn) (2023.3)\n",
      "Requirement already satisfied: six>=1.5 in /Users/riajain/anaconda3/lib/python3.11/site-packages (from python-dateutil>=2.7->matplotlib!=3.6.1,>=3.1->seaborn) (1.16.0)\n",
      "Note: you may need to restart the kernel to use updated packages.\n",
      "Requirement already satisfied: scikit-learn in /Users/riajain/anaconda3/lib/python3.11/site-packages (1.2.2)\n",
      "Requirement already satisfied: numpy>=1.17.3 in /Users/riajain/anaconda3/lib/python3.11/site-packages (from scikit-learn) (1.24.3)\n",
      "Requirement already satisfied: scipy>=1.3.2 in /Users/riajain/anaconda3/lib/python3.11/site-packages (from scikit-learn) (1.11.1)\n",
      "Requirement already satisfied: joblib>=1.1.1 in /Users/riajain/anaconda3/lib/python3.11/site-packages (from scikit-learn) (1.2.0)\n",
      "Requirement already satisfied: threadpoolctl>=2.0.0 in /Users/riajain/anaconda3/lib/python3.11/site-packages (from scikit-learn) (2.2.0)\n",
      "Note: you may need to restart the kernel to use updated packages.\n",
      "Requirement already satisfied: imbalanced-learn in /Users/riajain/anaconda3/lib/python3.11/site-packages (0.12.2)\n",
      "Requirement already satisfied: numpy>=1.17.3 in /Users/riajain/anaconda3/lib/python3.11/site-packages (from imbalanced-learn) (1.24.3)\n",
      "Requirement already satisfied: scipy>=1.5.0 in /Users/riajain/anaconda3/lib/python3.11/site-packages (from imbalanced-learn) (1.11.1)\n",
      "Requirement already satisfied: scikit-learn>=1.0.2 in /Users/riajain/anaconda3/lib/python3.11/site-packages (from imbalanced-learn) (1.2.2)\n",
      "Requirement already satisfied: joblib>=1.1.1 in /Users/riajain/anaconda3/lib/python3.11/site-packages (from imbalanced-learn) (1.2.0)\n",
      "Requirement already satisfied: threadpoolctl>=2.0.0 in /Users/riajain/anaconda3/lib/python3.11/site-packages (from imbalanced-learn) (2.2.0)\n",
>>>>>>> 3ab5eefa9ad2b3220c35060d08ecc87c07b07adf
      "Note: you may need to restart the kernel to use updated packages.\n"
     ]
    }
   ],
   "source": [
    "%pip install scipy\n",
    "%pip install matplotlib\n",
    "%pip install numpy\n",
    "%pip install pandas\n",
    "%pip install seaborn\n",
    "%pip install scikit-learn\n",
    "%pip install imbalanced-learn"
   ]
  },
  {
   "cell_type": "code",
   "execution_count": null,
   "metadata": {},
   "outputs": [],
   "source": [
    "import numpy as np \n",
    "import pandas as pd\n",
    "import matplotlib.pyplot as plt\n",
    "import seaborn as sns\n",
    "from sklearn.manifold import TSNE\n",
    "from sklearn.decomposition import PCA, TruncatedSVD\n",
    "import matplotlib.patches as mpatches\n",
    "import time"
   ]
  },
  {
   "cell_type": "code",
   "execution_count": 3,
   "metadata": {},
   "outputs": [
    {
     "data": {
      "text/plain": [
       "(284807, 31)"
      ]
     },
     "execution_count": 3,
     "metadata": {},
     "output_type": "execute_result"
    }
   ],
   "source": [
    "# Load in the dataset from a csv\n",
    "#csv = pd.read_csv('data/creditcard.csv')\n",
    "csv = pd.read_csv('/Users/riajain/Downloads/creditcard.csv')\n",
    "\n",
    "# Convert the data to a pandas dataframe\n",
    "cc_data = pd.DataFrame(csv)\n",
    "\n",
    "# Get the shape of the dataframe: (rows, columns)\n",
    "cc_data.shape"
   ]
  },
  {
   "cell_type": "code",
   "execution_count": 4,
   "metadata": {},
   "outputs": [
    {
     "data": {
      "text/html": [
       "<div>\n",
       "<style scoped>\n",
       "    .dataframe tbody tr th:only-of-type {\n",
       "        vertical-align: middle;\n",
       "    }\n",
       "\n",
       "    .dataframe tbody tr th {\n",
       "        vertical-align: top;\n",
       "    }\n",
       "\n",
       "    .dataframe thead th {\n",
       "        text-align: right;\n",
       "    }\n",
       "</style>\n",
       "<table border=\"1\" class=\"dataframe\">\n",
       "  <thead>\n",
       "    <tr style=\"text-align: right;\">\n",
       "      <th></th>\n",
       "      <th>Time</th>\n",
       "      <th>V1</th>\n",
       "      <th>V2</th>\n",
       "      <th>V3</th>\n",
       "      <th>V4</th>\n",
       "      <th>V5</th>\n",
       "      <th>V6</th>\n",
       "      <th>V7</th>\n",
       "      <th>V8</th>\n",
       "      <th>V9</th>\n",
       "      <th>...</th>\n",
       "      <th>V21</th>\n",
       "      <th>V22</th>\n",
       "      <th>V23</th>\n",
       "      <th>V24</th>\n",
       "      <th>V25</th>\n",
       "      <th>V26</th>\n",
       "      <th>V27</th>\n",
       "      <th>V28</th>\n",
       "      <th>Amount</th>\n",
       "      <th>Class</th>\n",
       "    </tr>\n",
       "  </thead>\n",
       "  <tbody>\n",
       "    <tr>\n",
       "      <th>110815</th>\n",
       "      <td>71987.0</td>\n",
       "      <td>1.099691</td>\n",
       "      <td>-1.814126</td>\n",
       "      <td>1.313962</td>\n",
       "      <td>-1.234742</td>\n",
       "      <td>-2.473045</td>\n",
       "      <td>-0.221397</td>\n",
       "      <td>-1.629278</td>\n",
       "      <td>0.117964</td>\n",
       "      <td>-1.509621</td>\n",
       "      <td>...</td>\n",
       "      <td>0.233767</td>\n",
       "      <td>0.709698</td>\n",
       "      <td>-0.125876</td>\n",
       "      <td>0.542322</td>\n",
       "      <td>0.086635</td>\n",
       "      <td>-0.087479</td>\n",
       "      <td>0.050085</td>\n",
       "      <td>0.057271</td>\n",
       "      <td>170.00</td>\n",
       "      <td>0</td>\n",
       "    </tr>\n",
       "    <tr>\n",
       "      <th>180409</th>\n",
       "      <td>124531.0</td>\n",
       "      <td>-0.968995</td>\n",
       "      <td>0.622727</td>\n",
       "      <td>0.733355</td>\n",
       "      <td>-1.288868</td>\n",
       "      <td>0.883268</td>\n",
       "      <td>-0.461494</td>\n",
       "      <td>1.713814</td>\n",
       "      <td>-0.161181</td>\n",
       "      <td>-1.014058</td>\n",
       "      <td>...</td>\n",
       "      <td>-0.027901</td>\n",
       "      <td>-0.308884</td>\n",
       "      <td>-0.254050</td>\n",
       "      <td>-0.358460</td>\n",
       "      <td>0.878036</td>\n",
       "      <td>0.558376</td>\n",
       "      <td>-0.126242</td>\n",
       "      <td>0.020807</td>\n",
       "      <td>109.95</td>\n",
       "      <td>0</td>\n",
       "    </tr>\n",
       "    <tr>\n",
       "      <th>169530</th>\n",
       "      <td>119747.0</td>\n",
       "      <td>0.064817</td>\n",
       "      <td>0.664406</td>\n",
       "      <td>-0.164053</td>\n",
       "      <td>0.929115</td>\n",
       "      <td>0.752124</td>\n",
       "      <td>-0.009234</td>\n",
       "      <td>0.811396</td>\n",
       "      <td>-0.094591</td>\n",
       "      <td>-0.107614</td>\n",
       "      <td>...</td>\n",
       "      <td>0.586150</td>\n",
       "      <td>1.956791</td>\n",
       "      <td>0.014454</td>\n",
       "      <td>0.540823</td>\n",
       "      <td>-0.845549</td>\n",
       "      <td>-0.323553</td>\n",
       "      <td>0.578829</td>\n",
       "      <td>0.377917</td>\n",
       "      <td>68.42</td>\n",
       "      <td>0</td>\n",
       "    </tr>\n",
       "    <tr>\n",
       "      <th>96176</th>\n",
       "      <td>65644.0</td>\n",
       "      <td>-0.496936</td>\n",
       "      <td>0.795497</td>\n",
       "      <td>1.198903</td>\n",
       "      <td>-0.070652</td>\n",
       "      <td>0.470826</td>\n",
       "      <td>-0.365667</td>\n",
       "      <td>0.681359</td>\n",
       "      <td>-0.078011</td>\n",
       "      <td>0.083036</td>\n",
       "      <td>...</td>\n",
       "      <td>-0.321959</td>\n",
       "      <td>-0.728417</td>\n",
       "      <td>0.079179</td>\n",
       "      <td>-0.382509</td>\n",
       "      <td>-0.244351</td>\n",
       "      <td>0.093143</td>\n",
       "      <td>-0.029163</td>\n",
       "      <td>-0.152598</td>\n",
       "      <td>1.98</td>\n",
       "      <td>0</td>\n",
       "    </tr>\n",
       "    <tr>\n",
       "      <th>7339</th>\n",
       "      <td>9858.0</td>\n",
       "      <td>-2.414039</td>\n",
       "      <td>0.511943</td>\n",
       "      <td>1.571583</td>\n",
       "      <td>0.353934</td>\n",
       "      <td>0.543166</td>\n",
       "      <td>-0.753790</td>\n",
       "      <td>0.705930</td>\n",
       "      <td>-0.515330</td>\n",
       "      <td>1.065422</td>\n",
       "      <td>...</td>\n",
       "      <td>-0.237675</td>\n",
       "      <td>0.286501</td>\n",
       "      <td>0.445126</td>\n",
       "      <td>0.404100</td>\n",
       "      <td>0.463322</td>\n",
       "      <td>0.374696</td>\n",
       "      <td>-0.619446</td>\n",
       "      <td>-0.032458</td>\n",
       "      <td>10.69</td>\n",
       "      <td>0</td>\n",
       "    </tr>\n",
       "  </tbody>\n",
       "</table>\n",
       "<p>5 rows × 31 columns</p>\n",
       "</div>"
      ],
      "text/plain": [
       "            Time        V1        V2        V3        V4        V5        V6  \\\n",
       "110815   71987.0  1.099691 -1.814126  1.313962 -1.234742 -2.473045 -0.221397   \n",
       "180409  124531.0 -0.968995  0.622727  0.733355 -1.288868  0.883268 -0.461494   \n",
       "169530  119747.0  0.064817  0.664406 -0.164053  0.929115  0.752124 -0.009234   \n",
       "96176    65644.0 -0.496936  0.795497  1.198903 -0.070652  0.470826 -0.365667   \n",
       "7339      9858.0 -2.414039  0.511943  1.571583  0.353934  0.543166 -0.753790   \n",
       "\n",
       "              V7        V8        V9  ...       V21       V22       V23  \\\n",
       "110815 -1.629278  0.117964 -1.509621  ...  0.233767  0.709698 -0.125876   \n",
       "180409  1.713814 -0.161181 -1.014058  ... -0.027901 -0.308884 -0.254050   \n",
       "169530  0.811396 -0.094591 -0.107614  ...  0.586150  1.956791  0.014454   \n",
       "96176   0.681359 -0.078011  0.083036  ... -0.321959 -0.728417  0.079179   \n",
       "7339    0.705930 -0.515330  1.065422  ... -0.237675  0.286501  0.445126   \n",
       "\n",
       "             V24       V25       V26       V27       V28  Amount  Class  \n",
       "110815  0.542322  0.086635 -0.087479  0.050085  0.057271  170.00      0  \n",
       "180409 -0.358460  0.878036  0.558376 -0.126242  0.020807  109.95      0  \n",
       "169530  0.540823 -0.845549 -0.323553  0.578829  0.377917   68.42      0  \n",
       "96176  -0.382509 -0.244351  0.093143 -0.029163 -0.152598    1.98      0  \n",
       "7339    0.404100  0.463322  0.374696 -0.619446 -0.032458   10.69      0  \n",
       "\n",
       "[5 rows x 31 columns]"
      ]
     },
     "execution_count": 4,
     "metadata": {},
     "output_type": "execute_result"
    }
   ],
   "source": [
    "# See the first five rows of the dataframe:\n",
    "cc_data.sample(5)"
   ]
  },
  {
   "cell_type": "markdown",
   "metadata": {},
   "source": [
    "### STEP 3: Exploratory data analysis -- Ria"
   ]
  },
  {
   "cell_type": "code",
   "execution_count": 5,
   "metadata": {},
   "outputs": [
    {
     "name": "stdout",
     "output_type": "stream",
     "text": [
      "No Frauds 99.83 % of the dataset\n",
      "Frauds 0.17 % of the dataset\n"
     ]
    }
   ],
   "source": [
    "# See how much of our original data was fraudulent, etc.\n",
    "print('No Fraud:', round(cc_data['Class'].value_counts()[0]/len(cc_data) * 100,2), '% of the dataset')\n",
    "print('Frauds:', round(cc_data['Class'].value_counts()[1]/len(cc_data) * 100,2), '% of the dataset')"
   ]
  },
  {
   "cell_type": "markdown",
   "metadata": {},
   "source": [
    "### Notice how the dataset is imbalanced"
   ]
  },
  {
   "cell_type": "code",
   "execution_count": 23,
   "metadata": {},
   "outputs": [
    {
     "data": {
      "text/plain": [
       "Text(0.5, 1.0, 'Class Distributions \\n (0: No Fraud || 1: Fraud)')"
      ]
     },
     "execution_count": 23,
     "metadata": {},
     "output_type": "execute_result"
    },
    {
     "data": {
      "image/png": "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",
      "text/plain": [
       "<Figure size 400x700 with 1 Axes>"
      ]
     },
     "metadata": {},
     "output_type": "display_data"
    }
   ],
   "source": [
    "# Create a bar chart that visualizes the imbalance between fraudulent and non-fraudulent data\n",
    "plt.figure(figsize = (4, 7))\n",
    "sns.countplot(data=cc_data, x='Class')\n",
    "plt.title('Class Distributions \\n (0: No Fraud || 1: Fraud)', fontsize=14)"
   ]
  },
  {
   "cell_type": "code",
   "execution_count": 6,
   "metadata": {},
   "outputs": [
    {
     "data": {
      "text/html": [
       "<div>\n",
       "<style scoped>\n",
       "    .dataframe tbody tr th:only-of-type {\n",
       "        vertical-align: middle;\n",
       "    }\n",
       "\n",
       "    .dataframe tbody tr th {\n",
       "        vertical-align: top;\n",
       "    }\n",
       "\n",
       "    .dataframe thead th {\n",
       "        text-align: right;\n",
       "    }\n",
       "</style>\n",
       "<table border=\"1\" class=\"dataframe\">\n",
       "  <thead>\n",
       "    <tr style=\"text-align: right;\">\n",
       "      <th></th>\n",
       "      <th>Time</th>\n",
       "      <th>V1</th>\n",
       "      <th>V2</th>\n",
       "      <th>V3</th>\n",
       "      <th>V4</th>\n",
       "      <th>V5</th>\n",
       "      <th>V6</th>\n",
       "      <th>V7</th>\n",
       "      <th>V8</th>\n",
       "      <th>V9</th>\n",
       "      <th>...</th>\n",
       "      <th>V21</th>\n",
       "      <th>V22</th>\n",
       "      <th>V23</th>\n",
       "      <th>V24</th>\n",
       "      <th>V25</th>\n",
       "      <th>V26</th>\n",
       "      <th>V27</th>\n",
       "      <th>V28</th>\n",
       "      <th>Amount</th>\n",
       "      <th>Class</th>\n",
       "    </tr>\n",
       "  </thead>\n",
       "  <tbody>\n",
       "    <tr>\n",
       "      <th>541</th>\n",
       "      <td>406.0</td>\n",
       "      <td>-2.312227</td>\n",
       "      <td>1.951992</td>\n",
       "      <td>-1.609851</td>\n",
       "      <td>3.997906</td>\n",
       "      <td>-0.522188</td>\n",
       "      <td>-1.426545</td>\n",
       "      <td>-2.537387</td>\n",
       "      <td>1.391657</td>\n",
       "      <td>-2.770089</td>\n",
       "      <td>...</td>\n",
       "      <td>0.517232</td>\n",
       "      <td>-0.035049</td>\n",
       "      <td>-0.465211</td>\n",
       "      <td>0.320198</td>\n",
       "      <td>0.044519</td>\n",
       "      <td>0.177840</td>\n",
       "      <td>0.261145</td>\n",
       "      <td>-0.143276</td>\n",
       "      <td>0.00</td>\n",
       "      <td>1</td>\n",
       "    </tr>\n",
       "    <tr>\n",
       "      <th>623</th>\n",
       "      <td>472.0</td>\n",
       "      <td>-3.043541</td>\n",
       "      <td>-3.157307</td>\n",
       "      <td>1.088463</td>\n",
       "      <td>2.288644</td>\n",
       "      <td>1.359805</td>\n",
       "      <td>-1.064823</td>\n",
       "      <td>0.325574</td>\n",
       "      <td>-0.067794</td>\n",
       "      <td>-0.270953</td>\n",
       "      <td>...</td>\n",
       "      <td>0.661696</td>\n",
       "      <td>0.435477</td>\n",
       "      <td>1.375966</td>\n",
       "      <td>-0.293803</td>\n",
       "      <td>0.279798</td>\n",
       "      <td>-0.145362</td>\n",
       "      <td>-0.252773</td>\n",
       "      <td>0.035764</td>\n",
       "      <td>529.00</td>\n",
       "      <td>1</td>\n",
       "    </tr>\n",
       "    <tr>\n",
       "      <th>4920</th>\n",
       "      <td>4462.0</td>\n",
       "      <td>-2.303350</td>\n",
       "      <td>1.759247</td>\n",
       "      <td>-0.359745</td>\n",
       "      <td>2.330243</td>\n",
       "      <td>-0.821628</td>\n",
       "      <td>-0.075788</td>\n",
       "      <td>0.562320</td>\n",
       "      <td>-0.399147</td>\n",
       "      <td>-0.238253</td>\n",
       "      <td>...</td>\n",
       "      <td>-0.294166</td>\n",
       "      <td>-0.932391</td>\n",
       "      <td>0.172726</td>\n",
       "      <td>-0.087330</td>\n",
       "      <td>-0.156114</td>\n",
       "      <td>-0.542628</td>\n",
       "      <td>0.039566</td>\n",
       "      <td>-0.153029</td>\n",
       "      <td>239.93</td>\n",
       "      <td>1</td>\n",
       "    </tr>\n",
       "    <tr>\n",
       "      <th>6108</th>\n",
       "      <td>6986.0</td>\n",
       "      <td>-4.397974</td>\n",
       "      <td>1.358367</td>\n",
       "      <td>-2.592844</td>\n",
       "      <td>2.679787</td>\n",
       "      <td>-1.128131</td>\n",
       "      <td>-1.706536</td>\n",
       "      <td>-3.496197</td>\n",
       "      <td>-0.248778</td>\n",
       "      <td>-0.247768</td>\n",
       "      <td>...</td>\n",
       "      <td>0.573574</td>\n",
       "      <td>0.176968</td>\n",
       "      <td>-0.436207</td>\n",
       "      <td>-0.053502</td>\n",
       "      <td>0.252405</td>\n",
       "      <td>-0.657488</td>\n",
       "      <td>-0.827136</td>\n",
       "      <td>0.849573</td>\n",
       "      <td>59.00</td>\n",
       "      <td>1</td>\n",
       "    </tr>\n",
       "    <tr>\n",
       "      <th>6329</th>\n",
       "      <td>7519.0</td>\n",
       "      <td>1.234235</td>\n",
       "      <td>3.019740</td>\n",
       "      <td>-4.304597</td>\n",
       "      <td>4.732795</td>\n",
       "      <td>3.624201</td>\n",
       "      <td>-1.357746</td>\n",
       "      <td>1.713445</td>\n",
       "      <td>-0.496358</td>\n",
       "      <td>-1.282858</td>\n",
       "      <td>...</td>\n",
       "      <td>-0.379068</td>\n",
       "      <td>-0.704181</td>\n",
       "      <td>-0.656805</td>\n",
       "      <td>-1.632653</td>\n",
       "      <td>1.488901</td>\n",
       "      <td>0.566797</td>\n",
       "      <td>-0.010016</td>\n",
       "      <td>0.146793</td>\n",
       "      <td>1.00</td>\n",
       "      <td>1</td>\n",
       "    </tr>\n",
       "  </tbody>\n",
       "</table>\n",
       "<p>5 rows × 31 columns</p>\n",
       "</div>"
      ],
      "text/plain": [
       "        Time        V1        V2        V3        V4        V5        V6  \\\n",
       "541    406.0 -2.312227  1.951992 -1.609851  3.997906 -0.522188 -1.426545   \n",
       "623    472.0 -3.043541 -3.157307  1.088463  2.288644  1.359805 -1.064823   \n",
       "4920  4462.0 -2.303350  1.759247 -0.359745  2.330243 -0.821628 -0.075788   \n",
       "6108  6986.0 -4.397974  1.358367 -2.592844  2.679787 -1.128131 -1.706536   \n",
       "6329  7519.0  1.234235  3.019740 -4.304597  4.732795  3.624201 -1.357746   \n",
       "\n",
       "            V7        V8        V9  ...       V21       V22       V23  \\\n",
       "541  -2.537387  1.391657 -2.770089  ...  0.517232 -0.035049 -0.465211   \n",
       "623   0.325574 -0.067794 -0.270953  ...  0.661696  0.435477  1.375966   \n",
       "4920  0.562320 -0.399147 -0.238253  ... -0.294166 -0.932391  0.172726   \n",
       "6108 -3.496197 -0.248778 -0.247768  ...  0.573574  0.176968 -0.436207   \n",
       "6329  1.713445 -0.496358 -1.282858  ... -0.379068 -0.704181 -0.656805   \n",
       "\n",
       "           V24       V25       V26       V27       V28  Amount  Class  \n",
       "541   0.320198  0.044519  0.177840  0.261145 -0.143276    0.00      1  \n",
       "623  -0.293803  0.279798 -0.145362 -0.252773  0.035764  529.00      1  \n",
       "4920 -0.087330 -0.156114 -0.542628  0.039566 -0.153029  239.93      1  \n",
       "6108 -0.053502  0.252405 -0.657488 -0.827136  0.849573   59.00      1  \n",
       "6329 -1.632653  1.488901  0.566797 -0.010016  0.146793    1.00      1  \n",
       "\n",
       "[5 rows x 31 columns]"
      ]
     },
     "metadata": {},
     "output_type": "display_data"
    },
    {
     "data": {
      "text/html": [
       "<div>\n",
       "<style scoped>\n",
       "    .dataframe tbody tr th:only-of-type {\n",
       "        vertical-align: middle;\n",
       "    }\n",
       "\n",
       "    .dataframe tbody tr th {\n",
       "        vertical-align: top;\n",
       "    }\n",
       "\n",
       "    .dataframe thead th {\n",
       "        text-align: right;\n",
       "    }\n",
       "</style>\n",
       "<table border=\"1\" class=\"dataframe\">\n",
       "  <thead>\n",
       "    <tr style=\"text-align: right;\">\n",
       "      <th></th>\n",
       "      <th>Time</th>\n",
       "      <th>V1</th>\n",
       "      <th>V2</th>\n",
       "      <th>V3</th>\n",
       "      <th>V4</th>\n",
       "      <th>V5</th>\n",
       "      <th>V6</th>\n",
       "      <th>V7</th>\n",
       "      <th>V8</th>\n",
       "      <th>V9</th>\n",
       "      <th>...</th>\n",
       "      <th>V21</th>\n",
       "      <th>V22</th>\n",
       "      <th>V23</th>\n",
       "      <th>V24</th>\n",
       "      <th>V25</th>\n",
       "      <th>V26</th>\n",
       "      <th>V27</th>\n",
       "      <th>V28</th>\n",
       "      <th>Amount</th>\n",
       "      <th>Class</th>\n",
       "    </tr>\n",
       "  </thead>\n",
       "  <tbody>\n",
       "    <tr>\n",
       "      <th>0</th>\n",
       "      <td>0.0</td>\n",
       "      <td>-1.359807</td>\n",
       "      <td>-0.072781</td>\n",
       "      <td>2.536347</td>\n",
       "      <td>1.378155</td>\n",
       "      <td>-0.338321</td>\n",
       "      <td>0.462388</td>\n",
       "      <td>0.239599</td>\n",
       "      <td>0.098698</td>\n",
       "      <td>0.363787</td>\n",
       "      <td>...</td>\n",
       "      <td>-0.018307</td>\n",
       "      <td>0.277838</td>\n",
       "      <td>-0.110474</td>\n",
       "      <td>0.066928</td>\n",
       "      <td>0.128539</td>\n",
       "      <td>-0.189115</td>\n",
       "      <td>0.133558</td>\n",
       "      <td>-0.021053</td>\n",
       "      <td>149.62</td>\n",
       "      <td>0</td>\n",
       "    </tr>\n",
       "    <tr>\n",
       "      <th>1</th>\n",
       "      <td>0.0</td>\n",
       "      <td>1.191857</td>\n",
       "      <td>0.266151</td>\n",
       "      <td>0.166480</td>\n",
       "      <td>0.448154</td>\n",
       "      <td>0.060018</td>\n",
       "      <td>-0.082361</td>\n",
       "      <td>-0.078803</td>\n",
       "      <td>0.085102</td>\n",
       "      <td>-0.255425</td>\n",
       "      <td>...</td>\n",
       "      <td>-0.225775</td>\n",
       "      <td>-0.638672</td>\n",
       "      <td>0.101288</td>\n",
       "      <td>-0.339846</td>\n",
       "      <td>0.167170</td>\n",
       "      <td>0.125895</td>\n",
       "      <td>-0.008983</td>\n",
       "      <td>0.014724</td>\n",
       "      <td>2.69</td>\n",
       "      <td>0</td>\n",
       "    </tr>\n",
       "    <tr>\n",
       "      <th>2</th>\n",
       "      <td>1.0</td>\n",
       "      <td>-1.358354</td>\n",
       "      <td>-1.340163</td>\n",
       "      <td>1.773209</td>\n",
       "      <td>0.379780</td>\n",
       "      <td>-0.503198</td>\n",
       "      <td>1.800499</td>\n",
       "      <td>0.791461</td>\n",
       "      <td>0.247676</td>\n",
       "      <td>-1.514654</td>\n",
       "      <td>...</td>\n",
       "      <td>0.247998</td>\n",
       "      <td>0.771679</td>\n",
       "      <td>0.909412</td>\n",
       "      <td>-0.689281</td>\n",
       "      <td>-0.327642</td>\n",
       "      <td>-0.139097</td>\n",
       "      <td>-0.055353</td>\n",
       "      <td>-0.059752</td>\n",
       "      <td>378.66</td>\n",
       "      <td>0</td>\n",
       "    </tr>\n",
       "    <tr>\n",
       "      <th>3</th>\n",
       "      <td>1.0</td>\n",
       "      <td>-0.966272</td>\n",
       "      <td>-0.185226</td>\n",
       "      <td>1.792993</td>\n",
       "      <td>-0.863291</td>\n",
       "      <td>-0.010309</td>\n",
       "      <td>1.247203</td>\n",
       "      <td>0.237609</td>\n",
       "      <td>0.377436</td>\n",
       "      <td>-1.387024</td>\n",
       "      <td>...</td>\n",
       "      <td>-0.108300</td>\n",
       "      <td>0.005274</td>\n",
       "      <td>-0.190321</td>\n",
       "      <td>-1.175575</td>\n",
       "      <td>0.647376</td>\n",
       "      <td>-0.221929</td>\n",
       "      <td>0.062723</td>\n",
       "      <td>0.061458</td>\n",
       "      <td>123.50</td>\n",
       "      <td>0</td>\n",
       "    </tr>\n",
       "    <tr>\n",
       "      <th>4</th>\n",
       "      <td>2.0</td>\n",
       "      <td>-1.158233</td>\n",
       "      <td>0.877737</td>\n",
       "      <td>1.548718</td>\n",
       "      <td>0.403034</td>\n",
       "      <td>-0.407193</td>\n",
       "      <td>0.095921</td>\n",
       "      <td>0.592941</td>\n",
       "      <td>-0.270533</td>\n",
       "      <td>0.817739</td>\n",
       "      <td>...</td>\n",
       "      <td>-0.009431</td>\n",
       "      <td>0.798278</td>\n",
       "      <td>-0.137458</td>\n",
       "      <td>0.141267</td>\n",
       "      <td>-0.206010</td>\n",
       "      <td>0.502292</td>\n",
       "      <td>0.219422</td>\n",
       "      <td>0.215153</td>\n",
       "      <td>69.99</td>\n",
       "      <td>0</td>\n",
       "    </tr>\n",
       "  </tbody>\n",
       "</table>\n",
       "<p>5 rows × 31 columns</p>\n",
       "</div>"
      ],
      "text/plain": [
       "   Time        V1        V2        V3        V4        V5        V6        V7  \\\n",
       "0   0.0 -1.359807 -0.072781  2.536347  1.378155 -0.338321  0.462388  0.239599   \n",
       "1   0.0  1.191857  0.266151  0.166480  0.448154  0.060018 -0.082361 -0.078803   \n",
       "2   1.0 -1.358354 -1.340163  1.773209  0.379780 -0.503198  1.800499  0.791461   \n",
       "3   1.0 -0.966272 -0.185226  1.792993 -0.863291 -0.010309  1.247203  0.237609   \n",
       "4   2.0 -1.158233  0.877737  1.548718  0.403034 -0.407193  0.095921  0.592941   \n",
       "\n",
       "         V8        V9  ...       V21       V22       V23       V24       V25  \\\n",
       "0  0.098698  0.363787  ... -0.018307  0.277838 -0.110474  0.066928  0.128539   \n",
       "1  0.085102 -0.255425  ... -0.225775 -0.638672  0.101288 -0.339846  0.167170   \n",
       "2  0.247676 -1.514654  ...  0.247998  0.771679  0.909412 -0.689281 -0.327642   \n",
       "3  0.377436 -1.387024  ... -0.108300  0.005274 -0.190321 -1.175575  0.647376   \n",
       "4 -0.270533  0.817739  ... -0.009431  0.798278 -0.137458  0.141267 -0.206010   \n",
       "\n",
       "        V26       V27       V28  Amount  Class  \n",
       "0 -0.189115  0.133558 -0.021053  149.62      0  \n",
       "1  0.125895 -0.008983  0.014724    2.69      0  \n",
       "2 -0.139097 -0.055353 -0.059752  378.66      0  \n",
       "3 -0.221929  0.062723  0.061458  123.50      0  \n",
       "4  0.502292  0.219422  0.215153   69.99      0  \n",
       "\n",
       "[5 rows x 31 columns]"
      ]
     },
     "metadata": {},
     "output_type": "display_data"
    }
   ],
   "source": [
    "#Seeing what the fraud vs non-fraud data looks like \n",
    "\n",
    "fraud_cc_data = cc_data.loc[cc_data['Class'] == 1]\n",
    "non_fraud_cc_data = cc_data.loc[cc_data['Class'] == 0][:492]\n",
    "display(fraud_cc_data.head())\n",
    "display(non_fraud_cc_data.head())"
   ]
  },
  {
   "cell_type": "code",
   "execution_count": 8,
   "metadata": {},
   "outputs": [
    {
     "name": "stdout",
     "output_type": "stream",
     "text": [
      "Missing data in each column:\n",
      "Time      0\n",
      "V1        0\n",
      "V2        0\n",
      "V3        0\n",
      "V4        0\n",
      "V5        0\n",
      "V6        0\n",
      "V7        0\n",
      "V8        0\n",
      "V9        0\n",
      "V10       0\n",
      "V11       0\n",
      "V12       0\n",
      "V13       0\n",
      "V14       0\n",
      "V15       0\n",
      "V16       0\n",
      "V17       0\n",
      "V18       0\n",
      "V19       0\n",
      "V20       0\n",
      "V21       0\n",
      "V22       0\n",
      "V23       0\n",
      "V24       0\n",
      "V25       0\n",
      "V26       0\n",
      "V27       0\n",
      "V28       0\n",
      "Amount    0\n",
      "Class     0\n",
      "dtype: int64\n"
     ]
    }
   ],
   "source": [
    "\"\"\" \n",
    "Check for missing data.\n",
    "This is important because we want to make sure that our data is clean before moving forward.\n",
    "\"\"\"\n",
    "print(\"Missing data in each column:\\n\" + str(cc_data.isnull().sum()))"
   ]
  },
  {
   "cell_type": "markdown",
   "metadata": {},
   "source": [
    "### Great! There's no missing data."
   ]
  },
  {
   "cell_type": "markdown",
   "metadata": {},
   "source": [
    "## STEP 4: Initializing a Baseline Model with sklearn (no undersampling) -- MILLER"
   ]
  },
  {
   "cell_type": "markdown",
   "metadata": {},
   "source": [
    "NOTE: idt we need this data splitting, just initialize a baseline model with no undersampling.\n",
    "\n",
    "STEAL FROM OVERSAMPLING FOR THIS!\n",
    "\n",
    "Choose what features we should build the rest of our model on.\n"
   ]
  },
  {
   "cell_type": "markdown",
   "metadata": {},
   "source": [
    "### WE'RE USING RANDOM FORESTS AS OUR CLASSIFIER"
   ]
  },
  {
   "cell_type": "code",
   "execution_count": 28,
   "metadata": {},
   "outputs": [
    {
     "name": "stdout",
     "output_type": "stream",
     "text": [
      "(284807, 2)\n"
     ]
    }
   ],
   "source": [
    "# We want two variables we can visualize in a plot.\n",
    "# The two columns we will get are \n",
    "# um\n",
    "# personally V1 and V4 stick out to me so i'm gonna plot these, feel free to play around\n",
    "\n",
    "# Split into input, features_trained_on, and output, output_feature\n",
    "features_trained_on = cc_data.iloc[:, [1, 4]]\n",
    "\n",
    "output_feature = cc_data.iloc[:, -1]"
   ]
  },
  {
   "cell_type": "code",
   "execution_count": 30,
   "metadata": {},
   "outputs": [
    {
     "data": {
      "image/png": "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",
      "text/plain": [
       "<Figure size 640x480 with 1 Axes>"
      ]
     },
     "metadata": {},
     "output_type": "display_data"
    }
   ],
   "source": [
    "# plot these on a scatter plot to see how they differ between the two classes\n",
    "ax = sns.scatterplot(data=cc_data, x='V1', y='V4', hue='Class')\n",
    "plt.show()"
   ]
  },
  {
   "cell_type": "code",
   "execution_count": 132,
   "metadata": {},
   "outputs": [
    {
     "data": {
      "image/png": "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",
      "text/plain": [
       "<Figure size 640x480 with 2 Axes>"
      ]
     },
     "metadata": {},
     "output_type": "display_data"
    }
   ],
   "source": [
    "#compute the confusion matrix.\n",
    "cm = confusion_matrix(Y_test, predictions)\n",
    "\n",
    " #Plot the confusion matrix.\n",
    "disp = ConfusionMatrixDisplay(confusion_matrix=cm, display_labels=model.classes_)\n",
    "disp.plot()\n",
    "plt.show()"
   ]
  },
  {
   "cell_type": "markdown",
   "metadata": {},
   "source": [
    "## STEP 4b: Evaluation with Performance Metrics -- Alyssa"
   ]
  },
  {
   "cell_type": "markdown",
   "metadata": {},
   "source": [
    "In this naive implementation of our model, using no aspect of downsampling to modify and clean our data, we get this for our accuracy:"
   ]
  },
  {
   "cell_type": "markdown",
   "metadata": {},
   "source": [
    "## STEP 5: Undersampling Techniques -- Esther (just write the general blurb for this)"
   ]
  },
  {
   "cell_type": "markdown",
   "metadata": {},
   "source": [
    "### Random Undersampling -- Esther"
   ]
  },
  {
   "cell_type": "markdown",
   "metadata": {},
   "source": [
    "### Random Under-Sampling"
   ]
  },
  {
   "cell_type": "code",
   "execution_count": null,
   "metadata": {},
   "outputs": [],
   "source": [
    "colors = [\"#0101DF\", \"#DF0101\"]\n",
    "\n",
    "sns.countplot(data=df, x='Class', palette=colors)\n",
    "plt.title('Class Distributions \\n (0: No Fraud || 1: Fraud)', fontsize=14)"
   ]
  },
  {
   "cell_type": "code",
   "execution_count": 11,
   "metadata": {},
   "outputs": [
    {
     "name": "stdout",
     "output_type": "stream",
     "text": [
      "Top 5 common duplicate texts are:\n"
     ]
    },
    {
     "data": {
      "text/html": [
       "<div>\n",
       "<style scoped>\n",
       "    .dataframe tbody tr th:only-of-type {\n",
       "        vertical-align: middle;\n",
       "    }\n",
       "\n",
       "    .dataframe tbody tr th {\n",
       "        vertical-align: top;\n",
       "    }\n",
       "\n",
       "    .dataframe thead th {\n",
       "        text-align: right;\n",
       "    }\n",
       "</style>\n",
       "<table border=\"1\" class=\"dataframe\">\n",
       "  <thead>\n",
       "    <tr style=\"text-align: right;\">\n",
       "      <th></th>\n",
       "      <th>target</th>\n",
       "    </tr>\n",
       "    <tr>\n",
       "      <th>text</th>\n",
       "      <th></th>\n",
       "    </tr>\n",
       "  </thead>\n",
       "  <tbody>\n",
       "    <tr>\n",
       "      <th>Sorry, I'll call later</th>\n",
       "      <td>30</td>\n",
       "    </tr>\n",
       "    <tr>\n",
       "      <th>I cant pick the phone right now. Pls send a message</th>\n",
       "      <td>12</td>\n",
       "    </tr>\n",
       "    <tr>\n",
       "      <th>Ok...</th>\n",
       "      <td>10</td>\n",
       "    </tr>\n",
       "    <tr>\n",
       "      <th>Say this slowly.? GOD,I LOVE YOU &amp;amp; I NEED YOU,CLEAN MY HEART WITH YOUR BLOOD.Send this to Ten special people &amp;amp; u c miracle tomorrow, do it,pls,pls do it...</th>\n",
       "      <td>4</td>\n",
       "    </tr>\n",
       "    <tr>\n",
       "      <th>Wen ur lovable bcums angry wid u, dnt take it seriously.. Coz being angry is d most childish n true way of showing deep affection, care n luv!.. kettoda manda... Have nice day da.</th>\n",
       "      <td>4</td>\n",
       "    </tr>\n",
       "  </tbody>\n",
       "</table>\n",
       "</div>"
      ],
      "text/plain": [
       "                                                    target\n",
       "text                                                      \n",
       "Sorry, I'll call later                                  30\n",
       "I cant pick the phone right now. Pls send a mes...      12\n",
       "Ok...                                                   10\n",
       "Say this slowly.? GOD,I LOVE YOU &amp; I NEED Y...       4\n",
       "Wen ur lovable bcums angry wid u, dnt take it s...       4"
      ]
     },
     "execution_count": 11,
     "metadata": {},
     "output_type": "execute_result"
    }
   ],
   "source": [
    "print('Top 5 common duplicate texts are:')\n",
    "data[data.duplicates == 1].pivot_table(index='text', values='target', aggfunc='count').sort_values(by='target', ascending=False).head(5)"
   ]
  },
  {
<<<<<<< HEAD
   "cell_type": "code",
   "execution_count": 10,
   "metadata": {},
   "outputs": [
    {
     "name": "stdout",
     "output_type": "stream",
     "text": [
      "Missing data in each column:\n",
      "classification    0\n",
      "text              0\n",
      "target            0\n",
      "duplicates        0\n",
      "dtype: int64\n"
     ]
    }
   ],
   "source": [
    "#check for missing data\n",
    "print(\"Missing data in each column:\\n\" + str(data.isnull().sum()))"
   ]
  },
  {
   "cell_type": "code",
   "execution_count": 12,
   "metadata": {},
   "outputs": [
    {
     "data": {
      "text/plain": [
       "target\n",
       "0    4825\n",
       "1     747\n",
       "Name: count, dtype: int64"
      ]
     },
     "execution_count": 12,
     "metadata": {},
     "output_type": "execute_result"
    }
   ],
   "source": [
    "data['target'].value_counts()"
   ]
  },
  {
   "cell_type": "code",
   "execution_count": 13,
   "metadata": {},
   "outputs": [
    {
     "name": "stderr",
     "output_type": "stream",
     "text": [
      "/Users/edakavlakoglu/Library/Python/3.9/lib/python/site-packages/seaborn/_oldcore.py:1498: FutureWarning: is_categorical_dtype is deprecated and will be removed in a future version. Use isinstance(dtype, CategoricalDtype) instead\n",
      "  if pd.api.types.is_categorical_dtype(vector):\n",
      "/Users/edakavlakoglu/Library/Python/3.9/lib/python/site-packages/seaborn/_oldcore.py:1498: FutureWarning: is_categorical_dtype is deprecated and will be removed in a future version. Use isinstance(dtype, CategoricalDtype) instead\n",
      "  if pd.api.types.is_categorical_dtype(vector):\n",
      "/Users/edakavlakoglu/Library/Python/3.9/lib/python/site-packages/seaborn/_oldcore.py:1498: FutureWarning: is_categorical_dtype is deprecated and will be removed in a future version. Use isinstance(dtype, CategoricalDtype) instead\n",
      "  if pd.api.types.is_categorical_dtype(vector):\n"
     ]
    },
    {
     "data": {
      "image/png": "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",
      "text/plain": [
       "<Figure size 640x480 with 1 Axes>"
      ]
     },
     "metadata": {},
     "output_type": "display_data"
    }
   ],
   "source": [
    "# Explore distribution of dataset \n",
    "\n",
    "# count plot on single categorical variable\n",
    "ax = sns.countplot(x = data['classification'], palette = 'rocket')\n",
    "\n",
    "#add data labels\n",
    "ax.bar_label(ax.containers[0])\n",
    "\n",
    "# add plot title\n",
    "plt.title(\"Observations by Classification Type\")\n",
    "\n",
    "# show plot\n",
    "plt.show()"
   ]
  },
  {
   "cell_type": "markdown",
   "metadata": {},
   "source": [
    "Note: Distribution of dataset indicates imbalanced data."
   ]
  },
  {
   "cell_type": "code",
   "execution_count": 14,
   "metadata": {},
   "outputs": [],
   "source": [
    "# Dropping all duplicate texts based off of results of EDA\n",
    "df_no_dup = data.drop_duplicates(subset=['text'], keep='first')"
   ]
  },
  {
   "cell_type": "code",
   "execution_count": 15,
   "metadata": {},
   "outputs": [
    {
     "name": "stderr",
     "output_type": "stream",
     "text": [
      "/Users/edakavlakoglu/Library/Python/3.9/lib/python/site-packages/seaborn/_oldcore.py:1498: FutureWarning: is_categorical_dtype is deprecated and will be removed in a future version. Use isinstance(dtype, CategoricalDtype) instead\n",
      "  if pd.api.types.is_categorical_dtype(vector):\n",
      "/Users/edakavlakoglu/Library/Python/3.9/lib/python/site-packages/seaborn/_oldcore.py:1498: FutureWarning: is_categorical_dtype is deprecated and will be removed in a future version. Use isinstance(dtype, CategoricalDtype) instead\n",
      "  if pd.api.types.is_categorical_dtype(vector):\n",
      "/Users/edakavlakoglu/Library/Python/3.9/lib/python/site-packages/seaborn/_oldcore.py:1498: FutureWarning: is_categorical_dtype is deprecated and will be removed in a future version. Use isinstance(dtype, CategoricalDtype) instead\n",
      "  if pd.api.types.is_categorical_dtype(vector):\n"
     ]
    },
    {
     "data": {
      "image/png": "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",
      "text/plain": [
       "<Figure size 640x480 with 1 Axes>"
      ]
     },
     "metadata": {},
     "output_type": "display_data"
    }
   ],
   "source": [
    "# Explore distribution of dataset \n",
    "\n",
    "# count plot on single categorical variable\n",
    "ax = sns.countplot(x = df_no_dup['classification'], palette = 'rocket')\n",
    "\n",
    "#add data labels\n",
    "ax.bar_label(ax.containers[0])\n",
    "\n",
    "# add plot title\n",
    "plt.title(\"Observations by Classification Type\")\n",
    "\n",
    "# show plot\n",
    "plt.show()"
   ]
  },
  {
   "cell_type": "markdown",
   "metadata": {},
   "source": [
    "## STEP 4: Data Cleaning and Initializing The Model with sklearn (no undersampling) -- MILLER"
   ]
  },
  {
   "cell_type": "markdown",
   "metadata": {},
   "source": [
    "### Data splitting"
   ]
  },
  {
   "cell_type": "code",
   "execution_count": 16,
   "metadata": {},
   "outputs": [],
   "source": [
    "#https://scikit-learn.org/stable/modules/generated/sklearn.model_selection.train_test_split.html\n",
    "\n",
    "X_train, X_test, Y_train, Y_test = train_test_split(df_no_dup['text'], \n",
    "                                                    df_no_dup['target'],\n",
    "                                                    test_size=0.3,\n",
    "                                                    random_state=0)"
   ]
  },
  {
   "cell_type": "markdown",
   "metadata": {},
   "source": [
    "### Data preparation and data cleaning"
   ]
  },
  {
   "cell_type": "code",
   "execution_count": 18,
   "metadata": {},
   "outputs": [],
   "source": [
    "def text_clean(text, method, rm_stop):\n",
    "    text = re.sub(r\"\\n\",\"\",text)   #remove line breaks\n",
    "    text = text.lower() #convert to lowercase \n",
    "    text = re.sub(r\"\\d+\",\"\",text)   #remove digits and currencies \n",
    "    text = re.sub(r'[\\$\\d+\\d+\\$]', \"\", text)      \n",
    "    text = re.sub(r'\\d+[\\.\\/-]\\d+[\\.\\/-]\\d+', '', text)   #remove dates \n",
    "    text = re.sub(r'\\d+[\\.\\/-]\\d+[\\.\\/-]\\d+', '', text)\n",
    "    text = re.sub(r'\\d+[\\.\\/-]\\d+[\\.\\/-]\\d+', '', text)\n",
    "    text = re.sub(r'[^\\x00-\\x7f]',r' ',text)   #remove non-ascii\n",
    "    text = re.sub(r'[^\\w\\s]','',text)   #remove punctuation\n",
    "    text = re.sub(r'https?:\\/\\/.*[\\r\\n]*', '', text)   #remove hyperlinks\n",
    "    \n",
    "    #remove stop words \n",
    "    if rm_stop == True:\n",
    "        filtered_tokens = [word for word in word_tokenize(text) if not word in set(stopwords.words('english'))]\n",
    "        text = \" \".join(filtered_tokens)\n",
    "        \n",
    "    #lemmatization: typically preferred over stemming\n",
    "    if method == 'L':\n",
    "        lemmer = WordNetLemmatizer()\n",
    "        lemm_tokens = [lemmer.lemmatize(word) for word in word_tokenize(text)]\n",
    "        return \" \".join(lemm_tokens)\n",
    "    \n",
    "    #stemming \n",
    "    if method == 'S':\n",
    "        porter = PorterStemmer()\n",
    "        stem_tokens = [porter.stem(word) for word in word_tokenize(text)]\n",
    "        return \" \".join(stem_tokens)\n",
    "    \n",
    "    return text"
   ]
  },
  {
   "cell_type": "code",
   "execution_count": 81,
   "metadata": {},
   "outputs": [],
   "source": [
    "#preprocessed data: Lemm + stopword removal \n",
    "preprocessed_text_1 = [text_clean(text, 'L', True) for text in X_train]\n",
    "#preprocessed_text_1[0:10]\n",
    "\n",
    "#preprocessed data: Lemm + no stopword removal \n",
    "preprocessed_text_2 = [text_clean(text, 'L', False) for text in X_train]\n",
    "#preprocessed_text_2[0:10]\n",
    "\n",
    "#preprocessed data: Stem + stopword removal \n",
    "preprocessed_text_3 = [text_clean(text, 'S', True) for text in X_train]\n",
    "#preprocessed_text_3[0:10]\n",
    "\n",
    "#preprocessed data: Stem + no stopword removal \n",
    "preprocessed_text_4 = [text_clean(text, 'S', False) for text in X_train]\n",
    "#preprocessed_text_4[0:10]"
   ]
  },
  {
   "cell_type": "markdown",
   "metadata": {},
   "source": [
    "### WE'RE USING RANDOM FORESTS AS OUR CLASSIFIER"
   ]
  },
  {
   "cell_type": "code",
   "execution_count": 125,
   "metadata": {},
   "outputs": [],
   "source": [
    "def transform_model_data_w_count_vectorizer(preprocessed_text, Y_train,  X_test, Y_test):\n",
    "    #vectorize dataset \n",
    "    vectorizer = CountVectorizer()\n",
    "    vectorized_data = vectorizer.fit_transform(preprocessed_text)\n",
    "\n",
    "    #define model\n",
    "    model = MultinomialNB(alpha=0.1)\n",
    "    model.fit(vectorized_data, Y_train)\n",
    "\n",
    "    #evaluate model\n",
    "    predictions = model.predict(vectorizer.transform(X_test))\n",
    "    accuracy = accuracy_score( Y_test, predictions)\n",
    "    balanced_accuracy = balanced_accuracy_score(Y_test, predictions)\n",
    "    precision = precision_score(Y_test, predictions)\n",
    "\n",
    "    print(\"Accuracy:\",round(100*accuracy,2),'%')\n",
    "    print(\"Balanced accuracy:\",round(100*balanced_accuracy,2),'%')\n",
    "    print(\"Precision:\", round(100*precision,2),'%')\n",
    "    return predictions"
   ]
  },
  {
   "cell_type": "code",
   "execution_count": 129,
   "metadata": {},
   "outputs": [],
   "source": [
    "def transform_model_data_w_tfidf_vectorizer(preprocessed_text, Y_train,  X_test, Y_test):\n",
    "    #vectorize dataset \n",
    "    tfidf = TfidfVectorizer() \n",
    "    vectorized_data = tfidf.fit_transform(preprocessed_text)\n",
    "\n",
    "    #define model\n",
    "    model = MultinomialNB(alpha=0.1)\n",
    "    model.fit(vectorized_data, Y_train)\n",
    " \n",
    "    #evaluate model\n",
    "    predictions = model.predict(tfidf.transform(X_test))\n",
    "\n",
    "    accuracy = accuracy_score( Y_test, predictions)\n",
    "    balanced_accuracy = balanced_accuracy_score(Y_test, predictions)\n",
    "    precision = precision_score(Y_test, predictions)\n",
    "\n",
    "    print(\"Accuracy:\",round(100*accuracy,2),'%')\n",
    "    print(\"Balanced accuracy:\",round(100*balanced_accuracy,2),'%')\n",
    "    print(\"Precision:\", round(100*precision,2),'%')\n",
    "    return predictions"
   ]
  },
  {
   "cell_type": "code",
   "execution_count": 124,
   "metadata": {},
   "outputs": [
    {
     "name": "stdout",
     "output_type": "stream",
     "text": [
      "Lemm + stopword removal + CountVectorizer\n",
      "Accuracy: 97.55 %\n",
      "Balanced accuracy: 94.57 %\n",
      "Precision: 90.55 %\n",
      "\n",
      "Lemm + no stopword removal + CountVectorizer\n",
      "Accuracy: 97.42 %\n",
      "Balanced accuracy: 93.86 %\n",
      "Precision: 90.86 %\n",
      "\n",
      "Stem + stopword removal + CountVectorizer\n",
      "Accuracy: 96.91 %\n",
      "Balanced accuracy: 90.6 %\n",
      "Precision: 93.22 %\n",
      "\n",
      "Stem + no stopword removal + CountVectorizer\n",
      "Accuracy: 97.29 %\n",
      "Balanced accuracy: 91.88 %\n",
      "Precision: 93.92 %\n"
     ]
    }
   ],
   "source": [
    "#vectorize, model, and evaluate model using CountVectorizer\n",
    "\n",
    "#Lemm + stopword removal \n",
    "print(\"Lemm + stopword removal + CountVectorizer\") \n",
    "transform_model_data_w_count_vectorizer(preprocessed_text_1, Y_train,  X_test, Y_test)\n",
    "\n",
    "#Lemm + no stopword removal \n",
    "print(\"\\nLemm + no stopword removal + CountVectorizer\") \n",
    "transform_model_data_w_count_vectorizer(preprocessed_text_2, Y_train,  X_test, Y_test)\n",
    "\n",
    "#Stem + stopword removal \n",
    "print(\"\\nStem + stopword removal + CountVectorizer\") \n",
    "transform_model_data_w_count_vectorizer(preprocessed_text_3, Y_train,  X_test, Y_test)\n",
    "\n",
    "#Stem + no stopword removal \n",
    "print(\"\\nStem + no stopword removal + CountVectorizer\") \n",
    "transform_model_data_w_count_vectorizer(preprocessed_text_4, Y_train,  X_test, Y_test)"
   ]
  },
  {
   "cell_type": "code",
   "execution_count": 120,
   "metadata": {},
   "outputs": [
    {
     "name": "stdout",
     "output_type": "stream",
     "text": [
      "Lemm + stopword removal + TfidfVectorizer\n",
      "Accuracy: 97.36 %\n",
      "Balanced accuracy: 91.92 %\n",
      "Precision: 94.44 %\n",
      "\n",
      "Lemm + no stopword removal + TfidfVectorizer\n",
      "Accuracy: 97.61 %\n",
      "Balanced accuracy: 92.07 %\n",
      "Precision: 96.59 %\n",
      "\n",
      "Stem + stopword removal + TfidfVectorizer\n",
      "Accuracy: 96.07 %\n",
      "Balanced accuracy: 85.46 %\n",
      "Precision: 97.95 %\n",
      "\n",
      "Stem + no stopword removal + TfidfVectorizer\n",
      "Accuracy: 96.45 %\n",
      "Balanced accuracy: 86.53 %\n",
      "Precision: 99.32 %\n"
     ]
    }
   ],
   "source": [
    "#vectorize, model, and evaluate model using TfidfVectorizer\n",
    "\n",
    "#Lemm + stopword removal \n",
    "print(\"Lemm + stopword removal + TfidfVectorizer\") \n",
    "transform_model_data_w_tfidf_vectorizer(preprocessed_text_1, Y_train,  X_test, Y_test)\n",
    "\n",
    "#Lemm + no stopword removal \n",
    "print(\"\\nLemm + no stopword removal + TfidfVectorizer\") \n",
    "transform_model_data_w_tfidf_vectorizer(preprocessed_text_2, Y_train,  X_test, Y_test)\n",
    "\n",
    "#Stem + stopword removal \n",
    "print(\"\\nStem + stopword removal + TfidfVectorizer\") \n",
    "transform_model_data_w_tfidf_vectorizer(preprocessed_text_3, Y_train,  X_test, Y_test)\n",
    "\n",
    "#Stem + no stopword removal \n",
    "print(\"\\nStem + no stopword removal + TfidfVectorizer\") \n",
    "transform_model_data_w_tfidf_vectorizer(preprocessed_text_4, Y_train,  X_test, Y_test)"
   ]
  },
  {
   "cell_type": "code",
   "execution_count": 130,
   "metadata": {},
   "outputs": [
    {
     "name": "stdout",
     "output_type": "stream",
     "text": [
      "Accuracy: 96.45 %\n",
      "Balanced accuracy: 86.53 %\n",
      "Precision: 99.32 %\n"
     ]
    }
   ],
   "source": [
    "predictions = transform_model_data_w_tfidf_vectorizer(preprocessed_text_4, Y_train,  X_test, Y_test)"
   ]
  },
  {
   "cell_type": "code",
   "execution_count": 132,
   "metadata": {},
   "outputs": [
    {
     "data": {
      "image/png": "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",
      "text/plain": [
       "<Figure size 640x480 with 2 Axes>"
      ]
     },
     "metadata": {},
     "output_type": "display_data"
    }
   ],
   "source": [
    "#compute the confusion matrix.\n",
    "cm = confusion_matrix(Y_test, predictions)\n",
    "\n",
    " #Plot the confusion matrix.\n",
    "disp = ConfusionMatrixDisplay(confusion_matrix=cm, display_labels=model.classes_)\n",
    "disp.plot()\n",
    "plt.show()"
   ]
  },
  {
   "cell_type": "markdown",
   "metadata": {},
   "source": [
    "## STEP 4b: Evaluation with Performance Metrics -- Alyssa"
   ]
  },
  {
   "cell_type": "markdown",
   "metadata": {},
   "source": [
    "## STEP 5: Undersampling Techniques -- Esther (just write the general blurb for this)"
   ]
  },
  {
   "cell_type": "markdown",
   "metadata": {},
   "source": [
    "### Random Undersampling -- Esther"
   ]
  },
  {
=======
>>>>>>> 3ab5eefa9ad2b3220c35060d08ecc87c07b07adf
   "cell_type": "markdown",
   "metadata": {},
   "source": [
    "###  Near Miss Undersampling -- Ria"
   ]
  },
  {
   "cell_type": "code",
   "execution_count": 39,
   "metadata": {},
   "outputs": [
    {
     "name": "stdout",
     "output_type": "stream",
     "text": [
      "Before Undersampling, counts of label '1': 492\n",
      "Before Undersampling, counts of label '0': 284315 \n",
      "\n",
      "After Undersampling, counts of label '1': 492\n",
      "After Undersampling, counts of label '0': 492\n"
     ]
    }
   ],
   "source": [
    "from imblearn.under_sampling import NearMiss\n",
    "\n",
    "#Splitting the data into features and labels \n",
    "X = cc_data.iloc[:,:30]\n",
    "y = cc_data.iloc[:, 30]\n",
    "\n",
    "near_miss = NearMiss()\n",
    "X_resample, y_resample = near_miss.fit_resample(X,y)\n",
    "\n",
    "print(\"Before Undersampling, counts of label '1': {}\".format(sum(y == 1)))\n",
    "print(\"Before Undersampling, counts of label '0': {} \\n\".format(sum(y == 0))) \n",
    "  \n",
    "print(\"After Undersampling, counts of label '1': {}\".format(sum(y_resample == 1))) \n",
    "print(\"After Undersampling, counts of label '0': {}\".format(sum(y_resample == 0))) "
   ]
  },
  {
   "cell_type": "markdown",
   "metadata": {},
   "source": [
    "### Tomek Link Undersampling -- Miller"
   ]
  },
  {
   "cell_type": "markdown",
   "metadata": {},
   "source": []
  }
 ],
 "metadata": {
  "kernelspec": {
   "display_name": "Python 3 (ipykernel)",
   "language": "python",
   "name": "python3"
  },
  "language_info": {
   "codemirror_mode": {
    "name": "ipython",
    "version": 3
   },
   "file_extension": ".py",
   "mimetype": "text/x-python",
   "name": "python",
   "nbconvert_exporter": "python",
   "pygments_lexer": "ipython3",
<<<<<<< HEAD
   "version": "3.11.4"
  },
  "orig_nbformat": 4
=======
   "version": "3.11.5"
  }
>>>>>>> 3ab5eefa9ad2b3220c35060d08ecc87c07b07adf
 },
 "nbformat": 4,
 "nbformat_minor": 2
}
